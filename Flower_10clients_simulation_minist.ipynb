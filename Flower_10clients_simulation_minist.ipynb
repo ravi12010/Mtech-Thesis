{
  "nbformat": 4,
  "nbformat_minor": 0,
  "metadata": {
    "colab": {
      "provenance": []
    },
    "kernelspec": {
      "name": "python3",
      "display_name": "Python 3"
    },
    "language_info": {
      "name": "python"
    }
  },
  "cells": [
    {
      "cell_type": "code",
      "source": [
        "!pip install --pre flwr[simulation] torch torchvision"
      ],
      "metadata": {
        "colab": {
          "base_uri": "https://localhost:8080/",
          "height": 1000
        },
        "id": "Qnsxg4lK0M8W",
        "outputId": "2405f4e5-eab1-42a9-dcc6-ff7a5948baee"
      },
      "execution_count": null,
      "outputs": [
        {
          "output_type": "stream",
          "name": "stdout",
          "text": [
            "Looking in indexes: https://pypi.org/simple, https://us-python.pkg.dev/colab-wheels/public/simple/\n",
            "Collecting flwr[simulation]\n",
            "  Downloading flwr-1.1.0-py3-none-any.whl (121 kB)\n",
            "\u001b[K     |████████████████████████████████| 121 kB 6.5 MB/s \n",
            "\u001b[?25hRequirement already satisfied: torch in /usr/local/lib/python3.8/dist-packages (1.13.0+cu116)\n",
            "Requirement already satisfied: torchvision in /usr/local/lib/python3.8/dist-packages (0.14.0+cu116)\n",
            "Requirement already satisfied: typing-extensions in /usr/local/lib/python3.8/dist-packages (from torch) (4.4.0)\n",
            "Requirement already satisfied: pillow!=8.3.*,>=5.3.0 in /usr/local/lib/python3.8/dist-packages (from torchvision) (7.1.2)\n",
            "Requirement already satisfied: numpy in /usr/local/lib/python3.8/dist-packages (from torchvision) (1.21.6)\n",
            "Requirement already satisfied: requests in /usr/local/lib/python3.8/dist-packages (from torchvision) (2.23.0)\n",
            "Requirement already satisfied: grpcio<2.0.0,>=1.43.0 in /usr/local/lib/python3.8/dist-packages (from flwr[simulation]) (1.51.1)\n",
            "Collecting iterators<0.0.3,>=0.0.2\n",
            "  Downloading iterators-0.0.2-py3-none-any.whl (3.9 kB)\n",
            "Requirement already satisfied: protobuf<4.0.0,>=3.19.0 in /usr/local/lib/python3.8/dist-packages (from flwr[simulation]) (3.19.6)\n",
            "Collecting ray[default]<2.1.0,>=2.0.0\n",
            "  Downloading ray-2.0.1-cp38-cp38-manylinux2014_x86_64.whl (60.2 MB)\n",
            "\u001b[K     |████████████████████████████████| 60.2 MB 1.4 MB/s \n",
            "\u001b[?25hRequirement already satisfied: pyyaml in /usr/local/lib/python3.8/dist-packages (from ray[default]<2.1.0,>=2.0.0->flwr[simulation]) (6.0)\n",
            "Requirement already satisfied: attrs in /usr/local/lib/python3.8/dist-packages (from ray[default]<2.1.0,>=2.0.0->flwr[simulation]) (22.1.0)\n",
            "Requirement already satisfied: frozenlist in /usr/local/lib/python3.8/dist-packages (from ray[default]<2.1.0,>=2.0.0->flwr[simulation]) (1.3.3)\n",
            "Collecting virtualenv\n",
            "  Downloading virtualenv-20.17.1-py3-none-any.whl (8.8 MB)\n",
            "\u001b[K     |████████████████████████████████| 8.8 MB 10.5 MB/s \n",
            "\u001b[?25hRequirement already satisfied: filelock in /usr/local/lib/python3.8/dist-packages (from ray[default]<2.1.0,>=2.0.0->flwr[simulation]) (3.8.0)\n",
            "Collecting grpcio<2.0.0,>=1.43.0\n",
            "  Downloading grpcio-1.43.0-cp38-cp38-manylinux_2_17_x86_64.manylinux2014_x86_64.whl (4.1 MB)\n",
            "\u001b[K     |████████████████████████████████| 4.1 MB 47.4 MB/s \n",
            "\u001b[?25hRequirement already satisfied: msgpack<2.0.0,>=1.0.0 in /usr/local/lib/python3.8/dist-packages (from ray[default]<2.1.0,>=2.0.0->flwr[simulation]) (1.0.4)\n",
            "Requirement already satisfied: aiosignal in /usr/local/lib/python3.8/dist-packages (from ray[default]<2.1.0,>=2.0.0->flwr[simulation]) (1.3.1)\n",
            "Requirement already satisfied: jsonschema in /usr/local/lib/python3.8/dist-packages (from ray[default]<2.1.0,>=2.0.0->flwr[simulation]) (4.3.3)\n",
            "Requirement already satisfied: click<=8.0.4,>=7.0 in /usr/local/lib/python3.8/dist-packages (from ray[default]<2.1.0,>=2.0.0->flwr[simulation]) (7.1.2)\n",
            "Collecting aiohttp-cors\n",
            "  Downloading aiohttp_cors-0.7.0-py3-none-any.whl (27 kB)\n",
            "Collecting colorful\n",
            "  Downloading colorful-0.6.0a1-py2.py3-none-any.whl (202 kB)\n",
            "\u001b[K     |████████████████████████████████| 202 kB 46.2 MB/s \n",
            "\u001b[?25hCollecting opencensus\n",
            "  Downloading opencensus-0.11.0-py2.py3-none-any.whl (128 kB)\n",
            "\u001b[K     |████████████████████████████████| 128 kB 45.9 MB/s \n",
            "\u001b[?25hCollecting gpustat>=1.0.0b1\n",
            "  Downloading gpustat-1.0.0.tar.gz (90 kB)\n",
            "\u001b[K     |████████████████████████████████| 90 kB 4.8 MB/s \n",
            "\u001b[?25hCollecting prometheus-client<0.14.0,>=0.7.1\n",
            "  Downloading prometheus_client-0.13.1-py3-none-any.whl (57 kB)\n",
            "\u001b[K     |████████████████████████████████| 57 kB 3.5 MB/s \n",
            "\u001b[?25hRequirement already satisfied: smart-open in /usr/local/lib/python3.8/dist-packages (from ray[default]<2.1.0,>=2.0.0->flwr[simulation]) (5.2.1)\n",
            "Requirement already satisfied: aiohttp>=3.7 in /usr/local/lib/python3.8/dist-packages (from ray[default]<2.1.0,>=2.0.0->flwr[simulation]) (3.8.3)\n",
            "Requirement already satisfied: pydantic in /usr/local/lib/python3.8/dist-packages (from ray[default]<2.1.0,>=2.0.0->flwr[simulation]) (1.10.2)\n",
            "Collecting py-spy>=0.2.0\n",
            "  Downloading py_spy-0.4.0_dev2-py2.py3-none-manylinux_2_5_x86_64.manylinux1_x86_64.whl (2.9 MB)\n",
            "\u001b[K     |████████████████████████████████| 2.9 MB 55.8 MB/s \n",
            "\u001b[?25hRequirement already satisfied: charset-normalizer<3.0,>=2.0 in /usr/local/lib/python3.8/dist-packages (from aiohttp>=3.7->ray[default]<2.1.0,>=2.0.0->flwr[simulation]) (2.1.1)\n",
            "Requirement already satisfied: yarl<2.0,>=1.0 in /usr/local/lib/python3.8/dist-packages (from aiohttp>=3.7->ray[default]<2.1.0,>=2.0.0->flwr[simulation]) (1.8.2)\n",
            "Requirement already satisfied: async-timeout<5.0,>=4.0.0a3 in /usr/local/lib/python3.8/dist-packages (from aiohttp>=3.7->ray[default]<2.1.0,>=2.0.0->flwr[simulation]) (4.0.2)\n",
            "Requirement already satisfied: multidict<7.0,>=4.5 in /usr/local/lib/python3.8/dist-packages (from aiohttp>=3.7->ray[default]<2.1.0,>=2.0.0->flwr[simulation]) (6.0.3)\n",
            "Requirement already satisfied: six>=1.7 in /usr/local/lib/python3.8/dist-packages (from gpustat>=1.0.0b1->ray[default]<2.1.0,>=2.0.0->flwr[simulation]) (1.15.0)\n",
            "Collecting nvidia-ml-py<=11.495.46,>=11.450.129\n",
            "  Downloading nvidia_ml_py-11.495.46-py3-none-any.whl (25 kB)\n",
            "Collecting psutil>=5.6.0\n",
            "  Downloading psutil-5.9.4-cp36-abi3-manylinux_2_12_x86_64.manylinux2010_x86_64.manylinux_2_17_x86_64.manylinux2014_x86_64.whl (280 kB)\n",
            "\u001b[K     |████████████████████████████████| 280 kB 46.3 MB/s \n",
            "\u001b[?25hCollecting blessed>=1.17.1\n",
            "  Downloading blessed-1.19.1-py2.py3-none-any.whl (58 kB)\n",
            "\u001b[K     |████████████████████████████████| 58 kB 2.4 MB/s \n",
            "\u001b[?25hRequirement already satisfied: wcwidth>=0.1.4 in /usr/local/lib/python3.8/dist-packages (from blessed>=1.17.1->gpustat>=1.0.0b1->ray[default]<2.1.0,>=2.0.0->flwr[simulation]) (0.2.5)\n",
            "Requirement already satisfied: idna>=2.0 in /usr/local/lib/python3.8/dist-packages (from yarl<2.0,>=1.0->aiohttp>=3.7->ray[default]<2.1.0,>=2.0.0->flwr[simulation]) (2.10)\n",
            "Requirement already satisfied: pyrsistent!=0.17.0,!=0.17.1,!=0.17.2,>=0.14.0 in /usr/local/lib/python3.8/dist-packages (from jsonschema->ray[default]<2.1.0,>=2.0.0->flwr[simulation]) (0.19.2)\n",
            "Requirement already satisfied: importlib-resources>=1.4.0 in /usr/local/lib/python3.8/dist-packages (from jsonschema->ray[default]<2.1.0,>=2.0.0->flwr[simulation]) (5.10.0)\n",
            "Requirement already satisfied: zipp>=3.1.0 in /usr/local/lib/python3.8/dist-packages (from importlib-resources>=1.4.0->jsonschema->ray[default]<2.1.0,>=2.0.0->flwr[simulation]) (3.11.0)\n",
            "Requirement already satisfied: google-api-core<3.0.0,>=1.0.0 in /usr/local/lib/python3.8/dist-packages (from opencensus->ray[default]<2.1.0,>=2.0.0->flwr[simulation]) (2.8.2)\n",
            "Collecting opencensus-context>=0.1.3\n",
            "  Downloading opencensus_context-0.2.dev0-py2.py3-none-any.whl (4.5 kB)\n",
            "Requirement already satisfied: googleapis-common-protos<2.0dev,>=1.56.2 in /usr/local/lib/python3.8/dist-packages (from google-api-core<3.0.0,>=1.0.0->opencensus->ray[default]<2.1.0,>=2.0.0->flwr[simulation]) (1.57.0)\n",
            "Requirement already satisfied: google-auth<3.0dev,>=1.25.0 in /usr/local/lib/python3.8/dist-packages (from google-api-core<3.0.0,>=1.0.0->opencensus->ray[default]<2.1.0,>=2.0.0->flwr[simulation]) (2.15.0)\n",
            "Requirement already satisfied: rsa<5,>=3.1.4 in /usr/local/lib/python3.8/dist-packages (from google-auth<3.0dev,>=1.25.0->google-api-core<3.0.0,>=1.0.0->opencensus->ray[default]<2.1.0,>=2.0.0->flwr[simulation]) (4.9)\n",
            "Requirement already satisfied: pyasn1-modules>=0.2.1 in /usr/local/lib/python3.8/dist-packages (from google-auth<3.0dev,>=1.25.0->google-api-core<3.0.0,>=1.0.0->opencensus->ray[default]<2.1.0,>=2.0.0->flwr[simulation]) (0.2.8)\n",
            "Requirement already satisfied: cachetools<6.0,>=2.0.0 in /usr/local/lib/python3.8/dist-packages (from google-auth<3.0dev,>=1.25.0->google-api-core<3.0.0,>=1.0.0->opencensus->ray[default]<2.1.0,>=2.0.0->flwr[simulation]) (5.2.0)\n",
            "Requirement already satisfied: pyasn1<0.5.0,>=0.4.6 in /usr/local/lib/python3.8/dist-packages (from pyasn1-modules>=0.2.1->google-auth<3.0dev,>=1.25.0->google-api-core<3.0.0,>=1.0.0->opencensus->ray[default]<2.1.0,>=2.0.0->flwr[simulation]) (0.4.8)\n",
            "Requirement already satisfied: chardet<4,>=3.0.2 in /usr/local/lib/python3.8/dist-packages (from requests->torchvision) (3.0.4)\n",
            "Requirement already satisfied: certifi>=2017.4.17 in /usr/local/lib/python3.8/dist-packages (from requests->torchvision) (2022.9.24)\n",
            "Requirement already satisfied: urllib3!=1.25.0,!=1.25.1,<1.26,>=1.21.1 in /usr/local/lib/python3.8/dist-packages (from requests->torchvision) (1.24.3)\n",
            "Requirement already satisfied: platformdirs<3,>=2.4 in /usr/local/lib/python3.8/dist-packages (from virtualenv->ray[default]<2.1.0,>=2.0.0->flwr[simulation]) (2.5.4)\n",
            "Collecting distlib<1,>=0.3.6\n",
            "  Downloading distlib-0.3.6-py2.py3-none-any.whl (468 kB)\n",
            "\u001b[K     |████████████████████████████████| 468 kB 57.9 MB/s \n",
            "\u001b[?25hBuilding wheels for collected packages: gpustat\n",
            "  Building wheel for gpustat (setup.py) ... \u001b[?25l\u001b[?25hdone\n",
            "  Created wheel for gpustat: filename=gpustat-1.0.0-py3-none-any.whl size=19887 sha256=371aa42e40b515eecc756279a09c28002ce08788a08ffdedba4e345f7bf65013\n",
            "  Stored in directory: /root/.cache/pip/wheels/1b/ed/14/0d513c962b25da841c42022cb5847c2ef835902c8563b8fb01\n",
            "Successfully built gpustat\n",
            "Installing collected packages: distlib, virtualenv, psutil, opencensus-context, nvidia-ml-py, grpcio, blessed, ray, py-spy, prometheus-client, opencensus, iterators, gpustat, colorful, aiohttp-cors, flwr\n",
            "  Attempting uninstall: psutil\n",
            "    Found existing installation: psutil 5.4.8\n",
            "    Uninstalling psutil-5.4.8:\n",
            "      Successfully uninstalled psutil-5.4.8\n",
            "  Attempting uninstall: grpcio\n",
            "    Found existing installation: grpcio 1.51.1\n",
            "    Uninstalling grpcio-1.51.1:\n",
            "      Successfully uninstalled grpcio-1.51.1\n",
            "  Attempting uninstall: prometheus-client\n",
            "    Found existing installation: prometheus-client 0.15.0\n",
            "    Uninstalling prometheus-client-0.15.0:\n",
            "      Successfully uninstalled prometheus-client-0.15.0\n",
            "\u001b[31mERROR: pip's dependency resolver does not currently take into account all the packages that are installed. This behaviour is the source of the following dependency conflicts.\n",
            "grpcio-status 1.48.2 requires grpcio>=1.48.2, but you have grpcio 1.43.0 which is incompatible.\n",
            "google-cloud-bigquery 3.3.6 requires grpcio<2.0dev,>=1.47.0, but you have grpcio 1.43.0 which is incompatible.\u001b[0m\n",
            "Successfully installed aiohttp-cors-0.7.0 blessed-1.19.1 colorful-0.6.0a1 distlib-0.3.6 flwr-1.1.0 gpustat-1.0.0 grpcio-1.43.0 iterators-0.0.2 nvidia-ml-py-11.495.46 opencensus-0.11.0 opencensus-context-0.2.dev0 prometheus-client-0.13.1 psutil-5.9.4 py-spy-0.4.0.dev2 ray-2.0.1 virtualenv-20.17.1\n"
          ]
        },
        {
          "output_type": "display_data",
          "data": {
            "application/vnd.colab-display-data+json": {
              "pip_warning": {
                "packages": [
                  "psutil"
                ]
              }
            }
          },
          "metadata": {}
        }
      ]
    },
    {
      "cell_type": "code",
      "execution_count": null,
      "metadata": {
        "colab": {
          "base_uri": "https://localhost:8080/"
        },
        "id": "Ng8Y4OcJz_QV",
        "outputId": "4a22677d-6727-40bd-f50c-b61ecccba23d"
      },
      "outputs": [
        {
          "output_type": "stream",
          "name": "stdout",
          "text": [
            "Training on cpu\n"
          ]
        }
      ],
      "source": [
        "from collections import OrderedDict\n",
        "from typing import Dict, List, Optional, Tuple\n",
        "\n",
        "import flwr as fl\n",
        "import numpy as np\n",
        "import torch\n",
        "import torch.nn as nn\n",
        "import torch.nn.functional as F\n",
        "import torchvision.transforms as transforms\n",
        "from torch.utils.data import DataLoader, random_split\n",
        "from torchvision.datasets import CIFAR10\n",
        "from torchvision import transforms,datasets\n",
        "\n",
        "DEVICE = torch.device(\"cpu\")\n",
        "# DEVICE = torch.device(\"cuda:0\" if torch.cuda.is_available() else \"cpu\")\n",
        "print(f\"Training on {DEVICE}\")"
      ]
    },
    {
      "cell_type": "code",
      "source": [
        "!pip install mxnet"
      ],
      "metadata": {
        "colab": {
          "base_uri": "https://localhost:8080/"
        },
        "id": "CItvou_heAjR",
        "outputId": "f83164a3-c973-429b-e1b8-0e1aa9a4c049"
      },
      "execution_count": null,
      "outputs": [
        {
          "output_type": "stream",
          "name": "stdout",
          "text": [
            "Looking in indexes: https://pypi.org/simple, https://us-python.pkg.dev/colab-wheels/public/simple/\n",
            "Collecting mxnet\n",
            "  Downloading mxnet-1.9.1-py3-none-manylinux2014_x86_64.whl (49.1 MB)\n",
            "\u001b[K     |████████████████████████████████| 49.1 MB 1.2 MB/s \n",
            "\u001b[?25hCollecting graphviz<0.9.0,>=0.8.1\n",
            "  Downloading graphviz-0.8.4-py2.py3-none-any.whl (16 kB)\n",
            "Requirement already satisfied: numpy<2.0.0,>1.16.0 in /usr/local/lib/python3.8/dist-packages (from mxnet) (1.21.6)\n",
            "Requirement already satisfied: requests<3,>=2.20.0 in /usr/local/lib/python3.8/dist-packages (from mxnet) (2.23.0)\n",
            "Requirement already satisfied: chardet<4,>=3.0.2 in /usr/local/lib/python3.8/dist-packages (from requests<3,>=2.20.0->mxnet) (3.0.4)\n",
            "Requirement already satisfied: urllib3!=1.25.0,!=1.25.1,<1.26,>=1.21.1 in /usr/local/lib/python3.8/dist-packages (from requests<3,>=2.20.0->mxnet) (1.24.3)\n",
            "Requirement already satisfied: idna<3,>=2.5 in /usr/local/lib/python3.8/dist-packages (from requests<3,>=2.20.0->mxnet) (2.10)\n",
            "Requirement already satisfied: certifi>=2017.4.17 in /usr/local/lib/python3.8/dist-packages (from requests<3,>=2.20.0->mxnet) (2022.9.24)\n",
            "Installing collected packages: graphviz, mxnet\n",
            "  Attempting uninstall: graphviz\n",
            "    Found existing installation: graphviz 0.10.1\n",
            "    Uninstalling graphviz-0.10.1:\n",
            "      Successfully uninstalled graphviz-0.10.1\n",
            "Successfully installed graphviz-0.8.4 mxnet-1.9.1\n"
          ]
        }
      ]
    },
    {
      "cell_type": "code",
      "source": [
        "import flwr as fl\n",
        "\n",
        "import numpy as np\n",
        "\n",
        "import mxnet as mx\n",
        "from mxnet import nd\n",
        "from mxnet import gluon\n",
        "#from mxnet.gluon import nn\n",
        "from mxnet import autograd as ag\n",
        "import mxnet.ndarray as F"
      ],
      "metadata": {
        "id": "h2vkpiUnbaVL"
      },
      "execution_count": null,
      "outputs": []
    },
    {
      "cell_type": "markdown",
      "source": [
        "**Data loading**\n",
        "\n",
        "load the MINIST training and test set, partition them into ten smaller datasets (each split into training and validation set),"
      ],
      "metadata": {
        "id": "nuTBjfuf0LdP"
      }
    },
    {
      "cell_type": "code",
      "source": [
        "def load_data():\n",
        "    print(\"Download Dataset\")\n",
        "    mnist = mx.test_utils.get_mnist()\n",
        "    batch_size = 100\n",
        "    train_data = mx.io.NDArrayIter(\n",
        "        mnist[\"train_data\"], mnist[\"train_label\"], batch_size, shuffle=True\n",
        "    )\n",
        "    val_data = mx.io.NDArrayIter(mnist[\"test_data\"], mnist[\"test_label\"], batch_size)\n",
        "    return train_data, val_data"
      ],
      "metadata": {
        "id": "MnPg8heBLsSI"
      },
      "execution_count": null,
      "outputs": []
    },
    {
      "cell_type": "code",
      "source": [
        "class Net(nn.Module):\n",
        "    def __init__(self) -> None:\n",
        "        super(Net, self).__init__()\n",
        "        self.conv1 = nn.Conv2d(3, 6, 5)\n",
        "        self.pool = nn.MaxPool2d(2, 2)\n",
        "        self.conv2 = nn.Conv2d(6, 16, 5)\n",
        "        self.fc1 = nn.Linear(16 * 5 * 5, 120)\n",
        "        self.fc2 = nn.Linear(120, 84)\n",
        "        self.fc3 = nn.Linear(84, 10)\n",
        "\n",
        "    def forward(self, x: torch.Tensor) -> torch.Tensor:\n",
        "        x = self.pool(F.relu(self.conv1(x)))\n",
        "        x = self.pool(F.relu(self.conv2(x)))\n",
        "        x = x.view(-1, 16 * 5 * 5)\n",
        "        x = F.relu(self.fc1(x))\n",
        "        x = F.relu(self.fc2(x))\n",
        "        x = self.fc3(x)\n",
        "        return x\n",
        "def get_parameters(net) -> List[np.ndarray]:\n",
        "    return [val.cpu().numpy() for _, val in net.state_dict().items()]"
      ],
      "metadata": {
        "colab": {
          "base_uri": "https://localhost:8080/",
          "height": 235
        },
        "id": "jyr1DfTO53Wi",
        "outputId": "f5626e74-fbcb-4f5b-dacf-8e6a7ca009f1"
      },
      "execution_count": null,
      "outputs": [
        {
          "output_type": "error",
          "ename": "AttributeError",
          "evalue": "ignored",
          "traceback": [
            "\u001b[0;31m---------------------------------------------------------------------------\u001b[0m",
            "\u001b[0;31mAttributeError\u001b[0m                            Traceback (most recent call last)",
            "\u001b[0;32m<ipython-input-8-1f0cfbb1655d>\u001b[0m in \u001b[0;36m<module>\u001b[0;34m\u001b[0m\n\u001b[0;32m----> 1\u001b[0;31m \u001b[0;32mclass\u001b[0m \u001b[0mNet\u001b[0m\u001b[0;34m(\u001b[0m\u001b[0mnn\u001b[0m\u001b[0;34m.\u001b[0m\u001b[0mModule\u001b[0m\u001b[0;34m)\u001b[0m\u001b[0;34m:\u001b[0m\u001b[0;34m\u001b[0m\u001b[0;34m\u001b[0m\u001b[0m\n\u001b[0m\u001b[1;32m      2\u001b[0m     \u001b[0;32mdef\u001b[0m \u001b[0m__init__\u001b[0m\u001b[0;34m(\u001b[0m\u001b[0mself\u001b[0m\u001b[0;34m)\u001b[0m \u001b[0;34m->\u001b[0m \u001b[0;32mNone\u001b[0m\u001b[0;34m:\u001b[0m\u001b[0;34m\u001b[0m\u001b[0;34m\u001b[0m\u001b[0m\n\u001b[1;32m      3\u001b[0m         \u001b[0msuper\u001b[0m\u001b[0;34m(\u001b[0m\u001b[0mNet\u001b[0m\u001b[0;34m,\u001b[0m \u001b[0mself\u001b[0m\u001b[0;34m)\u001b[0m\u001b[0;34m.\u001b[0m\u001b[0m__init__\u001b[0m\u001b[0;34m(\u001b[0m\u001b[0;34m)\u001b[0m\u001b[0;34m\u001b[0m\u001b[0;34m\u001b[0m\u001b[0m\n\u001b[1;32m      4\u001b[0m         \u001b[0mself\u001b[0m\u001b[0;34m.\u001b[0m\u001b[0mconv1\u001b[0m \u001b[0;34m=\u001b[0m \u001b[0mnn\u001b[0m\u001b[0;34m.\u001b[0m\u001b[0mConv2d\u001b[0m\u001b[0;34m(\u001b[0m\u001b[0;36m3\u001b[0m\u001b[0;34m,\u001b[0m \u001b[0;36m6\u001b[0m\u001b[0;34m,\u001b[0m \u001b[0;36m5\u001b[0m\u001b[0;34m)\u001b[0m\u001b[0;34m\u001b[0m\u001b[0;34m\u001b[0m\u001b[0m\n\u001b[1;32m      5\u001b[0m         \u001b[0mself\u001b[0m\u001b[0;34m.\u001b[0m\u001b[0mpool\u001b[0m \u001b[0;34m=\u001b[0m \u001b[0mnn\u001b[0m\u001b[0;34m.\u001b[0m\u001b[0mMaxPool2d\u001b[0m\u001b[0;34m(\u001b[0m\u001b[0;36m2\u001b[0m\u001b[0;34m,\u001b[0m \u001b[0;36m2\u001b[0m\u001b[0;34m)\u001b[0m\u001b[0;34m\u001b[0m\u001b[0;34m\u001b[0m\u001b[0m\n",
            "\u001b[0;31mAttributeError\u001b[0m: module 'mxnet.gluon.nn' has no attribute 'Module'"
          ]
        }
      ]
    },
    {
      "cell_type": "code",
      "source": [
        "def train(net, train_data, epoch):\n",
        "    trainer = gluon.Trainer(net.collect_params(), \"sgd\", {\"learning_rate\": 0.03})\n",
        "    trainer = gluon.Trainer(net.collect_params(), \"sgd\", {\"learning_rate\": 0.01})\n",
        "    accuracy_metric = mx.metric.Accuracy()\n",
        "    loss_metric = mx.metric.CrossEntropy()\n",
        "    metrics = mx.metric.CompositeEvalMetric()\n",
        "    for child_metric in [accuracy_metric, loss_metric]:\n",
        "        metrics.add(child_metric)\n",
        "    softmax_cross_entropy_loss = gluon.loss.SoftmaxCrossEntropyLoss()\n",
        "    for i in range(epoch):\n",
        "        train_data.reset()\n",
        "        num_examples = 0\n",
        "        for batch in train_data:\n",
        "            data = gluon.utils.split_and_load(\n",
        "                batch.data[0], ctx_list=DEVICE, batch_axis=0\n",
        "            )\n",
        "            label = gluon.utils.split_and_load(\n",
        "                batch.label[0], ctx_list=DEVICE, batch_axis=0\n",
        "            )\n",
        "            outputs = []\n",
        "            with ag.record():\n",
        "                for x, y in zip(data, label):\n",
        "                    z = net(x)\n",
        "                    loss = softmax_cross_entropy_loss(z, y)\n",
        "                    loss.backward()\n",
        "                    outputs.append(z.softmax())\n",
        "                    num_examples += len(x)\n",
        "            metrics.update(label, outputs)\n",
        "            trainer.step(batch.data[0].shape[0])\n",
        "        trainings_metric = metrics.get_name_value()\n",
        "        print(\"Accuracy & loss at epoch %d: %s\" % (i, trainings_metric))\n",
        "    return trainings_metric, num_examples"
      ],
      "metadata": {
        "id": "fhSW2VQQbgDZ"
      },
      "execution_count": null,
      "outputs": []
    },
    {
      "cell_type": "code",
      "source": [
        "def test(net, val_data):\n",
        "    accuracy_metric = mx.metric.Accuracy()\n",
        "    loss_metric = mx.metric.CrossEntropy()\n",
        "    metrics = mx.metric.CompositeEvalMetric()\n",
        "    for child_metric in [accuracy_metric, loss_metric]:\n",
        "        metrics.add(child_metric)\n",
        "    val_data.reset()\n",
        "    num_examples = 0\n",
        "    for batch in val_data:\n",
        "        data = gluon.utils.split_and_load(batch.data[0], ctx_list=DEVICE, batch_axis=0)\n",
        "        label = gluon.utils.split_and_load(\n",
        "            batch.label[0], ctx_list=DEVICE, batch_axis=0\n",
        "        )\n",
        "        outputs = []\n",
        "        for x in data:\n",
        "            outputs.append(net(x).softmax())\n",
        "            num_examples += len(x)\n",
        "        metrics.update(label, outputs)\n",
        "    return metrics.get_name_value(), num_examples"
      ],
      "metadata": {
        "id": "YHQKIPHwbj15"
      },
      "execution_count": null,
      "outputs": []
    },
    {
      "cell_type": "code",
      "source": [
        "def model():\n",
        "        net = nn.Sequential()\n",
        "        net.add(nn.Dense(256, activation=\"relu\"))\n",
        "        net.add(nn.Dense(64, activation=\"relu\"))\n",
        "        net.add(nn.Dense(10))\n",
        "        net.collect_params().initialize()\n",
        "        return net\n",
        "\n",
        "train_data, val_data = load_data()\n",
        "model = model()\n",
        "init = nd.random.uniform(shape=(2, 784))\n",
        "model(init)"
      ],
      "metadata": {
        "id": "GlOO5ETDcYCx",
        "colab": {
          "base_uri": "https://localhost:8080/"
        },
        "outputId": "3fa6fced-7575-4ef0-cb0a-7168cb4a7add"
      },
      "execution_count": null,
      "outputs": [
        {
          "output_type": "stream",
          "name": "stdout",
          "text": [
            "Download Dataset\n"
          ]
        },
        {
          "output_type": "execute_result",
          "data": {
            "text/plain": [
              "\n",
              "[[ 0.07482339  0.09420933 -0.07777496  0.05022365  0.08829703  0.0160242\n",
              "  -0.04883336  0.00591361 -0.0550326  -0.02180044]\n",
              " [ 0.09676319  0.09415793  0.00016178  0.12114869  0.01692984  0.13084413\n",
              "  -0.09184331  0.00317635 -0.11337912 -0.08721504]]\n",
              "<NDArray 2x10 @cpu(0)>"
            ]
          },
          "metadata": {},
          "execution_count": 27
        }
      ]
    },
    {
      "cell_type": "code",
      "source": [
        "class MNISTClient(fl.client.NumPyClient):\n",
        "    def get_parameters(self, config):\n",
        "        param = []\n",
        "        for val in model.collect_params(\".*weight\").values():\n",
        "            p = val.data()\n",
        "            param.append(p.asnumpy())\n",
        "        return param\n",
        "\n",
        "    def set_parameters(self, parameters):\n",
        "        params = zip(model.collect_params(\".*weight\").keys(), parameters)\n",
        "        for key, value in params:\n",
        "            model.collect_params().setattr(key, value)\n",
        "\n",
        "    def fit(self, parameters, config):\n",
        "        self.set_parameters(parameters)\n",
        "        [accuracy, loss], num_examples = train(model, train_data, epoch=2)\n",
        "        results = {\"accuracy\": float(accuracy[1]), \"loss\": float(loss[1])}\n",
        "        return self.get_parameters(config={}), num_examples, results\n",
        "\n",
        "    def evaluate(self, parameters, config):\n",
        "        self.set_parameters(parameters)\n",
        "        [accuracy, loss], num_examples = test(model, val_data)\n",
        "        print(\"Evaluation accuracy & loss\", accuracy, loss)\n",
        "        return float(loss[1]), val_data.batch_size, {\"accuracy\": float(accuracy[1])}"
      ],
      "metadata": {
        "id": "0mEjUOuYcnyN"
      },
      "execution_count": null,
      "outputs": []
    },
    {
      "cell_type": "markdown",
      "source": [
        "**Model training/evaluation**"
      ],
      "metadata": {
        "id": "mxSYaECh05Ya"
      }
    },
    {
      "cell_type": "markdown",
      "source": [
        "**Flower client**"
      ],
      "metadata": {
        "id": "5Njrqiy_1Gqk"
      }
    },
    {
      "cell_type": "markdown",
      "source": [
        "**Server-side parameter initialization**\n",
        "\n",
        "Flower, by default, initializes the global model by asking one random client for the initial parameters. In many cases, we want more control over parameter initialization though. Flower therefore allows you to directly pass the initial parameters to the Strategy:"
      ],
      "metadata": {
        "id": "LsnDnmLQ1Rh-"
      }
    },
    {
      "cell_type": "code",
      "source": [
        "# Create an instance of the model and get the parameters\n",
        "params = get_parameters(Net())\n",
        "\n",
        "# Pass parameters to the Strategy for server-side parameter initialization\n",
        "strategy = fl.server.strategy.FedAvg(\n",
        "    fraction_fit=0.3,\n",
        "    fraction_evaluate=0.3,\n",
        "    min_fit_clients=3,\n",
        "    min_evaluate_clients=3,\n",
        "    min_available_clients=10,\n",
        "    initial_parameters=fl.common.ndarrays_to_parameters(params),\n",
        ")\n",
        "\n",
        "# Start simulation\n",
        "fl.simulation.start_simulation(\n",
        "    client_fn=client_fn,\n",
        "    num_clients=10,\n",
        "    config=fl.server.ServerConfig(num_rounds=3),  # Just three rounds\n",
        "    strategy=strategy,\n",
        ")"
      ],
      "metadata": {
        "colab": {
          "base_uri": "https://localhost:8080/",
          "height": 235
        },
        "id": "QZpsltvU1ri6",
        "outputId": "d55546bf-e786-4c64-8689-bba1323d7f29"
      },
      "execution_count": null,
      "outputs": [
        {
          "output_type": "error",
          "ename": "NameError",
          "evalue": "ignored",
          "traceback": [
            "\u001b[0;31m---------------------------------------------------------------------------\u001b[0m",
            "\u001b[0;31mNameError\u001b[0m                                 Traceback (most recent call last)",
            "\u001b[0;32m<ipython-input-29-610857d51874>\u001b[0m in \u001b[0;36m<module>\u001b[0;34m\u001b[0m\n\u001b[1;32m      1\u001b[0m \u001b[0;31m# Create an instance of the model and get the parameters\u001b[0m\u001b[0;34m\u001b[0m\u001b[0;34m\u001b[0m\u001b[0;34m\u001b[0m\u001b[0m\n\u001b[0;32m----> 2\u001b[0;31m \u001b[0mparams\u001b[0m \u001b[0;34m=\u001b[0m \u001b[0mget_parameters\u001b[0m\u001b[0;34m(\u001b[0m\u001b[0mNet\u001b[0m\u001b[0;34m(\u001b[0m\u001b[0;34m)\u001b[0m\u001b[0;34m)\u001b[0m\u001b[0;34m\u001b[0m\u001b[0;34m\u001b[0m\u001b[0m\n\u001b[0m\u001b[1;32m      3\u001b[0m \u001b[0;34m\u001b[0m\u001b[0m\n\u001b[1;32m      4\u001b[0m \u001b[0;31m# Pass parameters to the Strategy for server-side parameter initialization\u001b[0m\u001b[0;34m\u001b[0m\u001b[0;34m\u001b[0m\u001b[0;34m\u001b[0m\u001b[0m\n\u001b[1;32m      5\u001b[0m strategy = fl.server.strategy.FedAvg(\n",
            "\u001b[0;31mNameError\u001b[0m: name 'Net' is not defined"
          ]
        }
      ]
    },
    {
      "cell_type": "markdown",
      "source": [
        "**Starting with a customized strategy**\n",
        "\n",
        "We've seen the function start_simulation before. It accepts a number of arguments, amongst them the client_fn used to create FlowerClient instances, the number of clients to simulate num_clients, the number of rounds num_rounds, and the strategy."
      ],
      "metadata": {
        "id": "QZ_6ElO11wE0"
      }
    },
    {
      "cell_type": "code",
      "source": [
        "# Create FedAdam strategy\n",
        "strategy=fl.server.strategy.FedAdagrad(\n",
        "    fraction_fit=0.3,\n",
        "    fraction_evaluate=0.3,\n",
        "    min_fit_clients=3,\n",
        "    min_evaluate_clients=3,\n",
        "    min_available_clients=NUM_CLIENTS,\n",
        "    initial_parameters=fl.common.ndarrays_to_parameters(get_parameters(Net())),\n",
        ")\n",
        "\n",
        "# Start simulation\n",
        "fl.simulation.start_simulation(\n",
        "    client_fn=client_fn,\n",
        "    num_clients=NUM_CLIENTS,\n",
        "    config=fl.server.ServerConfig(num_rounds=3),  # Just three rounds\n",
        "    strategy=strategy,\n",
        ")"
      ],
      "metadata": {
        "id": "ET4GFtlb17-s"
      },
      "execution_count": null,
      "outputs": []
    },
    {
      "cell_type": "markdown",
      "source": [
        "**Scaling federated learning**"
      ],
      "metadata": {
        "id": "C9wADOva3fjF"
      }
    },
    {
      "cell_type": "code",
      "source": [
        "NUM_CLIENTS = 1000\n",
        "\n",
        "trainloaders, valloaders, testloader = load_datasets(NUM_CLIENTS)"
      ],
      "metadata": {
        "id": "9iG8sUj33iVI"
      },
      "execution_count": null,
      "outputs": []
    },
    {
      "cell_type": "markdown",
      "source": [
        "adjust the fraction of clients selected for training during each round (we don't want all 1000 clients participating in every round), so we adjust fraction_fit to 0.05, which means that only 5% of available clients (so 50 clients) will be selected for training each round:"
      ],
      "metadata": {
        "id": "zwF2ObjY4L5a"
      }
    },
    {
      "cell_type": "code",
      "source": [
        "def fit_config(server_round: int):\n",
        "    config = {\n",
        "        \"server_round\": server_round,\n",
        "        \"local_epochs\": 3,\n",
        "    }\n",
        "    return config\n",
        "\n",
        "strategy = fl.server.strategy.FedAvg(\n",
        "    fraction_fit=0.025,  # Train on 25 clients (each round)\n",
        "    fraction_evaluate=0.05,  # Evaluate on 50 clients (each round)\n",
        "    min_fit_clients=20,\n",
        "    min_evaluate_clients=40,\n",
        "    min_available_clients=10,\n",
        "    initial_parameters=fl.common.ndarrays_to_parameters(get_parameters(Net())),\n",
        "    on_fit_config_fn=fit_config,\n",
        ")\n",
        "\n",
        "fl.simulation.start_simulation(\n",
        "    client_fn=client_fn,\n",
        "    num_clients=10,\n",
        "    config=fl.server.ServerConfig(num_rounds=3),  # Just three rounds\n",
        "    strategy=strategy,\n",
        ")"
      ],
      "metadata": {
        "id": "BWX3Wmbx4MlB",
        "colab": {
          "base_uri": "https://localhost:8080/",
          "height": 235
        },
        "outputId": "82f397d7-a06c-4368-d486-0bcd9c727928"
      },
      "execution_count": null,
      "outputs": [
        {
          "output_type": "error",
          "ename": "NameError",
          "evalue": "ignored",
          "traceback": [
            "\u001b[0;31m---------------------------------------------------------------------------\u001b[0m",
            "\u001b[0;31mNameError\u001b[0m                                 Traceback (most recent call last)",
            "\u001b[0;32m<ipython-input-22-2a950471f5c5>\u001b[0m in \u001b[0;36m<module>\u001b[0;34m\u001b[0m\n\u001b[1;32m     12\u001b[0m     \u001b[0mmin_evaluate_clients\u001b[0m\u001b[0;34m=\u001b[0m\u001b[0;36m40\u001b[0m\u001b[0;34m,\u001b[0m\u001b[0;34m\u001b[0m\u001b[0;34m\u001b[0m\u001b[0m\n\u001b[1;32m     13\u001b[0m     \u001b[0mmin_available_clients\u001b[0m\u001b[0;34m=\u001b[0m\u001b[0;36m10\u001b[0m\u001b[0;34m,\u001b[0m\u001b[0;34m\u001b[0m\u001b[0;34m\u001b[0m\u001b[0m\n\u001b[0;32m---> 14\u001b[0;31m     \u001b[0minitial_parameters\u001b[0m\u001b[0;34m=\u001b[0m\u001b[0mfl\u001b[0m\u001b[0;34m.\u001b[0m\u001b[0mcommon\u001b[0m\u001b[0;34m.\u001b[0m\u001b[0mndarrays_to_parameters\u001b[0m\u001b[0;34m(\u001b[0m\u001b[0mget_parameters\u001b[0m\u001b[0;34m(\u001b[0m\u001b[0mNet\u001b[0m\u001b[0;34m(\u001b[0m\u001b[0;34m)\u001b[0m\u001b[0;34m)\u001b[0m\u001b[0;34m)\u001b[0m\u001b[0;34m,\u001b[0m\u001b[0;34m\u001b[0m\u001b[0;34m\u001b[0m\u001b[0m\n\u001b[0m\u001b[1;32m     15\u001b[0m     \u001b[0mon_fit_config_fn\u001b[0m\u001b[0;34m=\u001b[0m\u001b[0mfit_config\u001b[0m\u001b[0;34m,\u001b[0m\u001b[0;34m\u001b[0m\u001b[0;34m\u001b[0m\u001b[0m\n\u001b[1;32m     16\u001b[0m )\n",
            "\u001b[0;31mNameError\u001b[0m: name 'get_parameters' is not defined"
          ]
        }
      ]
    }
  ]
}