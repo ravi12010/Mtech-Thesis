{
  "nbformat": 4,
  "nbformat_minor": 0,
  "metadata": {
    "colab": {
      "provenance": []
    },
    "kernelspec": {
      "name": "python3",
      "display_name": "Python 3"
    },
    "language_info": {
      "name": "python"
    }
  },
  "cells": [
    {
      "cell_type": "code",
      "execution_count": null,
      "metadata": {
        "id": "3CXgy7yaO8x0"
      },
      "outputs": [],
      "source": [
        "$ pip install flwr"
      ]
    },
    {
      "cell_type": "code",
      "source": [
        "$ pip install mxnet"
      ],
      "metadata": {
        "id": "EUJl0vb_O-0l"
      },
      "execution_count": null,
      "outputs": []
    },
    {
      "cell_type": "markdown",
      "source": [
        "**Flower Client**"
      ],
      "metadata": {
        "id": "0DSMTonqPDYY"
      }
    },
    {
      "cell_type": "code",
      "source": [
        "import flwr as fl\n",
        "\n",
        "import numpy as np\n",
        "\n",
        "import mxnet as mx\n",
        "from mxnet import nd\n",
        "from mxnet import gluon\n",
        "from mxnet.gluon import nn\n",
        "from mxnet import autograd as ag\n",
        "import mxnet.ndarray as F"
      ],
      "metadata": {
        "id": "PpGHObFqPATN"
      },
      "execution_count": null,
      "outputs": []
    },
    {
      "cell_type": "code",
      "source": [
        "DEVICE = [mx.gpu() if mx.test_utils.list_gpus() else mx.cpu()]"
      ],
      "metadata": {
        "id": "gkKlLafQPIfi"
      },
      "execution_count": null,
      "outputs": []
    },
    {
      "cell_type": "code",
      "source": [
        "def train(net, train_data, epoch):\n",
        "    trainer = gluon.Trainer(net.collect_params(), \"sgd\", {\"learning_rate\": 0.03})\n",
        "    trainer = gluon.Trainer(net.collect_params(), \"sgd\", {\"learning_rate\": 0.01})\n",
        "    accuracy_metric = mx.metric.Accuracy()\n",
        "    loss_metric = mx.metric.CrossEntropy()\n",
        "    metrics = mx.metric.CompositeEvalMetric()\n",
        "    for child_metric in [accuracy_metric, loss_metric]:\n",
        "        metrics.add(child_metric)\n",
        "    softmax_cross_entropy_loss = gluon.loss.SoftmaxCrossEntropyLoss()\n",
        "    for i in range(epoch):\n",
        "        train_data.reset()\n",
        "        num_examples = 0\n",
        "        for batch in train_data:\n",
        "            data = gluon.utils.split_and_load(\n",
        "                batch.data[0], ctx_list=DEVICE, batch_axis=0\n",
        "            )\n",
        "            label = gluon.utils.split_and_load(\n",
        "                batch.label[0], ctx_list=DEVICE, batch_axis=0\n",
        "            )\n",
        "            outputs = []\n",
        "            with ag.record():\n",
        "                for x, y in zip(data, label):\n",
        "                    z = net(x)\n",
        "                    loss = softmax_cross_entropy_loss(z, y)\n",
        "                    loss.backward()\n",
        "                    outputs.append(z.softmax())\n",
        "                    num_examples += len(x)\n",
        "            metrics.update(label, outputs)\n",
        "            trainer.step(batch.data[0].shape[0])\n",
        "        trainings_metric = metrics.get_name_value()\n",
        "        print(\"Accuracy & loss at epoch %d: %s\" % (i, trainings_metric))\n",
        "    return trainings_metric, num_examples"
      ],
      "metadata": {
        "id": "4pu59tPnPKy4"
      },
      "execution_count": null,
      "outputs": []
    },
    {
      "cell_type": "code",
      "source": [
        "def test(net, val_data):\n",
        "    accuracy_metric = mx.metric.Accuracy()\n",
        "    loss_metric = mx.metric.CrossEntropy()\n",
        "    metrics = mx.metric.CompositeEvalMetric()\n",
        "    for child_metric in [accuracy_metric, loss_metric]:\n",
        "        metrics.add(child_metric)\n",
        "    val_data.reset()\n",
        "    num_examples = 0\n",
        "    for batch in val_data:\n",
        "        data = gluon.utils.split_and_load(batch.data[0], ctx_list=DEVICE, batch_axis=0)\n",
        "        label = gluon.utils.split_and_load(\n",
        "            batch.label[0], ctx_list=DEVICE, batch_axis=0\n",
        "        )\n",
        "        outputs = []\n",
        "        for x in data:\n",
        "            outputs.append(net(x).softmax())\n",
        "            num_examples += len(x)\n",
        "        metrics.update(label, outputs)\n",
        "    return metrics.get_name_value(), num_examples"
      ],
      "metadata": {
        "id": "aKJm-w2wPNxZ"
      },
      "execution_count": null,
      "outputs": []
    },
    {
      "cell_type": "code",
      "source": [
        "def main():\n",
        "    def model():\n",
        "        net = nn.Sequential()\n",
        "        net.add(nn.Dense(256, activation=\"relu\"))\n",
        "        net.add(nn.Dense(64, activation=\"relu\"))\n",
        "        net.add(nn.Dense(10))\n",
        "        net.collect_params().initialize()\n",
        "        return net\n",
        "\n",
        "    train_data, val_data = load_data()\n",
        "\n",
        "    model = model()\n",
        "    init = nd.random.uniform(shape=(2, 784))\n",
        "    model(init)"
      ],
      "metadata": {
        "id": "Wj6JSzTPPQee"
      },
      "execution_count": null,
      "outputs": []
    },
    {
      "cell_type": "code",
      "source": [
        "class MNISTClient(fl.client.NumPyClient):\n",
        "    def get_parameters(self, config):\n",
        "        param = []\n",
        "        for val in model.collect_params(\".*weight\").values():\n",
        "            p = val.data()\n",
        "            param.append(p.asnumpy())\n",
        "        return param\n",
        "\n",
        "    def set_parameters(self, parameters):\n",
        "        params = zip(model.collect_params(\".*weight\").keys(), parameters)\n",
        "        for key, value in params:\n",
        "            model.collect_params().setattr(key, value)\n",
        "\n",
        "    def fit(self, parameters, config):\n",
        "        self.set_parameters(parameters)\n",
        "        [accuracy, loss], num_examples = train(model, train_data, epoch=2)\n",
        "        results = {\"accuracy\": float(accuracy[1]), \"loss\": float(loss[1])}\n",
        "        return self.get_parameters(config={}), num_examples, results\n",
        "\n",
        "    def evaluate(self, parameters, config):\n",
        "        self.set_parameters(parameters)\n",
        "        [accuracy, loss], num_examples = test(model, val_data)\n",
        "        print(\"Evaluation accuracy & loss\", accuracy, loss)\n",
        "        return float(loss[1]), val_data.batch_size, {\"accuracy\": float(accuracy[1])}"
      ],
      "metadata": {
        "id": "q-Qy6N2aPVid"
      },
      "execution_count": null,
      "outputs": []
    },
    {
      "cell_type": "code",
      "source": [
        "fl.client.start_numpy_client(server_address=\"0.0.0.0:8080\", client=MNISTClient())"
      ],
      "metadata": {
        "id": "0F2m5ImaPWAK"
      },
      "execution_count": null,
      "outputs": []
    },
    {
      "cell_type": "markdown",
      "source": [
        "**Flower Server**"
      ],
      "metadata": {
        "id": "EHJoXQEIPYvU"
      }
    },
    {
      "cell_type": "code",
      "source": [
        "import flwr as fl\n",
        "\n",
        "fl.server.start_server(config=fl.server.ServerConfig(num_rounds=3))"
      ],
      "metadata": {
        "id": "JLE0joetPfLR"
      },
      "execution_count": null,
      "outputs": []
    }
  ]
}