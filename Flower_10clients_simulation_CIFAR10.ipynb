{
  "nbformat": 4,
  "nbformat_minor": 0,
  "metadata": {
    "colab": {
      "provenance": []
    },
    "kernelspec": {
      "name": "python3",
      "display_name": "Python 3"
    },
    "language_info": {
      "name": "python"
    }
  },
  "cells": [
    {
      "cell_type": "code",
      "source": [
        "!pip install --pre flwr[simulation] torch torchvision"
      ],
      "metadata": {
        "colab": {
          "base_uri": "https://localhost:8080/"
        },
        "id": "Qnsxg4lK0M8W",
        "outputId": "a04304c8-dc43-4fb7-cb2a-8c7d7e59a1e3"
      },
      "execution_count": null,
      "outputs": [
        {
          "output_type": "stream",
          "name": "stdout",
          "text": [
            "Looking in indexes: https://pypi.org/simple, https://us-python.pkg.dev/colab-wheels/public/simple/\n",
            "Requirement already satisfied: flwr[simulation] in /usr/local/lib/python3.7/dist-packages (1.0.0)\n",
            "Requirement already satisfied: torch in /usr/local/lib/python3.7/dist-packages (1.12.1+cu113)\n",
            "Requirement already satisfied: torchvision in /usr/local/lib/python3.7/dist-packages (0.13.1+cu113)\n",
            "Requirement already satisfied: typing-extensions in /usr/local/lib/python3.7/dist-packages (from torch) (4.1.1)\n",
            "Requirement already satisfied: requests in /usr/local/lib/python3.7/dist-packages (from torchvision) (2.23.0)\n",
            "Requirement already satisfied: numpy in /usr/local/lib/python3.7/dist-packages (from torchvision) (1.21.6)\n",
            "Requirement already satisfied: pillow!=8.3.*,>=5.3.0 in /usr/local/lib/python3.7/dist-packages (from torchvision) (7.1.2)\n",
            "Requirement already satisfied: grpcio<2.0.0,>=1.43.0 in /usr/local/lib/python3.7/dist-packages (from flwr[simulation]) (1.43.0)\n",
            "Requirement already satisfied: iterators<0.0.3,>=0.0.2 in /usr/local/lib/python3.7/dist-packages (from flwr[simulation]) (0.0.2)\n",
            "Requirement already satisfied: protobuf<4.0.0,>=3.19.0 in /usr/local/lib/python3.7/dist-packages (from flwr[simulation]) (3.20.2)\n",
            "Requirement already satisfied: importlib-metadata<5.0.0,>=4.0.0 in /usr/local/lib/python3.7/dist-packages (from flwr[simulation]) (4.12.0)\n",
            "Requirement already satisfied: ray[default]<1.14.0,>=1.13.0 in /usr/local/lib/python3.7/dist-packages (from flwr[simulation]) (1.13.0)\n",
            "Requirement already satisfied: six>=1.5.2 in /usr/local/lib/python3.7/dist-packages (from grpcio<2.0.0,>=1.43.0->flwr[simulation]) (1.15.0)\n",
            "Requirement already satisfied: zipp>=0.5 in /usr/local/lib/python3.7/dist-packages (from importlib-metadata<5.0.0,>=4.0.0->flwr[simulation]) (3.8.1)\n",
            "Requirement already satisfied: click<=8.0.4,>=7.0 in /usr/local/lib/python3.7/dist-packages (from ray[default]<1.14.0,>=1.13.0->flwr[simulation]) (7.1.2)\n",
            "Requirement already satisfied: filelock in /usr/local/lib/python3.7/dist-packages (from ray[default]<1.14.0,>=1.13.0->flwr[simulation]) (3.8.0)\n",
            "Requirement already satisfied: frozenlist in /usr/local/lib/python3.7/dist-packages (from ray[default]<1.14.0,>=1.13.0->flwr[simulation]) (1.3.1)\n",
            "Requirement already satisfied: jsonschema in /usr/local/lib/python3.7/dist-packages (from ray[default]<1.14.0,>=1.13.0->flwr[simulation]) (4.3.3)\n",
            "Requirement already satisfied: pyyaml in /usr/local/lib/python3.7/dist-packages (from ray[default]<1.14.0,>=1.13.0->flwr[simulation]) (6.0)\n",
            "Requirement already satisfied: attrs in /usr/local/lib/python3.7/dist-packages (from ray[default]<1.14.0,>=1.13.0->flwr[simulation]) (22.1.0)\n",
            "Requirement already satisfied: virtualenv in /usr/local/lib/python3.7/dist-packages (from ray[default]<1.14.0,>=1.13.0->flwr[simulation]) (20.16.5)\n",
            "Requirement already satisfied: aiosignal in /usr/local/lib/python3.7/dist-packages (from ray[default]<1.14.0,>=1.13.0->flwr[simulation]) (1.2.0)\n",
            "Requirement already satisfied: msgpack<2.0.0,>=1.0.0 in /usr/local/lib/python3.7/dist-packages (from ray[default]<1.14.0,>=1.13.0->flwr[simulation]) (1.0.4)\n",
            "Requirement already satisfied: smart-open in /usr/local/lib/python3.7/dist-packages (from ray[default]<1.14.0,>=1.13.0->flwr[simulation]) (5.2.1)\n",
            "Requirement already satisfied: py-spy>=0.2.0 in /usr/local/lib/python3.7/dist-packages (from ray[default]<1.14.0,>=1.13.0->flwr[simulation]) (0.4.0.dev2)\n",
            "Requirement already satisfied: aiohttp>=3.7 in /usr/local/lib/python3.7/dist-packages (from ray[default]<1.14.0,>=1.13.0->flwr[simulation]) (3.8.1)\n",
            "Requirement already satisfied: colorful in /usr/local/lib/python3.7/dist-packages (from ray[default]<1.14.0,>=1.13.0->flwr[simulation]) (0.6.0a1)\n",
            "Requirement already satisfied: opencensus in /usr/local/lib/python3.7/dist-packages (from ray[default]<1.14.0,>=1.13.0->flwr[simulation]) (0.11.0)\n",
            "Requirement already satisfied: prometheus-client<0.14.0,>=0.7.1 in /usr/local/lib/python3.7/dist-packages (from ray[default]<1.14.0,>=1.13.0->flwr[simulation]) (0.13.1)\n",
            "Requirement already satisfied: aiohttp-cors in /usr/local/lib/python3.7/dist-packages (from ray[default]<1.14.0,>=1.13.0->flwr[simulation]) (0.7.0)\n",
            "Requirement already satisfied: gpustat>=1.0.0b1 in /usr/local/lib/python3.7/dist-packages (from ray[default]<1.14.0,>=1.13.0->flwr[simulation]) (1.0.0)\n",
            "Requirement already satisfied: multidict<7.0,>=4.5 in /usr/local/lib/python3.7/dist-packages (from aiohttp>=3.7->ray[default]<1.14.0,>=1.13.0->flwr[simulation]) (6.0.2)\n",
            "Requirement already satisfied: charset-normalizer<3.0,>=2.0 in /usr/local/lib/python3.7/dist-packages (from aiohttp>=3.7->ray[default]<1.14.0,>=1.13.0->flwr[simulation]) (2.1.1)\n",
            "Requirement already satisfied: async-timeout<5.0,>=4.0.0a3 in /usr/local/lib/python3.7/dist-packages (from aiohttp>=3.7->ray[default]<1.14.0,>=1.13.0->flwr[simulation]) (4.0.2)\n",
            "Requirement already satisfied: yarl<2.0,>=1.0 in /usr/local/lib/python3.7/dist-packages (from aiohttp>=3.7->ray[default]<1.14.0,>=1.13.0->flwr[simulation]) (1.8.1)\n",
            "Requirement already satisfied: asynctest==0.13.0 in /usr/local/lib/python3.7/dist-packages (from aiohttp>=3.7->ray[default]<1.14.0,>=1.13.0->flwr[simulation]) (0.13.0)\n",
            "Requirement already satisfied: nvidia-ml-py<=11.495.46,>=11.450.129 in /usr/local/lib/python3.7/dist-packages (from gpustat>=1.0.0b1->ray[default]<1.14.0,>=1.13.0->flwr[simulation]) (11.495.46)\n",
            "Requirement already satisfied: psutil>=5.6.0 in /usr/local/lib/python3.7/dist-packages (from gpustat>=1.0.0b1->ray[default]<1.14.0,>=1.13.0->flwr[simulation]) (5.9.2)\n",
            "Requirement already satisfied: blessed>=1.17.1 in /usr/local/lib/python3.7/dist-packages (from gpustat>=1.0.0b1->ray[default]<1.14.0,>=1.13.0->flwr[simulation]) (1.19.1)\n",
            "Requirement already satisfied: wcwidth>=0.1.4 in /usr/local/lib/python3.7/dist-packages (from blessed>=1.17.1->gpustat>=1.0.0b1->ray[default]<1.14.0,>=1.13.0->flwr[simulation]) (0.2.5)\n",
            "Requirement already satisfied: idna>=2.0 in /usr/local/lib/python3.7/dist-packages (from yarl<2.0,>=1.0->aiohttp>=3.7->ray[default]<1.14.0,>=1.13.0->flwr[simulation]) (2.10)\n",
            "Requirement already satisfied: pyrsistent!=0.17.0,!=0.17.1,!=0.17.2,>=0.14.0 in /usr/local/lib/python3.7/dist-packages (from jsonschema->ray[default]<1.14.0,>=1.13.0->flwr[simulation]) (0.18.1)\n",
            "Requirement already satisfied: importlib-resources>=1.4.0 in /usr/local/lib/python3.7/dist-packages (from jsonschema->ray[default]<1.14.0,>=1.13.0->flwr[simulation]) (5.9.0)\n",
            "Requirement already satisfied: opencensus-context>=0.1.3 in /usr/local/lib/python3.7/dist-packages (from opencensus->ray[default]<1.14.0,>=1.13.0->flwr[simulation]) (0.2.dev0)\n",
            "Requirement already satisfied: google-api-core<3.0.0,>=1.0.0 in /usr/local/lib/python3.7/dist-packages (from opencensus->ray[default]<1.14.0,>=1.13.0->flwr[simulation]) (1.31.6)\n",
            "Requirement already satisfied: packaging>=14.3 in /usr/local/lib/python3.7/dist-packages (from google-api-core<3.0.0,>=1.0.0->opencensus->ray[default]<1.14.0,>=1.13.0->flwr[simulation]) (21.3)\n",
            "Requirement already satisfied: googleapis-common-protos<2.0dev,>=1.6.0 in /usr/local/lib/python3.7/dist-packages (from google-api-core<3.0.0,>=1.0.0->opencensus->ray[default]<1.14.0,>=1.13.0->flwr[simulation]) (1.56.4)\n",
            "Requirement already satisfied: google-auth<2.0dev,>=1.25.0 in /usr/local/lib/python3.7/dist-packages (from google-api-core<3.0.0,>=1.0.0->opencensus->ray[default]<1.14.0,>=1.13.0->flwr[simulation]) (1.35.0)\n",
            "Requirement already satisfied: setuptools>=40.3.0 in /usr/local/lib/python3.7/dist-packages (from google-api-core<3.0.0,>=1.0.0->opencensus->ray[default]<1.14.0,>=1.13.0->flwr[simulation]) (57.4.0)\n",
            "Requirement already satisfied: pytz in /usr/local/lib/python3.7/dist-packages (from google-api-core<3.0.0,>=1.0.0->opencensus->ray[default]<1.14.0,>=1.13.0->flwr[simulation]) (2022.2.1)\n",
            "Requirement already satisfied: rsa<5,>=3.1.4 in /usr/local/lib/python3.7/dist-packages (from google-auth<2.0dev,>=1.25.0->google-api-core<3.0.0,>=1.0.0->opencensus->ray[default]<1.14.0,>=1.13.0->flwr[simulation]) (4.9)\n",
            "Requirement already satisfied: pyasn1-modules>=0.2.1 in /usr/local/lib/python3.7/dist-packages (from google-auth<2.0dev,>=1.25.0->google-api-core<3.0.0,>=1.0.0->opencensus->ray[default]<1.14.0,>=1.13.0->flwr[simulation]) (0.2.8)\n",
            "Requirement already satisfied: cachetools<5.0,>=2.0.0 in /usr/local/lib/python3.7/dist-packages (from google-auth<2.0dev,>=1.25.0->google-api-core<3.0.0,>=1.0.0->opencensus->ray[default]<1.14.0,>=1.13.0->flwr[simulation]) (4.2.4)\n",
            "Requirement already satisfied: pyparsing!=3.0.5,>=2.0.2 in /usr/local/lib/python3.7/dist-packages (from packaging>=14.3->google-api-core<3.0.0,>=1.0.0->opencensus->ray[default]<1.14.0,>=1.13.0->flwr[simulation]) (3.0.9)\n",
            "Requirement already satisfied: pyasn1<0.5.0,>=0.4.6 in /usr/local/lib/python3.7/dist-packages (from pyasn1-modules>=0.2.1->google-auth<2.0dev,>=1.25.0->google-api-core<3.0.0,>=1.0.0->opencensus->ray[default]<1.14.0,>=1.13.0->flwr[simulation]) (0.4.8)\n",
            "Requirement already satisfied: chardet<4,>=3.0.2 in /usr/local/lib/python3.7/dist-packages (from requests->torchvision) (3.0.4)\n",
            "Requirement already satisfied: urllib3!=1.25.0,!=1.25.1,<1.26,>=1.21.1 in /usr/local/lib/python3.7/dist-packages (from requests->torchvision) (1.24.3)\n",
            "Requirement already satisfied: certifi>=2017.4.17 in /usr/local/lib/python3.7/dist-packages (from requests->torchvision) (2022.6.15)\n",
            "Requirement already satisfied: platformdirs<3,>=2.4 in /usr/local/lib/python3.7/dist-packages (from virtualenv->ray[default]<1.14.0,>=1.13.0->flwr[simulation]) (2.5.2)\n",
            "Requirement already satisfied: distlib<1,>=0.3.5 in /usr/local/lib/python3.7/dist-packages (from virtualenv->ray[default]<1.14.0,>=1.13.0->flwr[simulation]) (0.3.6)\n"
          ]
        }
      ]
    },
    {
      "cell_type": "code",
      "execution_count": null,
      "metadata": {
        "colab": {
          "base_uri": "https://localhost:8080/"
        },
        "id": "Ng8Y4OcJz_QV",
        "outputId": "b997f830-04f0-442c-abe1-4bb0e64d1d2c"
      },
      "outputs": [
        {
          "output_type": "stream",
          "name": "stdout",
          "text": [
            "Training on cpu\n"
          ]
        }
      ],
      "source": [
        "from collections import OrderedDict\n",
        "from typing import Dict, List, Optional, Tuple\n",
        "\n",
        "import flwr as fl\n",
        "import numpy as np\n",
        "import torch\n",
        "import torch.nn as nn\n",
        "import torch.nn.functional as F\n",
        "import torchvision.transforms as transforms\n",
        "from torch.utils.data import DataLoader, random_split\n",
        "from torchvision.datasets import CIFAR10\n",
        "from torchvision import transforms,datasets\n",
        "\n",
        "DEVICE = torch.device(\"cpu\")\n",
        "# DEVICE = torch.device(\"cuda:0\" if torch.cuda.is_available() else \"cpu\")\n",
        "print(f\"Training on {DEVICE}\")"
      ]
    },
    {
      "cell_type": "markdown",
      "source": [
        "**Data loading**\n",
        "\n",
        "load the CIFAR-10 training and test set, partition them into ten smaller datasets (each split into training and validation set),"
      ],
      "metadata": {
        "id": "nuTBjfuf0LdP"
      }
    },
    {
      "cell_type": "code",
      "source": [
        "NUM_CLIENTS = 10\n",
        "\n",
        "def load_datasets(num_clients: int):\n",
        "    # Download and transform CIFAR-10 (train and test)\n",
        "    transform = transforms.Compose(\n",
        "      [transforms.ToTensor(), transforms.Normalize((0.5, 0.5, 0.5), (0.5, 0.5, 0.5))]\n",
        "    )\n",
        "    trainset = CIFAR10(\"./dataset\", train=True, download=True, transform=transform)\n",
        "    testset = CIFAR10(\"./dataset\", train=False, download=True, transform=transform)\n",
        "\n",
        "    # Split training set into `num_clients` partitions to simulate different local datasets\n",
        "    partition_size = len(trainset) // num_clients\n",
        "    lengths = [partition_size] * num_clients\n",
        "    datasets = random_split(trainset, lengths, torch.Generator().manual_seed(42))\n",
        "\n",
        "    # Split each partition into train/val and create DataLoader\n",
        "    trainloaders = []\n",
        "    valloaders = []\n",
        "    for ds in datasets:\n",
        "        len_val = len(ds) // 10  # 10 % validation set\n",
        "        len_train = len(ds) - len_val\n",
        "        lengths = [len_train, len_val]\n",
        "        ds_train, ds_val = random_split(ds, lengths, torch.Generator().manual_seed(42))\n",
        "        trainloaders.append(DataLoader(ds_train, batch_size=32, shuffle=True))\n",
        "        valloaders.append(DataLoader(ds_val, batch_size=32))\n",
        "    testloader = DataLoader(testset, batch_size=32)\n",
        "    return trainloaders, valloaders, testloader\n",
        "\n",
        "trainloaders, valloaders, testloader = load_datasets(NUM_CLIENTS)"
      ],
      "metadata": {
        "colab": {
          "base_uri": "https://localhost:8080/"
        },
        "id": "hpJ_Rxrd0I2e",
        "outputId": "f3e4d633-71c0-4aaf-88d1-3bc6962f82b6"
      },
      "execution_count": null,
      "outputs": [
        {
          "output_type": "stream",
          "name": "stdout",
          "text": [
            "Files already downloaded and verified\n",
            "Files already downloaded and verified\n"
          ]
        }
      ]
    },
    {
      "cell_type": "markdown",
      "source": [
        "**Model training/evaluation**"
      ],
      "metadata": {
        "id": "mxSYaECh05Ya"
      }
    },
    {
      "cell_type": "code",
      "source": [
        "class Net(nn.Module):\n",
        "    def __init__(self) -> None:\n",
        "        super(Net, self).__init__()\n",
        "        self.conv1 = nn.Conv2d(3, 6, 5)\n",
        "        self.pool = nn.MaxPool2d(2, 2)\n",
        "        self.conv2 = nn.Conv2d(6, 16, 5)\n",
        "        self.fc1 = nn.Linear(16 * 5 * 5, 120)\n",
        "        self.fc2 = nn.Linear(120, 84)\n",
        "        self.fc3 = nn.Linear(84, 10)\n",
        "\n",
        "    def forward(self, x: torch.Tensor) -> torch.Tensor:\n",
        "        x = self.pool(F.relu(self.conv1(x)))\n",
        "        x = self.pool(F.relu(self.conv2(x)))\n",
        "        x = x.view(-1, 16 * 5 * 5)\n",
        "        x = F.relu(self.fc1(x))\n",
        "        x = F.relu(self.fc2(x))\n",
        "        x = self.fc3(x)\n",
        "        return x\n",
        "\n",
        "\n",
        "def get_parameters(net) -> List[np.ndarray]:\n",
        "    return [val.cpu().numpy() for _, val in net.state_dict().items()]\n",
        "\n",
        "\n",
        "def set_parameters(net, parameters: List[np.ndarray]):\n",
        "    params_dict = zip(net.state_dict().keys(), parameters)\n",
        "    state_dict = OrderedDict({k: torch.Tensor(v) for k, v in params_dict})\n",
        "    net.load_state_dict(state_dict, strict=True)\n",
        "\n",
        "\n",
        "def train(net, trainloader, epochs: int):\n",
        "    \"\"\"Train the network on the training set.\"\"\"\n",
        "    criterion = torch.nn.CrossEntropyLoss()\n",
        "    optimizer = torch.optim.Adam(net.parameters())\n",
        "    net.train()\n",
        "    for epoch in range(epochs):\n",
        "        correct, total, epoch_loss = 0, 0, 0.0\n",
        "        for images, labels in trainloader:\n",
        "            images, labels = images.to(DEVICE), labels.to(DEVICE)\n",
        "            optimizer.zero_grad()\n",
        "            outputs = net(images)\n",
        "            loss = criterion(net(images), labels)\n",
        "            loss.backward()\n",
        "            optimizer.step()\n",
        "            # Metrics\n",
        "            epoch_loss += loss\n",
        "            total += labels.size(0)\n",
        "            correct += (torch.max(outputs.data, 1)[1] == labels).sum().item()\n",
        "        epoch_loss /= len(testloader.dataset)\n",
        "        epoch_acc = correct / total\n",
        "        print(f\"Epoch {epoch+1}: train loss {epoch_loss}, accuracy {epoch_acc}\")\n",
        "\n",
        "\n",
        "def test(net, testloader):\n",
        "    \"\"\"Evaluate the network on the entire test set.\"\"\"\n",
        "    criterion = torch.nn.CrossEntropyLoss()\n",
        "    correct, total, loss = 0, 0, 0.0\n",
        "    net.eval()\n",
        "    with torch.no_grad():\n",
        "        for images, labels in testloader:\n",
        "            images, labels = images.to(DEVICE), labels.to(DEVICE)\n",
        "            outputs = net(images)\n",
        "            loss += criterion(outputs, labels).item()\n",
        "            _, predicted = torch.max(outputs.data, 1)\n",
        "            total += labels.size(0)\n",
        "            correct += (predicted == labels).sum().item()\n",
        "    loss /= len(testloader.dataset)\n",
        "    accuracy = correct / total\n",
        "    return loss, accuracy"
      ],
      "metadata": {
        "id": "T1bwQ6zn09J0"
      },
      "execution_count": null,
      "outputs": []
    },
    {
      "cell_type": "markdown",
      "source": [
        "**Flower client**"
      ],
      "metadata": {
        "id": "5Njrqiy_1Gqk"
      }
    },
    {
      "cell_type": "code",
      "source": [
        "class FlowerClient(fl.client.NumPyClient):\n",
        "    def __init__(self, cid, net, trainloader, valloader):\n",
        "        self.cid = cid\n",
        "        self.net = net\n",
        "        self.trainloader = trainloader\n",
        "        self.valloader = valloader\n",
        "\n",
        "    def get_parameters(self, config):\n",
        "        print(f\"[Client {self.cid}] get_parameters\")\n",
        "        return get_parameters(self.net)\n",
        "\n",
        "    def fit(self, parameters, config):\n",
        "        print(f\"[Client {self.cid}] fit, config: {config}\")\n",
        "        set_parameters(self.net, parameters)\n",
        "        train(self.net, self.trainloader, epochs=1)\n",
        "        return get_parameters(self.net), len(self.trainloader), {}\n",
        "\n",
        "    def evaluate(self, parameters, config):\n",
        "        print(f\"[Client {self.cid}] evaluate, config: {config}\")\n",
        "        set_parameters(self.net, parameters)\n",
        "        loss, accuracy = test(self.net, self.valloader)\n",
        "        return float(loss), len(self.valloader), {\"accuracy\": float(accuracy)}\n",
        "\n",
        "\n",
        "def client_fn(cid) -> FlowerClient:\n",
        "    net = Net().to(DEVICE)\n",
        "    trainloader = trainloaders[int(cid)]\n",
        "    valloader = valloaders[int(cid)]\n",
        "    return FlowerClient(cid, net, trainloader, valloader)"
      ],
      "metadata": {
        "id": "zS5AWBMi1G7h"
      },
      "execution_count": null,
      "outputs": []
    },
    {
      "cell_type": "markdown",
      "source": [
        "**Server-side parameter initialization**\n",
        "\n",
        "Flower, by default, initializes the global model by asking one random client for the initial parameters. In many cases, we want more control over parameter initialization though. Flower therefore allows you to directly pass the initial parameters to the Strategy:"
      ],
      "metadata": {
        "id": "LsnDnmLQ1Rh-"
      }
    },
    {
      "cell_type": "code",
      "source": [
        "# Create an instance of the model and get the parameters\n",
        "params = get_parameters(Net())\n",
        "\n",
        "# Pass parameters to the Strategy for server-side parameter initialization\n",
        "strategy = fl.server.strategy.FedAvg(\n",
        "    fraction_fit=0.3,\n",
        "    fraction_evaluate=0.3,\n",
        "    min_fit_clients=3,\n",
        "    min_evaluate_clients=3,\n",
        "    min_available_clients=NUM_CLIENTS,\n",
        "    initial_parameters=fl.common.ndarrays_to_parameters(params),\n",
        ")\n",
        "\n",
        "# Start simulation\n",
        "fl.simulation.start_simulation(\n",
        "    client_fn=client_fn,\n",
        "    num_clients=NUM_CLIENTS,\n",
        "    config=fl.server.ServerConfig(num_rounds=3),  # Just three rounds\n",
        "    strategy=strategy,\n",
        ")"
      ],
      "metadata": {
        "colab": {
          "base_uri": "https://localhost:8080/"
        },
        "id": "QZpsltvU1ri6",
        "outputId": "5f994af1-3951-4f77-99ff-c86339ff7538"
      },
      "execution_count": null,
      "outputs": [
        {
          "output_type": "stream",
          "name": "stderr",
          "text": [
            "INFO flower 2022-09-20 09:43:41,511 | app.py:145 | Starting Flower simulation, config: ServerConfig(num_rounds=3, round_timeout=None)\n",
            "INFO:flower:Starting Flower simulation, config: ServerConfig(num_rounds=3, round_timeout=None)\n",
            "INFO flower 2022-09-20 09:43:48,120 | app.py:179 | Flower VCE: Ray initialized with resources: {'CPU': 2.0, 'memory': 8039340443.0, 'node:172.28.0.2': 1.0, 'object_store_memory': 4019670220.0}\n",
            "INFO:flower:Flower VCE: Ray initialized with resources: {'CPU': 2.0, 'memory': 8039340443.0, 'node:172.28.0.2': 1.0, 'object_store_memory': 4019670220.0}\n",
            "INFO flower 2022-09-20 09:43:48,134 | server.py:86 | Initializing global parameters\n",
            "INFO:flower:Initializing global parameters\n",
            "INFO flower 2022-09-20 09:43:48,146 | server.py:266 | Using initial parameters provided by strategy\n",
            "INFO:flower:Using initial parameters provided by strategy\n",
            "INFO flower 2022-09-20 09:43:48,152 | server.py:88 | Evaluating initial parameters\n",
            "INFO:flower:Evaluating initial parameters\n",
            "INFO flower 2022-09-20 09:43:48,161 | server.py:101 | FL starting\n",
            "INFO:flower:FL starting\n",
            "DEBUG flower 2022-09-20 09:43:48,170 | server.py:220 | fit_round 1: strategy sampled 3 clients (out of 10)\n",
            "DEBUG:flower:fit_round 1: strategy sampled 3 clients (out of 10)\n"
          ]
        },
        {
          "output_type": "stream",
          "name": "stdout",
          "text": [
            "\u001b[2m\u001b[36m(launch_and_fit pid=4650)\u001b[0m [Client 8] fit, config: {}\n",
            "\u001b[2m\u001b[36m(launch_and_fit pid=4649)\u001b[0m [Client 9] fit, config: {}\n",
            "\u001b[2m\u001b[36m(launch_and_fit pid=4650)\u001b[0m Epoch 1: train loss 0.02867353893816471, accuracy 0.23866666666666667\n",
            "\u001b[2m\u001b[36m(launch_and_fit pid=4649)\u001b[0m Epoch 1: train loss 0.029494818300008774, accuracy 0.216\n",
            "\u001b[2m\u001b[36m(launch_and_fit pid=4650)\u001b[0m [Client 4] fit, config: {}\n"
          ]
        },
        {
          "output_type": "stream",
          "name": "stderr",
          "text": [
            "DEBUG flower 2022-09-20 09:44:07,041 | server.py:234 | fit_round 1 received 3 results and 0 failures\n",
            "DEBUG:flower:fit_round 1 received 3 results and 0 failures\n",
            "WARNING flower 2022-09-20 09:44:07,061 | fedavg.py:243 | No fit_metrics_aggregation_fn provided\n",
            "WARNING:flower:No fit_metrics_aggregation_fn provided\n",
            "DEBUG flower 2022-09-20 09:44:07,067 | server.py:170 | evaluate_round 1: strategy sampled 3 clients (out of 10)\n",
            "DEBUG:flower:evaluate_round 1: strategy sampled 3 clients (out of 10)\n"
          ]
        },
        {
          "output_type": "stream",
          "name": "stdout",
          "text": [
            "\u001b[2m\u001b[36m(launch_and_fit pid=4650)\u001b[0m Epoch 1: train loss 0.028995981439948082, accuracy 0.236\n",
            "\u001b[2m\u001b[36m(launch_and_evaluate pid=4650)\u001b[0m [Client 0] evaluate, config: {}\n",
            "\u001b[2m\u001b[36m(launch_and_evaluate pid=4649)\u001b[0m [Client 1] evaluate, config: {}\n",
            "\u001b[2m\u001b[36m(launch_and_evaluate pid=4650)\u001b[0m [Client 5] evaluate, config: {}\n"
          ]
        },
        {
          "output_type": "stream",
          "name": "stderr",
          "text": [
            "DEBUG flower 2022-09-20 09:44:13,820 | server.py:184 | evaluate_round 1 received 3 results and 0 failures\n",
            "DEBUG:flower:evaluate_round 1 received 3 results and 0 failures\n",
            "WARNING flower 2022-09-20 09:44:13,826 | fedavg.py:274 | No evaluate_metrics_aggregation_fn provided\n",
            "WARNING:flower:No evaluate_metrics_aggregation_fn provided\n",
            "DEBUG flower 2022-09-20 09:44:13,833 | server.py:220 | fit_round 2: strategy sampled 3 clients (out of 10)\n",
            "DEBUG:flower:fit_round 2: strategy sampled 3 clients (out of 10)\n"
          ]
        },
        {
          "output_type": "stream",
          "name": "stdout",
          "text": [
            "\u001b[2m\u001b[36m(launch_and_fit pid=4650)\u001b[0m [Client 9] fit, config: {}\n",
            "\u001b[2m\u001b[36m(launch_and_fit pid=4649)\u001b[0m [Client 2] fit, config: {}\n",
            "\u001b[2m\u001b[36m(launch_and_fit pid=4649)\u001b[0m Epoch 1: train loss 0.025843454524874687, accuracy 0.3171111111111111\n",
            "\u001b[2m\u001b[36m(launch_and_fit pid=4649)\u001b[0m [Client 0] fit, config: {}\n",
            "\u001b[2m\u001b[36m(launch_and_fit pid=4650)\u001b[0m Epoch 1: train loss 0.025927813723683357, accuracy 0.3208888888888889\n"
          ]
        },
        {
          "output_type": "stream",
          "name": "stderr",
          "text": [
            "DEBUG flower 2022-09-20 09:44:26,833 | server.py:234 | fit_round 2 received 3 results and 0 failures\n",
            "DEBUG:flower:fit_round 2 received 3 results and 0 failures\n",
            "DEBUG flower 2022-09-20 09:44:26,856 | server.py:170 | evaluate_round 2: strategy sampled 3 clients (out of 10)\n",
            "DEBUG:flower:evaluate_round 2: strategy sampled 3 clients (out of 10)\n"
          ]
        },
        {
          "output_type": "stream",
          "name": "stdout",
          "text": [
            "\u001b[2m\u001b[36m(launch_and_fit pid=4649)\u001b[0m Epoch 1: train loss 0.025847302749753, accuracy 0.3231111111111111\n",
            "\u001b[2m\u001b[36m(launch_and_evaluate pid=4649)\u001b[0m [Client 4] evaluate, config: {}\n",
            "\u001b[2m\u001b[36m(launch_and_evaluate pid=4650)\u001b[0m [Client 2] evaluate, config: {}\n"
          ]
        },
        {
          "output_type": "stream",
          "name": "stderr",
          "text": [
            "DEBUG flower 2022-09-20 09:44:32,565 | server.py:184 | evaluate_round 2 received 3 results and 0 failures\n",
            "DEBUG:flower:evaluate_round 2 received 3 results and 0 failures\n",
            "DEBUG flower 2022-09-20 09:44:32,570 | server.py:220 | fit_round 3: strategy sampled 3 clients (out of 10)\n",
            "DEBUG:flower:fit_round 3: strategy sampled 3 clients (out of 10)\n"
          ]
        },
        {
          "output_type": "stream",
          "name": "stdout",
          "text": [
            "\u001b[2m\u001b[36m(launch_and_evaluate pid=4649)\u001b[0m [Client 7] evaluate, config: {}\n",
            "\u001b[2m\u001b[36m(launch_and_fit pid=4650)\u001b[0m [Client 5] fit, config: {}\n",
            "\u001b[2m\u001b[36m(launch_and_fit pid=4649)\u001b[0m [Client 9] fit, config: {}\n",
            "\u001b[2m\u001b[36m(launch_and_fit pid=4649)\u001b[0m Epoch 1: train loss 0.024045240134000778, accuracy 0.3615555555555556\n",
            "\u001b[2m\u001b[36m(launch_and_fit pid=4650)\u001b[0m Epoch 1: train loss 0.02434549480676651, accuracy 0.358\n",
            "\u001b[2m\u001b[36m(launch_and_fit pid=4649)\u001b[0m [Client 3] fit, config: {}\n"
          ]
        },
        {
          "output_type": "stream",
          "name": "stderr",
          "text": [
            "DEBUG flower 2022-09-20 09:44:45,174 | server.py:234 | fit_round 3 received 3 results and 0 failures\n",
            "DEBUG:flower:fit_round 3 received 3 results and 0 failures\n",
            "DEBUG flower 2022-09-20 09:44:45,194 | server.py:170 | evaluate_round 3: strategy sampled 3 clients (out of 10)\n",
            "DEBUG:flower:evaluate_round 3: strategy sampled 3 clients (out of 10)\n"
          ]
        },
        {
          "output_type": "stream",
          "name": "stdout",
          "text": [
            "\u001b[2m\u001b[36m(launch_and_fit pid=4649)\u001b[0m Epoch 1: train loss 0.02425691857933998, accuracy 0.366\n",
            "\u001b[2m\u001b[36m(launch_and_evaluate pid=4649)\u001b[0m [Client 5] evaluate, config: {}\n",
            "\u001b[2m\u001b[36m(launch_and_evaluate pid=4649)\u001b[0m [Client 8] evaluate, config: {}\n",
            "\u001b[2m\u001b[36m(launch_and_evaluate pid=4650)\u001b[0m [Client 6] evaluate, config: {}\n"
          ]
        },
        {
          "output_type": "stream",
          "name": "stderr",
          "text": [
            "DEBUG flower 2022-09-20 09:44:51,052 | server.py:184 | evaluate_round 3 received 3 results and 0 failures\n",
            "DEBUG:flower:evaluate_round 3 received 3 results and 0 failures\n",
            "INFO flower 2022-09-20 09:44:51,059 | server.py:144 | FL finished in 62.88884788799987\n",
            "INFO:flower:FL finished in 62.88884788799987\n",
            "INFO flower 2022-09-20 09:44:51,063 | app.py:180 | app_fit: losses_distributed [(1, 0.06195797975858053), (2, 0.05519310816129049), (3, 0.051558896700541174)]\n",
            "INFO:flower:app_fit: losses_distributed [(1, 0.06195797975858053), (2, 0.05519310816129049), (3, 0.051558896700541174)]\n",
            "INFO flower 2022-09-20 09:44:51,072 | app.py:181 | app_fit: metrics_distributed {}\n",
            "INFO:flower:app_fit: metrics_distributed {}\n",
            "INFO flower 2022-09-20 09:44:51,076 | app.py:182 | app_fit: losses_centralized []\n",
            "INFO:flower:app_fit: losses_centralized []\n",
            "INFO flower 2022-09-20 09:44:51,079 | app.py:183 | app_fit: metrics_centralized {}\n",
            "INFO:flower:app_fit: metrics_centralized {}\n"
          ]
        },
        {
          "output_type": "execute_result",
          "data": {
            "text/plain": [
              "History (loss, distributed):\n",
              "\tround 1: 0.06195797975858053\n",
              "\tround 2: 0.05519310816129049\n",
              "\tround 3: 0.051558896700541174"
            ]
          },
          "metadata": {},
          "execution_count": 39
        }
      ]
    },
    {
      "cell_type": "markdown",
      "source": [
        "**Starting with a customized strategy**\n",
        "\n",
        "We've seen the function start_simulation before. It accepts a number of arguments, amongst them the client_fn used to create FlowerClient instances, the number of clients to simulate num_clients, the number of rounds num_rounds, and the strategy."
      ],
      "metadata": {
        "id": "QZ_6ElO11wE0"
      }
    },
    {
      "cell_type": "code",
      "source": [
        "# Create FedAdam strategy\n",
        "strategy=fl.server.strategy.FedAdagrad(\n",
        "    fraction_fit=0.3,\n",
        "    fraction_evaluate=0.3,\n",
        "    min_fit_clients=3,\n",
        "    min_evaluate_clients=3,\n",
        "    min_available_clients=NUM_CLIENTS,\n",
        "    initial_parameters=fl.common.ndarrays_to_parameters(get_parameters(Net())),\n",
        ")\n",
        "\n",
        "# Start simulation\n",
        "fl.simulation.start_simulation(\n",
        "    client_fn=client_fn,\n",
        "    num_clients=NUM_CLIENTS,\n",
        "    config=fl.server.ServerConfig(num_rounds=3),  # Just three rounds\n",
        "    strategy=strategy,\n",
        ")"
      ],
      "metadata": {
        "colab": {
          "base_uri": "https://localhost:8080/"
        },
        "id": "ET4GFtlb17-s",
        "outputId": "ea1fe1fd-a6cf-4bb0-b71e-2b483ca1f7d1"
      },
      "execution_count": null,
      "outputs": [
        {
          "output_type": "stream",
          "name": "stderr",
          "text": [
            "INFO flower 2022-09-20 09:44:51,141 | app.py:145 | Starting Flower simulation, config: ServerConfig(num_rounds=3, round_timeout=None)\n",
            "INFO:flower:Starting Flower simulation, config: ServerConfig(num_rounds=3, round_timeout=None)\n",
            "2022-09-20 09:44:54,768\tWARNING services.py:2013 -- WARNING: The object store is using /tmp instead of /dev/shm because /dev/shm has only 3913117696 bytes available. This will harm performance! You may be able to free up space by deleting files in /dev/shm. If you are inside a Docker container, you can increase /dev/shm size by passing '--shm-size=4.12gb' to 'docker run' (or add it to the run_options list in a Ray cluster config). Make sure to set this to more than 30% of available RAM.\n",
            "INFO flower 2022-09-20 09:44:58,034 | app.py:179 | Flower VCE: Ray initialized with resources: {'CPU': 2.0, 'node:172.28.0.2': 1.0, 'object_store_memory': 4021030502.0, 'memory': 8042061006.0}\n",
            "INFO:flower:Flower VCE: Ray initialized with resources: {'CPU': 2.0, 'node:172.28.0.2': 1.0, 'object_store_memory': 4021030502.0, 'memory': 8042061006.0}\n",
            "INFO flower 2022-09-20 09:44:58,041 | server.py:86 | Initializing global parameters\n",
            "INFO:flower:Initializing global parameters\n",
            "INFO flower 2022-09-20 09:44:58,047 | server.py:266 | Using initial parameters provided by strategy\n",
            "INFO:flower:Using initial parameters provided by strategy\n",
            "INFO flower 2022-09-20 09:44:58,058 | server.py:88 | Evaluating initial parameters\n",
            "INFO:flower:Evaluating initial parameters\n",
            "INFO flower 2022-09-20 09:44:58,064 | server.py:101 | FL starting\n",
            "INFO:flower:FL starting\n",
            "DEBUG flower 2022-09-20 09:44:58,073 | server.py:220 | fit_round 1: strategy sampled 3 clients (out of 10)\n",
            "DEBUG:flower:fit_round 1: strategy sampled 3 clients (out of 10)\n"
          ]
        },
        {
          "output_type": "stream",
          "name": "stdout",
          "text": [
            "\u001b[2m\u001b[36m(launch_and_fit pid=4892)\u001b[0m [Client 6] fit, config: {}\n",
            "\u001b[2m\u001b[36m(launch_and_fit pid=4893)\u001b[0m [Client 3] fit, config: {}\n",
            "\u001b[2m\u001b[36m(launch_and_fit pid=4893)\u001b[0m Epoch 1: train loss 0.02879974991083145, accuracy 0.23933333333333334\n",
            "\u001b[2m\u001b[36m(launch_and_fit pid=4892)\u001b[0m Epoch 1: train loss 0.029161041602492332, accuracy 0.2228888888888889\n",
            "\u001b[2m\u001b[36m(launch_and_fit pid=4893)\u001b[0m [Client 1] fit, config: {}\n"
          ]
        },
        {
          "output_type": "stream",
          "name": "stderr",
          "text": [
            "DEBUG flower 2022-09-20 09:45:14,618 | server.py:234 | fit_round 1 received 3 results and 0 failures\n",
            "DEBUG:flower:fit_round 1 received 3 results and 0 failures\n",
            "WARNING flower 2022-09-20 09:45:14,640 | fedavg.py:243 | No fit_metrics_aggregation_fn provided\n",
            "WARNING:flower:No fit_metrics_aggregation_fn provided\n",
            "DEBUG flower 2022-09-20 09:45:14,651 | server.py:170 | evaluate_round 1: strategy sampled 3 clients (out of 10)\n",
            "DEBUG:flower:evaluate_round 1: strategy sampled 3 clients (out of 10)\n"
          ]
        },
        {
          "output_type": "stream",
          "name": "stdout",
          "text": [
            "\u001b[2m\u001b[36m(launch_and_fit pid=4893)\u001b[0m Epoch 1: train loss 0.029315531253814697, accuracy 0.22866666666666666\n",
            "\u001b[2m\u001b[36m(launch_and_evaluate pid=4893)\u001b[0m [Client 4] evaluate, config: {}\n",
            "\u001b[2m\u001b[36m(launch_and_evaluate pid=4892)\u001b[0m [Client 0] evaluate, config: {}\n"
          ]
        },
        {
          "output_type": "stream",
          "name": "stderr",
          "text": [
            "DEBUG flower 2022-09-20 09:45:21,372 | server.py:184 | evaluate_round 1 received 3 results and 0 failures\n",
            "DEBUG:flower:evaluate_round 1 received 3 results and 0 failures\n",
            "WARNING flower 2022-09-20 09:45:21,378 | fedavg.py:274 | No evaluate_metrics_aggregation_fn provided\n",
            "WARNING:flower:No evaluate_metrics_aggregation_fn provided\n",
            "DEBUG flower 2022-09-20 09:45:21,384 | server.py:220 | fit_round 2: strategy sampled 3 clients (out of 10)\n",
            "DEBUG:flower:fit_round 2: strategy sampled 3 clients (out of 10)\n"
          ]
        },
        {
          "output_type": "stream",
          "name": "stdout",
          "text": [
            "\u001b[2m\u001b[36m(launch_and_evaluate pid=4893)\u001b[0m [Client 8] evaluate, config: {}\n",
            "\u001b[2m\u001b[36m(launch_and_fit pid=4893)\u001b[0m [Client 1] fit, config: {}\n",
            "\u001b[2m\u001b[36m(launch_and_fit pid=4892)\u001b[0m [Client 3] fit, config: {}\n",
            "\u001b[2m\u001b[36m(launch_and_fit pid=4892)\u001b[0m Epoch 1: train loss 0.33063894510269165, accuracy 0.29844444444444446\n",
            "\u001b[2m\u001b[36m(launch_and_fit pid=4892)\u001b[0m [Client 4] fit, config: {}\n",
            "\u001b[2m\u001b[36m(launch_and_fit pid=4893)\u001b[0m Epoch 1: train loss 0.38040491938591003, accuracy 0.3128888888888889\n"
          ]
        },
        {
          "output_type": "stream",
          "name": "stderr",
          "text": [
            "DEBUG flower 2022-09-20 09:45:35,908 | server.py:234 | fit_round 2 received 3 results and 0 failures\n",
            "DEBUG:flower:fit_round 2 received 3 results and 0 failures\n",
            "DEBUG flower 2022-09-20 09:45:35,932 | server.py:170 | evaluate_round 2: strategy sampled 3 clients (out of 10)\n",
            "DEBUG:flower:evaluate_round 2: strategy sampled 3 clients (out of 10)\n"
          ]
        },
        {
          "output_type": "stream",
          "name": "stdout",
          "text": [
            "\u001b[2m\u001b[36m(launch_and_fit pid=4892)\u001b[0m Epoch 1: train loss 0.3445581793785095, accuracy 0.29333333333333333\n",
            "\u001b[2m\u001b[36m(launch_and_evaluate pid=4892)\u001b[0m [Client 3] evaluate, config: {}\n",
            "\u001b[2m\u001b[36m(launch_and_evaluate pid=4892)\u001b[0m [Client 4] evaluate, config: {}\n"
          ]
        },
        {
          "output_type": "stream",
          "name": "stderr",
          "text": [
            "DEBUG flower 2022-09-20 09:45:42,209 | server.py:184 | evaluate_round 2 received 3 results and 0 failures\n",
            "DEBUG:flower:evaluate_round 2 received 3 results and 0 failures\n",
            "DEBUG flower 2022-09-20 09:45:42,213 | server.py:220 | fit_round 3: strategy sampled 3 clients (out of 10)\n",
            "DEBUG:flower:fit_round 3: strategy sampled 3 clients (out of 10)\n"
          ]
        },
        {
          "output_type": "stream",
          "name": "stdout",
          "text": [
            "\u001b[2m\u001b[36m(launch_and_evaluate pid=4893)\u001b[0m [Client 8] evaluate, config: {}\n",
            "\u001b[2m\u001b[36m(launch_and_fit pid=4893)\u001b[0m [Client 3] fit, config: {}\n",
            "\u001b[2m\u001b[36m(launch_and_fit pid=4892)\u001b[0m [Client 5] fit, config: {}\n",
            "\u001b[2m\u001b[36m(launch_and_fit pid=4893)\u001b[0m Epoch 1: train loss 0.08779847621917725, accuracy 0.174\n",
            "\u001b[2m\u001b[36m(launch_and_fit pid=4892)\u001b[0m Epoch 1: train loss 0.09011136740446091, accuracy 0.16133333333333333\n",
            "\u001b[2m\u001b[36m(launch_and_fit pid=4893)\u001b[0m [Client 2] fit, config: {}\n"
          ]
        },
        {
          "output_type": "stream",
          "name": "stderr",
          "text": [
            "DEBUG flower 2022-09-20 09:45:59,215 | server.py:234 | fit_round 3 received 3 results and 0 failures\n",
            "DEBUG:flower:fit_round 3 received 3 results and 0 failures\n",
            "DEBUG flower 2022-09-20 09:45:59,239 | server.py:170 | evaluate_round 3: strategy sampled 3 clients (out of 10)\n",
            "DEBUG:flower:evaluate_round 3: strategy sampled 3 clients (out of 10)\n"
          ]
        },
        {
          "output_type": "stream",
          "name": "stdout",
          "text": [
            "\u001b[2m\u001b[36m(launch_and_fit pid=4893)\u001b[0m Epoch 1: train loss 0.09455748647451401, accuracy 0.15333333333333332\n",
            "\u001b[2m\u001b[36m(launch_and_evaluate pid=4893)\u001b[0m [Client 1] evaluate, config: {}\n",
            "\u001b[2m\u001b[36m(launch_and_evaluate pid=4892)\u001b[0m [Client 0] evaluate, config: {}\n"
          ]
        },
        {
          "output_type": "stream",
          "name": "stderr",
          "text": [
            "DEBUG flower 2022-09-20 09:46:06,536 | server.py:184 | evaluate_round 3 received 3 results and 0 failures\n",
            "DEBUG:flower:evaluate_round 3 received 3 results and 0 failures\n"
          ]
        },
        {
          "output_type": "stream",
          "name": "stdout",
          "text": [
            "\u001b[2m\u001b[36m(launch_and_evaluate pid=4893)\u001b[0m [Client 8] evaluate, config: {}\n"
          ]
        },
        {
          "output_type": "stream",
          "name": "stderr",
          "text": [
            "INFO flower 2022-09-20 09:46:06,544 | server.py:144 | FL finished in 68.47128706500007\n",
            "INFO:flower:FL finished in 68.47128706500007\n",
            "INFO flower 2022-09-20 09:46:06,558 | app.py:180 | app_fit: losses_distributed [(1, 6.665569213867187), (2, 1.917873722076416), (3, 0.40250819587707526)]\n",
            "INFO:flower:app_fit: losses_distributed [(1, 6.665569213867187), (2, 1.917873722076416), (3, 0.40250819587707526)]\n",
            "INFO flower 2022-09-20 09:46:06,568 | app.py:181 | app_fit: metrics_distributed {}\n",
            "INFO:flower:app_fit: metrics_distributed {}\n",
            "INFO flower 2022-09-20 09:46:06,574 | app.py:182 | app_fit: losses_centralized []\n",
            "INFO:flower:app_fit: losses_centralized []\n",
            "INFO flower 2022-09-20 09:46:06,580 | app.py:183 | app_fit: metrics_centralized {}\n",
            "INFO:flower:app_fit: metrics_centralized {}\n"
          ]
        },
        {
          "output_type": "execute_result",
          "data": {
            "text/plain": [
              "History (loss, distributed):\n",
              "\tround 1: 6.665569213867187\n",
              "\tround 2: 1.917873722076416\n",
              "\tround 3: 0.40250819587707526"
            ]
          },
          "metadata": {},
          "execution_count": 40
        }
      ]
    },
    {
      "cell_type": "markdown",
      "source": [
        "**Server-side parameter evaluation**\n",
        "\n",
        "Flower can evaluate the aggregated model on the server-side or on the client-side. Client-side and server-side evaluation are similar in some ways, but different in others."
      ],
      "metadata": {
        "id": "MrLlpO-Z2BC2"
      }
    },
    {
      "cell_type": "code",
      "source": [
        "# The `evaluate` function will be by Flower called after every round\n",
        "def evaluate(\n",
        "    server_round: int, parameters: fl.common.NDArrays, config: Dict[str, fl.common.Scalar]\n",
        ") -> Optional[Tuple[float, Dict[str, fl.common.Scalar]]]:\n",
        "    net = Net()\n",
        "    valloader = valloaders[0]\n",
        "    set_parameters(net, parameters)  # Update model with the latest parameters\n",
        "    loss, accuracy = test(net, valloader)\n",
        "    print(f\"Server-side evaluation loss {loss} / accuracy {accuracy}\")\n",
        "    return loss, {\"accuracy\": accuracy}"
      ],
      "metadata": {
        "id": "LGY-q9Ar2R4-"
      },
      "execution_count": null,
      "outputs": []
    },
    {
      "cell_type": "code",
      "source": [
        "strategy = fl.server.strategy.FedAvg(\n",
        "    fraction_fit=0.3,\n",
        "    fraction_evaluate=0.3,\n",
        "    min_fit_clients=3,\n",
        "    min_evaluate_clients=3,\n",
        "    min_available_clients=NUM_CLIENTS,\n",
        "    initial_parameters=fl.common.ndarrays_to_parameters(get_parameters(Net())),\n",
        "    evaluate_fn=evaluate,  # Pass the evaluation function\n",
        ")\n",
        "\n",
        "fl.simulation.start_simulation(\n",
        "    client_fn=client_fn,\n",
        "    num_clients=NUM_CLIENTS,\n",
        "    config=fl.server.ServerConfig(num_rounds=3),  # Just three rounds\n",
        "    strategy=strategy,\n",
        ")"
      ],
      "metadata": {
        "colab": {
          "base_uri": "https://localhost:8080/"
        },
        "id": "qJMA-anl2VzQ",
        "outputId": "51e8edb9-1858-4e6b-da50-0ff20675fc8c"
      },
      "execution_count": null,
      "outputs": [
        {
          "output_type": "stream",
          "name": "stderr",
          "text": [
            "INFO flower 2022-09-20 09:46:06,638 | app.py:145 | Starting Flower simulation, config: ServerConfig(num_rounds=3, round_timeout=None)\n",
            "INFO:flower:Starting Flower simulation, config: ServerConfig(num_rounds=3, round_timeout=None)\n",
            "INFO flower 2022-09-20 09:46:13,947 | app.py:179 | Flower VCE: Ray initialized with resources: {'CPU': 2.0, 'memory': 8041527707.0, 'node:172.28.0.2': 1.0, 'object_store_memory': 4020763852.0}\n",
            "INFO:flower:Flower VCE: Ray initialized with resources: {'CPU': 2.0, 'memory': 8041527707.0, 'node:172.28.0.2': 1.0, 'object_store_memory': 4020763852.0}\n",
            "INFO flower 2022-09-20 09:46:13,966 | server.py:86 | Initializing global parameters\n",
            "INFO:flower:Initializing global parameters\n",
            "INFO flower 2022-09-20 09:46:13,978 | server.py:266 | Using initial parameters provided by strategy\n",
            "INFO:flower:Using initial parameters provided by strategy\n",
            "INFO flower 2022-09-20 09:46:13,981 | server.py:88 | Evaluating initial parameters\n",
            "INFO:flower:Evaluating initial parameters\n",
            "INFO flower 2022-09-20 09:46:14,696 | server.py:95 | initial parameters (loss, other metrics): 0.07366173887252808, {'accuracy': 0.098}\n",
            "INFO:flower:initial parameters (loss, other metrics): 0.07366173887252808, {'accuracy': 0.098}\n",
            "INFO flower 2022-09-20 09:46:14,703 | server.py:101 | FL starting\n",
            "INFO:flower:FL starting\n",
            "DEBUG flower 2022-09-20 09:46:14,715 | server.py:220 | fit_round 1: strategy sampled 3 clients (out of 10)\n",
            "DEBUG:flower:fit_round 1: strategy sampled 3 clients (out of 10)\n"
          ]
        },
        {
          "output_type": "stream",
          "name": "stdout",
          "text": [
            "Server-side evaluation loss 0.07366173887252808 / accuracy 0.098\n",
            "\u001b[2m\u001b[36m(launch_and_fit pid=5142)\u001b[0m [Client 4] fit, config: {}\n",
            "\u001b[2m\u001b[36m(launch_and_fit pid=5143)\u001b[0m [Client 9] fit, config: {}\n",
            "\u001b[2m\u001b[36m(launch_and_fit pid=5143)\u001b[0m Epoch 1: train loss 0.028732066974043846, accuracy 0.24066666666666667\n",
            "\u001b[2m\u001b[36m(launch_and_fit pid=5142)\u001b[0m Epoch 1: train loss 0.028697354719042778, accuracy 0.24733333333333332\n",
            "\u001b[2m\u001b[36m(launch_and_fit pid=5143)\u001b[0m [Client 2] fit, config: {}\n"
          ]
        },
        {
          "output_type": "stream",
          "name": "stderr",
          "text": [
            "DEBUG flower 2022-09-20 09:46:29,079 | server.py:234 | fit_round 1 received 3 results and 0 failures\n",
            "DEBUG:flower:fit_round 1 received 3 results and 0 failures\n",
            "WARNING flower 2022-09-20 09:46:29,103 | fedavg.py:243 | No fit_metrics_aggregation_fn provided\n",
            "WARNING:flower:No fit_metrics_aggregation_fn provided\n"
          ]
        },
        {
          "output_type": "stream",
          "name": "stdout",
          "text": [
            "\u001b[2m\u001b[36m(launch_and_fit pid=5143)\u001b[0m Epoch 1: train loss 0.02880057319998741, accuracy 0.23644444444444446\n"
          ]
        },
        {
          "output_type": "stream",
          "name": "stderr",
          "text": [
            "INFO flower 2022-09-20 09:46:29,329 | server.py:122 | fit progress: (1, 0.06107873702049255, {'accuracy': 0.284}, 14.613359012999354)\n",
            "INFO:flower:fit progress: (1, 0.06107873702049255, {'accuracy': 0.284}, 14.613359012999354)\n",
            "DEBUG flower 2022-09-20 09:46:29,338 | server.py:170 | evaluate_round 1: strategy sampled 3 clients (out of 10)\n",
            "DEBUG:flower:evaluate_round 1: strategy sampled 3 clients (out of 10)\n"
          ]
        },
        {
          "output_type": "stream",
          "name": "stdout",
          "text": [
            "Server-side evaluation loss 0.06107873702049255 / accuracy 0.284\n",
            "\u001b[2m\u001b[36m(launch_and_evaluate pid=5143)\u001b[0m [Client 5] evaluate, config: {}\n",
            "\u001b[2m\u001b[36m(launch_and_evaluate pid=5142)\u001b[0m [Client 1] evaluate, config: {}\n"
          ]
        },
        {
          "output_type": "stream",
          "name": "stderr",
          "text": [
            "DEBUG flower 2022-09-20 09:46:34,757 | server.py:184 | evaluate_round 1 received 3 results and 0 failures\n",
            "DEBUG:flower:evaluate_round 1 received 3 results and 0 failures\n",
            "WARNING flower 2022-09-20 09:46:34,762 | fedavg.py:274 | No evaluate_metrics_aggregation_fn provided\n",
            "WARNING:flower:No evaluate_metrics_aggregation_fn provided\n",
            "DEBUG flower 2022-09-20 09:46:34,766 | server.py:220 | fit_round 2: strategy sampled 3 clients (out of 10)\n",
            "DEBUG:flower:fit_round 2: strategy sampled 3 clients (out of 10)\n"
          ]
        },
        {
          "output_type": "stream",
          "name": "stdout",
          "text": [
            "\u001b[2m\u001b[36m(launch_and_evaluate pid=5143)\u001b[0m [Client 3] evaluate, config: {}\n",
            "\u001b[2m\u001b[36m(launch_and_fit pid=5143)\u001b[0m [Client 9] fit, config: {}\n",
            "\u001b[2m\u001b[36m(launch_and_fit pid=5142)\u001b[0m [Client 6] fit, config: {}\n",
            "\u001b[2m\u001b[36m(launch_and_fit pid=5142)\u001b[0m Epoch 1: train loss 0.026071637868881226, accuracy 0.32022222222222224\n",
            "\u001b[2m\u001b[36m(launch_and_fit pid=5142)\u001b[0m [Client 2] fit, config: {}\n",
            "\u001b[2m\u001b[36m(launch_and_fit pid=5143)\u001b[0m Epoch 1: train loss 0.02540355734527111, accuracy 0.34355555555555556\n"
          ]
        },
        {
          "output_type": "stream",
          "name": "stderr",
          "text": [
            "DEBUG flower 2022-09-20 09:46:47,569 | server.py:234 | fit_round 2 received 3 results and 0 failures\n",
            "DEBUG:flower:fit_round 2 received 3 results and 0 failures\n"
          ]
        },
        {
          "output_type": "stream",
          "name": "stdout",
          "text": [
            "\u001b[2m\u001b[36m(launch_and_fit pid=5142)\u001b[0m Epoch 1: train loss 0.025413407012820244, accuracy 0.33266666666666667\n"
          ]
        },
        {
          "output_type": "stream",
          "name": "stderr",
          "text": [
            "INFO flower 2022-09-20 09:46:47,811 | server.py:122 | fit progress: (2, 0.05569546699523926, {'accuracy': 0.356}, 33.09599590400103)\n",
            "INFO:flower:fit progress: (2, 0.05569546699523926, {'accuracy': 0.356}, 33.09599590400103)\n",
            "DEBUG flower 2022-09-20 09:46:47,819 | server.py:170 | evaluate_round 2: strategy sampled 3 clients (out of 10)\n",
            "DEBUG:flower:evaluate_round 2: strategy sampled 3 clients (out of 10)\n"
          ]
        },
        {
          "output_type": "stream",
          "name": "stdout",
          "text": [
            "Server-side evaluation loss 0.05569546699523926 / accuracy 0.356\n",
            "\u001b[2m\u001b[36m(launch_and_evaluate pid=5142)\u001b[0m [Client 4] evaluate, config: {}\n",
            "\u001b[2m\u001b[36m(launch_and_evaluate pid=5143)\u001b[0m [Client 1] evaluate, config: {}\n"
          ]
        },
        {
          "output_type": "stream",
          "name": "stderr",
          "text": [
            "DEBUG flower 2022-09-20 09:46:53,060 | server.py:184 | evaluate_round 2 received 3 results and 0 failures\n",
            "DEBUG:flower:evaluate_round 2 received 3 results and 0 failures\n",
            "DEBUG flower 2022-09-20 09:46:53,064 | server.py:220 | fit_round 3: strategy sampled 3 clients (out of 10)\n",
            "DEBUG:flower:fit_round 3: strategy sampled 3 clients (out of 10)\n"
          ]
        },
        {
          "output_type": "stream",
          "name": "stdout",
          "text": [
            "\u001b[2m\u001b[36m(launch_and_evaluate pid=5142)\u001b[0m [Client 7] evaluate, config: {}\n",
            "\u001b[2m\u001b[36m(launch_and_fit pid=5142)\u001b[0m [Client 3] fit, config: {}\n",
            "\u001b[2m\u001b[36m(launch_and_fit pid=5143)\u001b[0m [Client 8] fit, config: {}\n",
            "\u001b[2m\u001b[36m(launch_and_fit pid=5142)\u001b[0m Epoch 1: train loss 0.024035247042775154, accuracy 0.37044444444444447\n",
            "\u001b[2m\u001b[36m(launch_and_fit pid=5142)\u001b[0m [Client 0] fit, config: {}\n",
            "\u001b[2m\u001b[36m(launch_and_fit pid=5143)\u001b[0m Epoch 1: train loss 0.023699678480625153, accuracy 0.38622222222222224\n"
          ]
        },
        {
          "output_type": "stream",
          "name": "stderr",
          "text": [
            "DEBUG flower 2022-09-20 09:47:11,904 | server.py:234 | fit_round 3 received 3 results and 0 failures\n",
            "DEBUG:flower:fit_round 3 received 3 results and 0 failures\n"
          ]
        },
        {
          "output_type": "stream",
          "name": "stdout",
          "text": [
            "\u001b[2m\u001b[36m(launch_and_fit pid=5142)\u001b[0m Epoch 1: train loss 0.023908153176307678, accuracy 0.3844444444444444\n"
          ]
        },
        {
          "output_type": "stream",
          "name": "stderr",
          "text": [
            "INFO flower 2022-09-20 09:47:12,168 | server.py:122 | fit progress: (3, 0.05251796293258667, {'accuracy': 0.372}, 57.45232515300086)\n",
            "INFO:flower:fit progress: (3, 0.05251796293258667, {'accuracy': 0.372}, 57.45232515300086)\n",
            "DEBUG flower 2022-09-20 09:47:12,178 | server.py:170 | evaluate_round 3: strategy sampled 3 clients (out of 10)\n",
            "DEBUG:flower:evaluate_round 3: strategy sampled 3 clients (out of 10)\n"
          ]
        },
        {
          "output_type": "stream",
          "name": "stdout",
          "text": [
            "Server-side evaluation loss 0.05251796293258667 / accuracy 0.372\n",
            "\u001b[2m\u001b[36m(launch_and_evaluate pid=5142)\u001b[0m [Client 1] evaluate, config: {}\n",
            "\u001b[2m\u001b[36m(launch_and_evaluate pid=5143)\u001b[0m [Client 2] evaluate, config: {}\n"
          ]
        },
        {
          "output_type": "stream",
          "name": "stderr",
          "text": [
            "DEBUG flower 2022-09-20 09:47:19,390 | server.py:184 | evaluate_round 3 received 3 results and 0 failures\n",
            "DEBUG:flower:evaluate_round 3 received 3 results and 0 failures\n",
            "INFO flower 2022-09-20 09:47:19,394 | server.py:144 | FL finished in 64.67870370399942\n",
            "INFO:flower:FL finished in 64.67870370399942\n",
            "INFO flower 2022-09-20 09:47:19,402 | app.py:180 | app_fit: losses_distributed [(1, 0.060874710957209276), (2, 0.05504145614306132), (3, 0.05293793749809265)]\n",
            "INFO:flower:app_fit: losses_distributed [(1, 0.060874710957209276), (2, 0.05504145614306132), (3, 0.05293793749809265)]\n",
            "INFO flower 2022-09-20 09:47:19,410 | app.py:181 | app_fit: metrics_distributed {}\n",
            "INFO:flower:app_fit: metrics_distributed {}\n",
            "INFO flower 2022-09-20 09:47:19,415 | app.py:182 | app_fit: losses_centralized [(0, 0.07366173887252808), (1, 0.06107873702049255), (2, 0.05569546699523926), (3, 0.05251796293258667)]\n",
            "INFO:flower:app_fit: losses_centralized [(0, 0.07366173887252808), (1, 0.06107873702049255), (2, 0.05569546699523926), (3, 0.05251796293258667)]\n",
            "INFO flower 2022-09-20 09:47:19,420 | app.py:183 | app_fit: metrics_centralized {'accuracy': [(0, 0.098), (1, 0.284), (2, 0.356), (3, 0.372)]}\n",
            "INFO:flower:app_fit: metrics_centralized {'accuracy': [(0, 0.098), (1, 0.284), (2, 0.356), (3, 0.372)]}\n"
          ]
        },
        {
          "output_type": "stream",
          "name": "stdout",
          "text": [
            "\u001b[2m\u001b[36m(launch_and_evaluate pid=5142)\u001b[0m [Client 7] evaluate, config: {}\n"
          ]
        },
        {
          "output_type": "execute_result",
          "data": {
            "text/plain": [
              "History (loss, distributed):\n",
              "\tround 1: 0.060874710957209276\n",
              "\tround 2: 0.05504145614306132\n",
              "\tround 3: 0.05293793749809265\n",
              "History (loss, centralized):\n",
              "\tround 0: 0.07366173887252808\n",
              "\tround 1: 0.06107873702049255\n",
              "\tround 2: 0.05569546699523926\n",
              "\tround 3: 0.05251796293258667\n",
              "History (metrics, centralized):\n",
              "{'accuracy': [(0, 0.098), (1, 0.284), (2, 0.356), (3, 0.372)]}"
            ]
          },
          "metadata": {},
          "execution_count": 42
        }
      ]
    },
    {
      "cell_type": "markdown",
      "source": [
        "**Sending/receiving arbitrary values to/from clients**"
      ],
      "metadata": {
        "id": "8szjD_TY2fne"
      }
    },
    {
      "cell_type": "code",
      "source": [
        "class FlowerClient(fl.client.NumPyClient):\n",
        "    def __init__(self, cid, net, trainloader, valloader):\n",
        "        self.cid = cid\n",
        "        self.net = net\n",
        "        self.trainloader = trainloader\n",
        "        self.valloader = valloader\n",
        "\n",
        "    def get_parameters(self, config):\n",
        "        print(f\"[Client {self.cid}] get_parameters\")\n",
        "        return get_parameters(self.net)\n",
        "\n",
        "    def fit(self, parameters, config):\n",
        "        # Read values from config\n",
        "        server_round = config[\"server_round\"]\n",
        "        local_epochs = config[\"local_epochs\"]\n",
        "\n",
        "        # Use values provided by the config\n",
        "        print(f\"[Client {self.cid}, round {server_round}] fit, config: {config}\")\n",
        "        set_parameters(self.net, parameters)\n",
        "        train(self.net, self.trainloader, epochs=local_epochs)\n",
        "        return get_parameters(self.net), len(self.trainloader), {}\n",
        "\n",
        "    def evaluate(self, parameters, config):\n",
        "        print(f\"[Client {self.cid}] evaluate, config: {config}\")\n",
        "        set_parameters(self.net, parameters)\n",
        "        loss, accuracy = test(self.net, self.valloader)\n",
        "        return float(loss), len(self.valloader), {\"accuracy\": float(accuracy)}\n",
        "\n",
        "\n",
        "def client_fn(cid) -> FlowerClient:\n",
        "    net = Net().to(DEVICE)\n",
        "    trainloader = trainloaders[int(cid)]\n",
        "    valloader = valloaders[int(cid)]\n",
        "    return FlowerClient(cid, net, trainloader, valloader)"
      ],
      "metadata": {
        "id": "GFDfndFV2ifr"
      },
      "execution_count": null,
      "outputs": []
    },
    {
      "cell_type": "markdown",
      "source": [
        "The built-in Flower Strategies provide way to do this, and it works similarly to the way server-side evaluation works. We provide a function to the strategy, and the strategy calls this function for every round of federated learning:"
      ],
      "metadata": {
        "id": "xmN8nN2x3Lui"
      }
    },
    {
      "cell_type": "code",
      "source": [
        "def fit_config(server_round: int):\n",
        "    \"\"\"Return training configuration dict for each round.\n",
        "    \n",
        "    Perform two rounds of training with one local epoch, increase to two local\n",
        "    epochs afterwards.\n",
        "    \"\"\"\n",
        "    config = {\n",
        "        \"server_round\": server_round,  # The current round of federated learning\n",
        "        \"local_epochs\": 1 if server_round < 2 else 2,  # \n",
        "    }\n",
        "    return config"
      ],
      "metadata": {
        "id": "-8w8liru3Mgf"
      },
      "execution_count": null,
      "outputs": []
    },
    {
      "cell_type": "markdown",
      "source": [
        "Next, we'll just pass this function to the FedAvg strategy before starting the simulation:"
      ],
      "metadata": {
        "id": "fNifLPKZ3PMu"
      }
    },
    {
      "cell_type": "code",
      "source": [
        "strategy = fl.server.strategy.FedAvg(\n",
        "    fraction_fit=0.3,\n",
        "    fraction_evaluate=0.3,\n",
        "    min_fit_clients=3,\n",
        "    min_evaluate_clients=3,\n",
        "    min_available_clients=NUM_CLIENTS,\n",
        "    initial_parameters=fl.common.ndarrays_to_parameters(get_parameters(Net())),\n",
        "    evaluate_fn=evaluate,\n",
        "    on_fit_config_fn=fit_config,  # Pass the fit_config function\n",
        ")\n",
        "\n",
        "fl.simulation.start_simulation(\n",
        "    client_fn=client_fn,\n",
        "    num_clients=NUM_CLIENTS,\n",
        "    config=fl.server.ServerConfig(num_rounds=3),  # Just three rounds\n",
        "    strategy=strategy,\n",
        ")"
      ],
      "metadata": {
        "colab": {
          "base_uri": "https://localhost:8080/"
        },
        "id": "jOpwEd_P3TN-",
        "outputId": "8382504e-b109-4786-bb41-3089c512bf23"
      },
      "execution_count": null,
      "outputs": [
        {
          "output_type": "stream",
          "name": "stderr",
          "text": [
            "INFO flower 2022-09-20 09:47:19,510 | app.py:145 | Starting Flower simulation, config: ServerConfig(num_rounds=3, round_timeout=None)\n",
            "INFO:flower:Starting Flower simulation, config: ServerConfig(num_rounds=3, round_timeout=None)\n",
            "INFO flower 2022-09-20 09:47:26,579 | app.py:179 | Flower VCE: Ray initialized with resources: {'object_store_memory': 4021132492.0, 'node:172.28.0.2': 1.0, 'memory': 8042264987.0, 'CPU': 2.0}\n",
            "INFO:flower:Flower VCE: Ray initialized with resources: {'object_store_memory': 4021132492.0, 'node:172.28.0.2': 1.0, 'memory': 8042264987.0, 'CPU': 2.0}\n",
            "INFO flower 2022-09-20 09:47:26,589 | server.py:86 | Initializing global parameters\n",
            "INFO:flower:Initializing global parameters\n",
            "INFO flower 2022-09-20 09:47:26,603 | server.py:266 | Using initial parameters provided by strategy\n",
            "INFO:flower:Using initial parameters provided by strategy\n",
            "INFO flower 2022-09-20 09:47:26,618 | server.py:88 | Evaluating initial parameters\n",
            "INFO:flower:Evaluating initial parameters\n",
            "INFO flower 2022-09-20 09:47:26,965 | server.py:95 | initial parameters (loss, other metrics): 0.07379335117340088, {'accuracy': 0.094}\n",
            "INFO:flower:initial parameters (loss, other metrics): 0.07379335117340088, {'accuracy': 0.094}\n",
            "INFO flower 2022-09-20 09:47:26,972 | server.py:101 | FL starting\n",
            "INFO:flower:FL starting\n",
            "DEBUG flower 2022-09-20 09:47:26,976 | server.py:220 | fit_round 1: strategy sampled 3 clients (out of 10)\n",
            "DEBUG:flower:fit_round 1: strategy sampled 3 clients (out of 10)\n"
          ]
        },
        {
          "output_type": "stream",
          "name": "stdout",
          "text": [
            "Server-side evaluation loss 0.07379335117340088 / accuracy 0.094\n",
            "\u001b[2m\u001b[36m(launch_and_fit pid=5387)\u001b[0m [Client 0, round 1] fit, config: {'server_round': 1, 'local_epochs': 1}\n",
            "\u001b[2m\u001b[36m(launch_and_fit pid=5388)\u001b[0m [Client 4, round 1] fit, config: {'server_round': 1, 'local_epochs': 1}\n",
            "\u001b[2m\u001b[36m(launch_and_fit pid=5388)\u001b[0m Epoch 1: train loss 0.028915295377373695, accuracy 0.23555555555555555\n",
            "\u001b[2m\u001b[36m(launch_and_fit pid=5387)\u001b[0m Epoch 1: train loss 0.02883441187441349, accuracy 0.23666666666666666\n",
            "\u001b[2m\u001b[36m(launch_and_fit pid=5388)\u001b[0m [Client 2, round 1] fit, config: {'server_round': 1, 'local_epochs': 1}\n"
          ]
        },
        {
          "output_type": "stream",
          "name": "stderr",
          "text": [
            "DEBUG flower 2022-09-20 09:47:41,598 | server.py:234 | fit_round 1 received 3 results and 0 failures\n",
            "DEBUG:flower:fit_round 1 received 3 results and 0 failures\n",
            "WARNING flower 2022-09-20 09:47:41,621 | fedavg.py:243 | No fit_metrics_aggregation_fn provided\n",
            "WARNING:flower:No fit_metrics_aggregation_fn provided\n"
          ]
        },
        {
          "output_type": "stream",
          "name": "stdout",
          "text": [
            "\u001b[2m\u001b[36m(launch_and_fit pid=5388)\u001b[0m Epoch 1: train loss 0.029143869876861572, accuracy 0.222\n"
          ]
        },
        {
          "output_type": "stream",
          "name": "stderr",
          "text": [
            "INFO flower 2022-09-20 09:47:41,874 | server.py:122 | fit progress: (1, 0.06193368363380432, {'accuracy': 0.282}, 14.897764425999412)\n",
            "INFO:flower:fit progress: (1, 0.06193368363380432, {'accuracy': 0.282}, 14.897764425999412)\n",
            "DEBUG flower 2022-09-20 09:47:41,883 | server.py:170 | evaluate_round 1: strategy sampled 3 clients (out of 10)\n",
            "DEBUG:flower:evaluate_round 1: strategy sampled 3 clients (out of 10)\n"
          ]
        },
        {
          "output_type": "stream",
          "name": "stdout",
          "text": [
            "Server-side evaluation loss 0.06193368363380432 / accuracy 0.282\n",
            "\u001b[2m\u001b[36m(launch_and_evaluate pid=5388)\u001b[0m [Client 4] evaluate, config: {}\n",
            "\u001b[2m\u001b[36m(launch_and_evaluate pid=5387)\u001b[0m [Client 9] evaluate, config: {}\n"
          ]
        },
        {
          "output_type": "stream",
          "name": "stderr",
          "text": [
            "DEBUG flower 2022-09-20 09:47:47,418 | server.py:184 | evaluate_round 1 received 3 results and 0 failures\n",
            "DEBUG:flower:evaluate_round 1 received 3 results and 0 failures\n",
            "WARNING flower 2022-09-20 09:47:47,422 | fedavg.py:274 | No evaluate_metrics_aggregation_fn provided\n",
            "WARNING:flower:No evaluate_metrics_aggregation_fn provided\n",
            "DEBUG flower 2022-09-20 09:47:47,427 | server.py:220 | fit_round 2: strategy sampled 3 clients (out of 10)\n",
            "DEBUG:flower:fit_round 2: strategy sampled 3 clients (out of 10)\n"
          ]
        },
        {
          "output_type": "stream",
          "name": "stdout",
          "text": [
            "\u001b[2m\u001b[36m(launch_and_evaluate pid=5388)\u001b[0m [Client 7] evaluate, config: {}\n",
            "\u001b[2m\u001b[36m(launch_and_fit pid=5388)\u001b[0m [Client 4, round 2] fit, config: {'server_round': 2, 'local_epochs': 2}\n",
            "\u001b[2m\u001b[36m(launch_and_fit pid=5387)\u001b[0m [Client 0, round 2] fit, config: {'server_round': 2, 'local_epochs': 2}\n",
            "\u001b[2m\u001b[36m(launch_and_fit pid=5387)\u001b[0m Epoch 1: train loss 0.025425514206290245, accuracy 0.3328888888888889\n",
            "\u001b[2m\u001b[36m(launch_and_fit pid=5388)\u001b[0m Epoch 1: train loss 0.02547360770404339, accuracy 0.3308888888888889\n",
            "\u001b[2m\u001b[36m(launch_and_fit pid=5387)\u001b[0m Epoch 2: train loss 0.023518281057476997, accuracy 0.39955555555555555\n",
            "\u001b[2m\u001b[36m(launch_and_fit pid=5387)\u001b[0m [Client 7, round 2] fit, config: {'server_round': 2, 'local_epochs': 2}\n",
            "\u001b[2m\u001b[36m(launch_and_fit pid=5388)\u001b[0m Epoch 2: train loss 0.02346058189868927, accuracy 0.38555555555555554\n",
            "\u001b[2m\u001b[36m(launch_and_fit pid=5387)\u001b[0m Epoch 1: train loss 0.025159846991300583, accuracy 0.342\n"
          ]
        },
        {
          "output_type": "stream",
          "name": "stderr",
          "text": [
            "DEBUG flower 2022-09-20 09:48:08,417 | server.py:234 | fit_round 2 received 3 results and 0 failures\n",
            "DEBUG:flower:fit_round 2 received 3 results and 0 failures\n"
          ]
        },
        {
          "output_type": "stream",
          "name": "stdout",
          "text": [
            "\u001b[2m\u001b[36m(launch_and_fit pid=5387)\u001b[0m Epoch 2: train loss 0.02315029688179493, accuracy 0.39711111111111114\n"
          ]
        },
        {
          "output_type": "stream",
          "name": "stderr",
          "text": [
            "INFO flower 2022-09-20 09:48:08,667 | server.py:122 | fit progress: (2, 0.0529113941192627, {'accuracy': 0.37}, 41.69071497100049)\n",
            "INFO:flower:fit progress: (2, 0.0529113941192627, {'accuracy': 0.37}, 41.69071497100049)\n",
            "DEBUG flower 2022-09-20 09:48:08,674 | server.py:170 | evaluate_round 2: strategy sampled 3 clients (out of 10)\n",
            "DEBUG:flower:evaluate_round 2: strategy sampled 3 clients (out of 10)\n"
          ]
        },
        {
          "output_type": "stream",
          "name": "stdout",
          "text": [
            "Server-side evaluation loss 0.0529113941192627 / accuracy 0.37\n",
            "\u001b[2m\u001b[36m(launch_and_evaluate pid=5387)\u001b[0m [Client 1] evaluate, config: {}\n",
            "\u001b[2m\u001b[36m(launch_and_evaluate pid=5388)\u001b[0m [Client 2] evaluate, config: {}\n"
          ]
        },
        {
          "output_type": "stream",
          "name": "stderr",
          "text": [
            "DEBUG flower 2022-09-20 09:48:13,898 | server.py:184 | evaluate_round 2 received 3 results and 0 failures\n",
            "DEBUG:flower:evaluate_round 2 received 3 results and 0 failures\n",
            "DEBUG flower 2022-09-20 09:48:13,904 | server.py:220 | fit_round 3: strategy sampled 3 clients (out of 10)\n",
            "DEBUG:flower:fit_round 3: strategy sampled 3 clients (out of 10)\n"
          ]
        },
        {
          "output_type": "stream",
          "name": "stdout",
          "text": [
            "\u001b[2m\u001b[36m(launch_and_evaluate pid=5387)\u001b[0m [Client 8] evaluate, config: {}\n",
            "\u001b[2m\u001b[36m(launch_and_fit pid=5387)\u001b[0m [Client 5, round 3] fit, config: {'server_round': 3, 'local_epochs': 2}\n",
            "\u001b[2m\u001b[36m(launch_and_fit pid=5388)\u001b[0m [Client 8, round 3] fit, config: {'server_round': 3, 'local_epochs': 2}\n",
            "\u001b[2m\u001b[36m(launch_and_fit pid=5387)\u001b[0m Epoch 1: train loss 0.023197071626782417, accuracy 0.39444444444444443\n",
            "\u001b[2m\u001b[36m(launch_and_fit pid=5388)\u001b[0m Epoch 1: train loss 0.022655954584479332, accuracy 0.4073333333333333\n",
            "\u001b[2m\u001b[36m(launch_and_fit pid=5387)\u001b[0m Epoch 2: train loss 0.021929292008280754, accuracy 0.4328888888888889\n",
            "\u001b[2m\u001b[36m(launch_and_fit pid=5388)\u001b[0m Epoch 2: train loss 0.02128070592880249, accuracy 0.456\n",
            "\u001b[2m\u001b[36m(launch_and_fit pid=5387)\u001b[0m [Client 4, round 3] fit, config: {'server_round': 3, 'local_epochs': 2}\n",
            "\u001b[2m\u001b[36m(launch_and_fit pid=5387)\u001b[0m Epoch 1: train loss 0.022424334660172462, accuracy 0.42\n"
          ]
        },
        {
          "output_type": "stream",
          "name": "stderr",
          "text": [
            "DEBUG flower 2022-09-20 09:48:34,152 | server.py:234 | fit_round 3 received 3 results and 0 failures\n",
            "DEBUG:flower:fit_round 3 received 3 results and 0 failures\n"
          ]
        },
        {
          "output_type": "stream",
          "name": "stdout",
          "text": [
            "\u001b[2m\u001b[36m(launch_and_fit pid=5387)\u001b[0m Epoch 2: train loss 0.02131221629679203, accuracy 0.4444444444444444\n"
          ]
        },
        {
          "output_type": "stream",
          "name": "stderr",
          "text": [
            "INFO flower 2022-09-20 09:48:34,419 | server.py:122 | fit progress: (3, 0.049777178049087524, {'accuracy': 0.412}, 67.44306098699963)\n",
            "INFO:flower:fit progress: (3, 0.049777178049087524, {'accuracy': 0.412}, 67.44306098699963)\n",
            "DEBUG flower 2022-09-20 09:48:34,428 | server.py:170 | evaluate_round 3: strategy sampled 3 clients (out of 10)\n",
            "DEBUG:flower:evaluate_round 3: strategy sampled 3 clients (out of 10)\n"
          ]
        },
        {
          "output_type": "stream",
          "name": "stdout",
          "text": [
            "Server-side evaluation loss 0.049777178049087524 / accuracy 0.412\n",
            "\u001b[2m\u001b[36m(launch_and_evaluate pid=5387)\u001b[0m [Client 3] evaluate, config: {}\n",
            "\u001b[2m\u001b[36m(launch_and_evaluate pid=5388)\u001b[0m [Client 9] evaluate, config: {}\n"
          ]
        },
        {
          "output_type": "stream",
          "name": "stderr",
          "text": [
            "DEBUG flower 2022-09-20 09:48:39,812 | server.py:184 | evaluate_round 3 received 3 results and 0 failures\n",
            "DEBUG:flower:evaluate_round 3 received 3 results and 0 failures\n",
            "INFO flower 2022-09-20 09:48:39,817 | server.py:144 | FL finished in 72.84085263700035\n",
            "INFO:flower:FL finished in 72.84085263700035\n",
            "INFO flower 2022-09-20 09:48:39,826 | app.py:180 | app_fit: losses_distributed [(1, 0.061482506513595575), (2, 0.05197153854370117), (3, 0.04930508502324423)]\n",
            "INFO:flower:app_fit: losses_distributed [(1, 0.061482506513595575), (2, 0.05197153854370117), (3, 0.04930508502324423)]\n",
            "INFO flower 2022-09-20 09:48:39,835 | app.py:181 | app_fit: metrics_distributed {}\n",
            "INFO:flower:app_fit: metrics_distributed {}\n",
            "INFO flower 2022-09-20 09:48:39,838 | app.py:182 | app_fit: losses_centralized [(0, 0.07379335117340088), (1, 0.06193368363380432), (2, 0.0529113941192627), (3, 0.049777178049087524)]\n",
            "INFO:flower:app_fit: losses_centralized [(0, 0.07379335117340088), (1, 0.06193368363380432), (2, 0.0529113941192627), (3, 0.049777178049087524)]\n",
            "INFO flower 2022-09-20 09:48:39,841 | app.py:183 | app_fit: metrics_centralized {'accuracy': [(0, 0.094), (1, 0.282), (2, 0.37), (3, 0.412)]}\n",
            "INFO:flower:app_fit: metrics_centralized {'accuracy': [(0, 0.094), (1, 0.282), (2, 0.37), (3, 0.412)]}\n"
          ]
        },
        {
          "output_type": "stream",
          "name": "stdout",
          "text": [
            "\u001b[2m\u001b[36m(launch_and_evaluate pid=5387)\u001b[0m [Client 1] evaluate, config: {}\n"
          ]
        },
        {
          "output_type": "execute_result",
          "data": {
            "text/plain": [
              "History (loss, distributed):\n",
              "\tround 1: 0.061482506513595575\n",
              "\tround 2: 0.05197153854370117\n",
              "\tround 3: 0.04930508502324423\n",
              "History (loss, centralized):\n",
              "\tround 0: 0.07379335117340088\n",
              "\tround 1: 0.06193368363380432\n",
              "\tround 2: 0.0529113941192627\n",
              "\tround 3: 0.049777178049087524\n",
              "History (metrics, centralized):\n",
              "{'accuracy': [(0, 0.094), (1, 0.282), (2, 0.37), (3, 0.412)]}"
            ]
          },
          "metadata": {},
          "execution_count": 45
        }
      ]
    },
    {
      "cell_type": "markdown",
      "source": [
        "**Scaling federated learning**"
      ],
      "metadata": {
        "id": "C9wADOva3fjF"
      }
    },
    {
      "cell_type": "code",
      "source": [
        "NUM_CLIENTS = 1000\n",
        "\n",
        "trainloaders, valloaders, testloader = load_datasets(NUM_CLIENTS)"
      ],
      "metadata": {
        "colab": {
          "base_uri": "https://localhost:8080/"
        },
        "id": "9iG8sUj33iVI",
        "outputId": "8cbabcf9-6f6f-4816-b934-e8fce2e3977c"
      },
      "execution_count": null,
      "outputs": [
        {
          "output_type": "stream",
          "name": "stdout",
          "text": [
            "Files already downloaded and verified\n",
            "Files already downloaded and verified\n"
          ]
        }
      ]
    },
    {
      "cell_type": "markdown",
      "source": [
        "adjust the fraction of clients selected for training during each round (we don't want all 1000 clients participating in every round), so we adjust fraction_fit to 0.05, which means that only 5% of available clients (so 50 clients) will be selected for training each round:"
      ],
      "metadata": {
        "id": "zwF2ObjY4L5a"
      }
    },
    {
      "cell_type": "code",
      "source": [
        "def fit_config(server_round: int):\n",
        "    config = {\n",
        "        \"server_round\": server_round,\n",
        "        \"local_epochs\": 3,\n",
        "    }\n",
        "    return config\n",
        "\n",
        "strategy = fl.server.strategy.FedAvg(\n",
        "    fraction_fit=0.025,  # Train on 25 clients (each round)\n",
        "    fraction_evaluate=0.05,  # Evaluate on 50 clients (each round)\n",
        "    min_fit_clients=20,\n",
        "    min_evaluate_clients=40,\n",
        "    min_available_clients=NUM_CLIENTS,\n",
        "    initial_parameters=fl.common.ndarrays_to_parameters(get_parameters(Net())),\n",
        "    on_fit_config_fn=fit_config,\n",
        ")\n",
        "\n",
        "fl.simulation.start_simulation(\n",
        "    client_fn=client_fn,\n",
        "    num_clients=NUM_CLIENTS,\n",
        "    config=fl.server.ServerConfig(num_rounds=3),  # Just three rounds\n",
        "    strategy=strategy,\n",
        ")"
      ],
      "metadata": {
        "colab": {
          "base_uri": "https://localhost:8080/"
        },
        "id": "BWX3Wmbx4MlB",
        "outputId": "ebbca0c7-7db6-4cef-cc0e-34da55a4e185"
      },
      "execution_count": null,
      "outputs": [
        {
          "output_type": "stream",
          "name": "stderr",
          "text": [
            "INFO flower 2022-09-20 09:48:42,278 | app.py:145 | Starting Flower simulation, config: ServerConfig(num_rounds=3, round_timeout=None)\n",
            "INFO:flower:Starting Flower simulation, config: ServerConfig(num_rounds=3, round_timeout=None)\n",
            "2022-09-20 09:48:45,569\tWARNING services.py:2013 -- WARNING: The object store is using /tmp instead of /dev/shm because /dev/shm has only 3913117696 bytes available. This will harm performance! You may be able to free up space by deleting files in /dev/shm. If you are inside a Docker container, you can increase /dev/shm size by passing '--shm-size=4.12gb' to 'docker run' (or add it to the run_options list in a Ray cluster config). Make sure to set this to more than 30% of available RAM.\n",
            "INFO flower 2022-09-20 09:48:49,059 | app.py:179 | Flower VCE: Ray initialized with resources: {'object_store_memory': 4020821606.0, 'node:172.28.0.2': 1.0, 'CPU': 2.0, 'memory': 8041643214.0}\n",
            "INFO:flower:Flower VCE: Ray initialized with resources: {'object_store_memory': 4020821606.0, 'node:172.28.0.2': 1.0, 'CPU': 2.0, 'memory': 8041643214.0}\n",
            "INFO flower 2022-09-20 09:48:49,079 | server.py:86 | Initializing global parameters\n",
            "INFO:flower:Initializing global parameters\n",
            "INFO flower 2022-09-20 09:48:49,087 | server.py:266 | Using initial parameters provided by strategy\n",
            "INFO:flower:Using initial parameters provided by strategy\n",
            "INFO flower 2022-09-20 09:48:49,097 | server.py:88 | Evaluating initial parameters\n",
            "INFO:flower:Evaluating initial parameters\n",
            "INFO flower 2022-09-20 09:48:49,108 | server.py:101 | FL starting\n",
            "INFO:flower:FL starting\n",
            "DEBUG flower 2022-09-20 09:48:49,121 | server.py:220 | fit_round 1: strategy sampled 25 clients (out of 1000)\n",
            "DEBUG:flower:fit_round 1: strategy sampled 25 clients (out of 1000)\n"
          ]
        },
        {
          "output_type": "stream",
          "name": "stdout",
          "text": [
            "\u001b[2m\u001b[36m(launch_and_fit pid=5641)\u001b[0m [Client 198, round 1] fit, config: {'server_round': 1, 'local_epochs': 3}\n",
            "\u001b[2m\u001b[36m(launch_and_fit pid=5641)\u001b[0m Epoch 1: train loss 0.00046276816283352673, accuracy 0.06666666666666667\n",
            "\u001b[2m\u001b[36m(launch_and_fit pid=5641)\u001b[0m Epoch 2: train loss 0.0004588626907207072, accuracy 0.17777777777777778\n",
            "\u001b[2m\u001b[36m(launch_and_fit pid=5641)\u001b[0m Epoch 3: train loss 0.0004556152271106839, accuracy 0.2222222222222222\n",
            "\u001b[2m\u001b[36m(launch_and_fit pid=5641)\u001b[0m [Client 261, round 1] fit, config: {'server_round': 1, 'local_epochs': 3}\n",
            "\u001b[2m\u001b[36m(launch_and_fit pid=5641)\u001b[0m Epoch 1: train loss 0.0004586466820910573, accuracy 0.2222222222222222\n",
            "\u001b[2m\u001b[36m(launch_and_fit pid=5641)\u001b[0m Epoch 2: train loss 0.000451223662821576, accuracy 0.24444444444444444\n",
            "\u001b[2m\u001b[36m(launch_and_fit pid=5641)\u001b[0m Epoch 3: train loss 0.00044412832357920706, accuracy 0.24444444444444444\n",
            "\u001b[2m\u001b[36m(launch_and_fit pid=5641)\u001b[0m [Client 876, round 1] fit, config: {'server_round': 1, 'local_epochs': 3}\n",
            "\u001b[2m\u001b[36m(launch_and_fit pid=5641)\u001b[0m Epoch 1: train loss 0.00045964011223986745, accuracy 0.17777777777777778\n",
            "\u001b[2m\u001b[36m(launch_and_fit pid=5641)\u001b[0m Epoch 2: train loss 0.0004577075014822185, accuracy 0.15555555555555556\n",
            "\u001b[2m\u001b[36m(launch_and_fit pid=5641)\u001b[0m Epoch 3: train loss 0.00045291509013623, accuracy 0.15555555555555556\n",
            "\u001b[2m\u001b[36m(launch_and_fit pid=5642)\u001b[0m [Client 406, round 1] fit, config: {'server_round': 1, 'local_epochs': 3}\n",
            "\u001b[2m\u001b[36m(launch_and_fit pid=5642)\u001b[0m Epoch 1: train loss 0.00046049876254983246, accuracy 0.24444444444444444\n",
            "\u001b[2m\u001b[36m(launch_and_fit pid=5642)\u001b[0m Epoch 2: train loss 0.0004542993556242436, accuracy 0.17777777777777778\n",
            "\u001b[2m\u001b[36m(launch_and_fit pid=5642)\u001b[0m Epoch 3: train loss 0.0004532182647380978, accuracy 0.17777777777777778\n",
            "\u001b[2m\u001b[36m(launch_and_fit pid=5642)\u001b[0m [Client 490, round 1] fit, config: {'server_round': 1, 'local_epochs': 3}\n",
            "\u001b[2m\u001b[36m(launch_and_fit pid=5642)\u001b[0m Epoch 1: train loss 0.00045843678526580334, accuracy 0.1111111111111111\n",
            "\u001b[2m\u001b[36m(launch_and_fit pid=5642)\u001b[0m Epoch 2: train loss 0.000457157613709569, accuracy 0.2\n",
            "\u001b[2m\u001b[36m(launch_and_fit pid=5642)\u001b[0m Epoch 3: train loss 0.0004539123910944909, accuracy 0.2\n",
            "\u001b[2m\u001b[36m(launch_and_fit pid=5642)\u001b[0m [Client 819, round 1] fit, config: {'server_round': 1, 'local_epochs': 3}\n",
            "\u001b[2m\u001b[36m(launch_and_fit pid=5642)\u001b[0m Epoch 1: train loss 0.0004627266898751259, accuracy 0.13333333333333333\n",
            "\u001b[2m\u001b[36m(launch_and_fit pid=5642)\u001b[0m Epoch 2: train loss 0.00045911435154266655, accuracy 0.15555555555555556\n",
            "\u001b[2m\u001b[36m(launch_and_fit pid=5642)\u001b[0m Epoch 3: train loss 0.00045657859300263226, accuracy 0.13333333333333333\n",
            "\u001b[2m\u001b[36m(launch_and_fit pid=5641)\u001b[0m [Client 985, round 1] fit, config: {'server_round': 1, 'local_epochs': 3}\n",
            "\u001b[2m\u001b[36m(launch_and_fit pid=5641)\u001b[0m Epoch 1: train loss 0.0004620258405338973, accuracy 0.15555555555555556\n",
            "\u001b[2m\u001b[36m(launch_and_fit pid=5641)\u001b[0m Epoch 2: train loss 0.00045892506022937596, accuracy 0.1111111111111111\n",
            "\u001b[2m\u001b[36m(launch_and_fit pid=5641)\u001b[0m Epoch 3: train loss 0.0004568339209072292, accuracy 0.1111111111111111\n",
            "\u001b[2m\u001b[36m(launch_and_fit pid=5642)\u001b[0m [Client 749, round 1] fit, config: {'server_round': 1, 'local_epochs': 3}\n",
            "\u001b[2m\u001b[36m(launch_and_fit pid=5642)\u001b[0m Epoch 1: train loss 0.0004619171086233109, accuracy 0.17777777777777778\n",
            "\u001b[2m\u001b[36m(launch_and_fit pid=5642)\u001b[0m Epoch 2: train loss 0.00045537558617070317, accuracy 0.2\n",
            "\u001b[2m\u001b[36m(launch_and_fit pid=5642)\u001b[0m Epoch 3: train loss 0.0004513886524364352, accuracy 0.24444444444444444\n",
            "\u001b[2m\u001b[36m(launch_and_fit pid=5641)\u001b[0m [Client 344, round 1] fit, config: {'server_round': 1, 'local_epochs': 3}\n",
            "\u001b[2m\u001b[36m(launch_and_fit pid=5641)\u001b[0m Epoch 1: train loss 0.00045932256034575403, accuracy 0.15555555555555556\n",
            "\u001b[2m\u001b[36m(launch_and_fit pid=5641)\u001b[0m Epoch 2: train loss 0.00045540000428445637, accuracy 0.2\n",
            "\u001b[2m\u001b[36m(launch_and_fit pid=5641)\u001b[0m Epoch 3: train loss 0.00045418995432555676, accuracy 0.2\n",
            "\u001b[2m\u001b[36m(launch_and_fit pid=5642)\u001b[0m [Client 419, round 1] fit, config: {'server_round': 1, 'local_epochs': 3}\n",
            "\u001b[2m\u001b[36m(launch_and_fit pid=5642)\u001b[0m Epoch 1: train loss 0.00046228646533563733, accuracy 0.08888888888888889\n",
            "\u001b[2m\u001b[36m(launch_and_fit pid=5642)\u001b[0m Epoch 2: train loss 0.0004587416769936681, accuracy 0.13333333333333333\n",
            "\u001b[2m\u001b[36m(launch_and_fit pid=5642)\u001b[0m Epoch 3: train loss 0.0004578041553031653, accuracy 0.13333333333333333\n",
            "\u001b[2m\u001b[36m(launch_and_fit pid=5642)\u001b[0m [Client 122, round 1] fit, config: {'server_round': 1, 'local_epochs': 3}\n",
            "\u001b[2m\u001b[36m(launch_and_fit pid=5642)\u001b[0m Epoch 1: train loss 0.0004584558482747525, accuracy 0.2\n",
            "\u001b[2m\u001b[36m(launch_and_fit pid=5642)\u001b[0m Epoch 2: train loss 0.0004569407319650054, accuracy 0.2\n",
            "\u001b[2m\u001b[36m(launch_and_fit pid=5641)\u001b[0m [Client 829, round 1] fit, config: {'server_round': 1, 'local_epochs': 3}\n",
            "\u001b[2m\u001b[36m(launch_and_fit pid=5641)\u001b[0m Epoch 1: train loss 0.00046209641732275486, accuracy 0.06666666666666667\n",
            "\u001b[2m\u001b[36m(launch_and_fit pid=5642)\u001b[0m Epoch 3: train loss 0.0004544043622445315, accuracy 0.2\n",
            "\u001b[2m\u001b[36m(launch_and_fit pid=5641)\u001b[0m Epoch 2: train loss 0.00046145639498718083, accuracy 0.2222222222222222\n",
            "\u001b[2m\u001b[36m(launch_and_fit pid=5641)\u001b[0m Epoch 3: train loss 0.0004583118425216526, accuracy 0.2222222222222222\n",
            "\u001b[2m\u001b[36m(launch_and_fit pid=5642)\u001b[0m [Client 49, round 1] fit, config: {'server_round': 1, 'local_epochs': 3}\n",
            "\u001b[2m\u001b[36m(launch_and_fit pid=5642)\u001b[0m Epoch 1: train loss 0.0004596733197104186, accuracy 0.08888888888888889\n",
            "\u001b[2m\u001b[36m(launch_and_fit pid=5641)\u001b[0m [Client 693, round 1] fit, config: {'server_round': 1, 'local_epochs': 3}\n",
            "\u001b[2m\u001b[36m(launch_and_fit pid=5641)\u001b[0m Epoch 1: train loss 0.0004617914091795683, accuracy 0.08888888888888889\n",
            "\u001b[2m\u001b[36m(launch_and_fit pid=5641)\u001b[0m Epoch 2: train loss 0.00045721884816884995, accuracy 0.2\n",
            "\u001b[2m\u001b[36m(launch_and_fit pid=5642)\u001b[0m Epoch 2: train loss 0.00045569590292871, accuracy 0.13333333333333333\n",
            "\u001b[2m\u001b[36m(launch_and_fit pid=5641)\u001b[0m Epoch 3: train loss 0.0004573056648951024, accuracy 0.17777777777777778\n",
            "\u001b[2m\u001b[36m(launch_and_fit pid=5642)\u001b[0m Epoch 3: train loss 0.00045467406744137406, accuracy 0.15555555555555556\n",
            "\u001b[2m\u001b[36m(launch_and_fit pid=5641)\u001b[0m [Client 891, round 1] fit, config: {'server_round': 1, 'local_epochs': 3}\n",
            "\u001b[2m\u001b[36m(launch_and_fit pid=5641)\u001b[0m Epoch 1: train loss 0.0004586140566971153, accuracy 0.044444444444444446\n",
            "\u001b[2m\u001b[36m(launch_and_fit pid=5641)\u001b[0m Epoch 2: train loss 0.0004569475131575018, accuracy 0.17777777777777778\n",
            "\u001b[2m\u001b[36m(launch_and_fit pid=5641)\u001b[0m Epoch 3: train loss 0.0004531835438683629, accuracy 0.2222222222222222\n",
            "\u001b[2m\u001b[36m(launch_and_fit pid=5642)\u001b[0m [Client 131, round 1] fit, config: {'server_round': 1, 'local_epochs': 3}\n",
            "\u001b[2m\u001b[36m(launch_and_fit pid=5641)\u001b[0m [Client 680, round 1] fit, config: {'server_round': 1, 'local_epochs': 3}\n",
            "\u001b[2m\u001b[36m(launch_and_fit pid=5641)\u001b[0m Epoch 1: train loss 0.00046211370499804616, accuracy 0.13333333333333333\n",
            "\u001b[2m\u001b[36m(launch_and_fit pid=5642)\u001b[0m Epoch 1: train loss 0.00045829833834432065, accuracy 0.15555555555555556\n",
            "\u001b[2m\u001b[36m(launch_and_fit pid=5641)\u001b[0m Epoch 2: train loss 0.0004588715673889965, accuracy 0.1111111111111111\n",
            "\u001b[2m\u001b[36m(launch_and_fit pid=5641)\u001b[0m Epoch 3: train loss 0.0004578995576594025, accuracy 0.28888888888888886\n",
            "\u001b[2m\u001b[36m(launch_and_fit pid=5642)\u001b[0m Epoch 2: train loss 0.000456398498499766, accuracy 0.2\n",
            "\u001b[2m\u001b[36m(launch_and_fit pid=5642)\u001b[0m Epoch 3: train loss 0.00045503798173740506, accuracy 0.2\n",
            "\u001b[2m\u001b[36m(launch_and_fit pid=5642)\u001b[0m [Client 853, round 1] fit, config: {'server_round': 1, 'local_epochs': 3}\n",
            "\u001b[2m\u001b[36m(launch_and_fit pid=5642)\u001b[0m Epoch 1: train loss 0.0004556871426757425, accuracy 0.08888888888888889\n",
            "\u001b[2m\u001b[36m(launch_and_fit pid=5642)\u001b[0m Epoch 2: train loss 0.00045350028085522354, accuracy 0.2\n",
            "\u001b[2m\u001b[36m(launch_and_fit pid=5641)\u001b[0m [Client 78, round 1] fit, config: {'server_round': 1, 'local_epochs': 3}\n",
            "\u001b[2m\u001b[36m(launch_and_fit pid=5642)\u001b[0m Epoch 3: train loss 0.0004519302456174046, accuracy 0.2\n",
            "\u001b[2m\u001b[36m(launch_and_fit pid=5641)\u001b[0m Epoch 1: train loss 0.00046035327250137925, accuracy 0.1111111111111111\n",
            "\u001b[2m\u001b[36m(launch_and_fit pid=5641)\u001b[0m Epoch 2: train loss 0.00045575841795653105, accuracy 0.17777777777777778\n",
            "\u001b[2m\u001b[36m(launch_and_fit pid=5641)\u001b[0m Epoch 3: train loss 0.0004554837360046804, accuracy 0.17777777777777778\n"
          ]
        },
        {
          "output_type": "stream",
          "name": "stderr",
          "text": [
            "\u001b[2m\u001b[36m(raylet)\u001b[0m Spilled 3535 MiB, 36 objects, write throughput 186 MiB/s. Set RAY_verbose_spill_logs=0 to disable this message.\n"
          ]
        },
        {
          "output_type": "stream",
          "name": "stdout",
          "text": [
            "\u001b[2m\u001b[36m(launch_and_fit pid=5641)\u001b[0m [Client 182, round 1] fit, config: {'server_round': 1, 'local_epochs': 3}\n",
            "\u001b[2m\u001b[36m(launch_and_fit pid=5641)\u001b[0m Epoch 1: train loss 0.0004620575055014342, accuracy 0.13333333333333333\n",
            "\u001b[2m\u001b[36m(launch_and_fit pid=5641)\u001b[0m Epoch 2: train loss 0.0004585843125823885, accuracy 0.13333333333333333\n",
            "\u001b[2m\u001b[36m(launch_and_fit pid=5641)\u001b[0m Epoch 3: train loss 0.00045950827188789845, accuracy 0.13333333333333333\n",
            "\u001b[2m\u001b[36m(launch_and_fit pid=5641)\u001b[0m [Client 790, round 1] fit, config: {'server_round': 1, 'local_epochs': 3}\n",
            "\u001b[2m\u001b[36m(launch_and_fit pid=5641)\u001b[0m Epoch 1: train loss 0.0004588753799907863, accuracy 0.15555555555555556\n",
            "\u001b[2m\u001b[36m(launch_and_fit pid=5641)\u001b[0m \n",
            "\u001b[2m\u001b[36m(launch_and_fit pid=5641)\u001b[0m Epoch 2: train loss 0.0004579337255563587, accuracy 0.15555555555555556\n",
            "\u001b[2m\u001b[36m(launch_and_fit pid=5641)\u001b[0m Epoch 3: train loss 0.00045398122165352106, accuracy 0.15555555555555556\n",
            "\u001b[2m\u001b[36m(launch_and_fit pid=5642)\u001b[0m [Client 730, round 1] fit, config: {'server_round': 1, 'local_epochs': 3}\n",
            "\u001b[2m\u001b[36m(launch_and_fit pid=5642)\u001b[0m Epoch 1: train loss 0.0004627850139513612, accuracy 0.1111111111111111\n",
            "\u001b[2m\u001b[36m(launch_and_fit pid=5642)\u001b[0m Epoch 2: train loss 0.000459058559499681, accuracy 0.1111111111111111\n",
            "\u001b[2m\u001b[36m(launch_and_fit pid=5641)\u001b[0m [Client 863, round 1] fit, config: {'server_round': 1, 'local_epochs': 3}\n",
            "\u001b[2m\u001b[36m(launch_and_fit pid=5641)\u001b[0m Epoch 1: train loss 0.00045751227298751473, accuracy 0.13333333333333333\n",
            "\u001b[2m\u001b[36m(launch_and_fit pid=5641)\u001b[0m Epoch 2: train loss 0.00045342574594542384, accuracy 0.35555555555555557\n",
            "\u001b[2m\u001b[36m(launch_and_fit pid=5642)\u001b[0m Epoch 3: train loss 0.0004562009416986257, accuracy 0.1111111111111111\n",
            "\u001b[2m\u001b[36m(launch_and_fit pid=5641)\u001b[0m Epoch 3: train loss 0.00044612024794332683, accuracy 0.3111111111111111\n",
            "\u001b[2m\u001b[36m(launch_and_fit pid=5641)\u001b[0m [Client 47, round 1] fit, config: {'server_round': 1, 'local_epochs': 3}\n",
            "\u001b[2m\u001b[36m(launch_and_fit pid=5641)\u001b[0m Epoch 1: train loss 0.00046194077003747225, accuracy 0.08888888888888889\n",
            "\u001b[2m\u001b[36m(launch_and_fit pid=5642)\u001b[0m [Client 10, round 1] fit, config: {'server_round': 1, 'local_epochs': 3}\n"
          ]
        },
        {
          "output_type": "stream",
          "name": "stderr",
          "text": [
            "DEBUG flower 2022-09-20 09:49:58,805 | server.py:234 | fit_round 1 received 25 results and 0 failures\n"
          ]
        },
        {
          "output_type": "stream",
          "name": "stdout",
          "text": [
            "\u001b[2m\u001b[36m(launch_and_fit pid=5641)\u001b[0m Epoch 2: train loss 0.0004547480493783951, accuracy 0.1111111111111111\n",
            "\u001b[2m\u001b[36m(launch_and_fit pid=5641)\u001b[0m Epoch 3: train loss 0.0004490126739256084, accuracy 0.37777777777777777\n",
            "\u001b[2m\u001b[36m(launch_and_fit pid=5642)\u001b[0m Epoch 1: train loss 0.00046440199366770685, accuracy 0.044444444444444446\n",
            "\u001b[2m\u001b[36m(launch_and_fit pid=5642)\u001b[0m Epoch 2: train loss 0.00045970550854690373, accuracy 0.1111111111111111\n"
          ]
        },
        {
          "output_type": "stream",
          "name": "stderr",
          "text": [
            "DEBUG:flower:fit_round 1 received 25 results and 0 failures\n"
          ]
        },
        {
          "output_type": "stream",
          "name": "stdout",
          "text": [
            "\u001b[2m\u001b[36m(launch_and_fit pid=5642)\u001b[0m Epoch 3: train loss 0.0004562056565191597, accuracy 0.1111111111111111\n"
          ]
        },
        {
          "output_type": "stream",
          "name": "stderr",
          "text": [
            "WARNING flower 2022-09-20 09:49:59,073 | fedavg.py:243 | No fit_metrics_aggregation_fn provided\n",
            "WARNING:flower:No fit_metrics_aggregation_fn provided\n",
            "DEBUG flower 2022-09-20 09:49:59,086 | server.py:170 | evaluate_round 1: strategy sampled 50 clients (out of 1000)\n",
            "DEBUG:flower:evaluate_round 1: strategy sampled 50 clients (out of 1000)\n",
            "\u001b[2m\u001b[36m(raylet)\u001b[0m Spilled 4420 MiB, 46 objects, write throughput 186 MiB/s.\n"
          ]
        },
        {
          "output_type": "stream",
          "name": "stdout",
          "text": [
            "\u001b[2m\u001b[36m(launch_and_evaluate pid=5642)\u001b[0m [Client 579] evaluate, config: {}\n",
            "\u001b[2m\u001b[36m(launch_and_evaluate pid=5641)\u001b[0m [Client 309] evaluate, config: {}\n",
            "\u001b[2m\u001b[36m(launch_and_evaluate pid=5642)\u001b[0m [Client 70] evaluate, config: {}\n",
            "\u001b[2m\u001b[36m(launch_and_evaluate pid=5641)\u001b[0m [Client 744] evaluate, config: {}\n",
            "\u001b[2m\u001b[36m(launch_and_evaluate pid=5642)\u001b[0m [Client 758] evaluate, config: {}\n",
            "\u001b[2m\u001b[36m(launch_and_evaluate pid=5641)\u001b[0m [Client 112] evaluate, config: {}\n",
            "\u001b[2m\u001b[36m(launch_and_evaluate pid=5642)\u001b[0m [Client 837] evaluate, config: {}\n",
            "\u001b[2m\u001b[36m(launch_and_evaluate pid=5641)\u001b[0m [Client 45] evaluate, config: {}\n",
            "\u001b[2m\u001b[36m(launch_and_evaluate pid=5641)\u001b[0m [Client 781] evaluate, config: {}\n",
            "\u001b[2m\u001b[36m(launch_and_evaluate pid=5642)\u001b[0m [Client 226] evaluate, config: {}\n",
            "\u001b[2m\u001b[36m(launch_and_evaluate pid=5642)\u001b[0m [Client 179] evaluate, config: {}\n",
            "\u001b[2m\u001b[36m(launch_and_evaluate pid=5642)\u001b[0m [Client 382] evaluate, config: {}\n",
            "\u001b[2m\u001b[36m(launch_and_evaluate pid=5641)\u001b[0m [Client 410] evaluate, config: {}\n",
            "\u001b[2m\u001b[36m(launch_and_evaluate pid=5642)\u001b[0m [Client 657] evaluate, config: {}\n",
            "\u001b[2m\u001b[36m(launch_and_evaluate pid=5642)\u001b[0m [Client 581] evaluate, config: {}\n",
            "\u001b[2m\u001b[36m(launch_and_evaluate pid=5641)\u001b[0m [Client 853] evaluate, config: {}\n",
            "\u001b[2m\u001b[36m(launch_and_evaluate pid=5641)\u001b[0m [Client 108] evaluate, config: {}\n",
            "\u001b[2m\u001b[36m(launch_and_evaluate pid=5642)\u001b[0m [Client 922] evaluate, config: {}\n",
            "\u001b[2m\u001b[36m(launch_and_evaluate pid=5642)\u001b[0m [Client 359] evaluate, config: {}\n",
            "\u001b[2m\u001b[36m(launch_and_evaluate pid=5641)\u001b[0m [Client 142] evaluate, config: {}\n",
            "\u001b[2m\u001b[36m(launch_and_evaluate pid=5641)\u001b[0m [Client 586] evaluate, config: {}\n",
            "\u001b[2m\u001b[36m(launch_and_evaluate pid=5642)\u001b[0m [Client 213] evaluate, config: {}\n",
            "\u001b[2m\u001b[36m(launch_and_evaluate pid=5641)\u001b[0m [Client 492] evaluate, config: {}\n",
            "\u001b[2m\u001b[36m(launch_and_evaluate pid=5642)\u001b[0m [Client 154] evaluate, config: {}\n",
            "\u001b[2m\u001b[36m(launch_and_evaluate pid=5642)\u001b[0m [Client 387] evaluate, config: {}\n",
            "\u001b[2m\u001b[36m(launch_and_evaluate pid=5642)\u001b[0m [Client 753] evaluate, config: {}\n",
            "\u001b[2m\u001b[36m(launch_and_evaluate pid=5641)\u001b[0m [Client 53] evaluate, config: {}\n",
            "\u001b[2m\u001b[36m(launch_and_evaluate pid=5642)\u001b[0m [Client 843] evaluate, config: {}\n",
            "\u001b[2m\u001b[36m(launch_and_evaluate pid=5642)\u001b[0m [Client 491] evaluate, config: {}\n",
            "\u001b[2m\u001b[36m(launch_and_evaluate pid=5642)\u001b[0m [Client 776] evaluate, config: {}\n",
            "\u001b[2m\u001b[36m(launch_and_evaluate pid=5642)\u001b[0m [Client 832] evaluate, config: {}\n",
            "\u001b[2m\u001b[36m(launch_and_evaluate pid=5641)\u001b[0m [Client 522] evaluate, config: {}\n",
            "\u001b[2m\u001b[36m(launch_and_evaluate pid=5642)\u001b[0m [Client 900] evaluate, config: {}\n",
            "\u001b[2m\u001b[36m(launch_and_evaluate pid=5642)\u001b[0m [Client 467] evaluate, config: {}\n",
            "\u001b[2m\u001b[36m(launch_and_evaluate pid=5642)\u001b[0m [Client 431] evaluate, config: {}\n",
            "\u001b[2m\u001b[36m(launch_and_evaluate pid=5642)\u001b[0m [Client 351] evaluate, config: {}\n",
            "\u001b[2m\u001b[36m(launch_and_evaluate pid=5642)\u001b[0m [Client 841] evaluate, config: {}\n",
            "\u001b[2m\u001b[36m(launch_and_evaluate pid=5642)\u001b[0m [Client 652] evaluate, config: {}\n",
            "\u001b[2m\u001b[36m(launch_and_evaluate pid=5641)\u001b[0m [Client 496] evaluate, config: {}\n",
            "\u001b[2m\u001b[36m(launch_and_evaluate pid=5641)\u001b[0m [Client 641] evaluate, config: {}\n",
            "\u001b[2m\u001b[36m(launch_and_evaluate pid=5642)\u001b[0m [Client 916] evaluate, config: {}\n",
            "\u001b[2m\u001b[36m(launch_and_evaluate pid=5642)\u001b[0m [Client 687] evaluate, config: {}\n",
            "\u001b[2m\u001b[36m(launch_and_evaluate pid=5641)\u001b[0m [Client 975] evaluate, config: {}\n",
            "\u001b[2m\u001b[36m(launch_and_evaluate pid=5642)\u001b[0m [Client 336] evaluate, config: {}\n",
            "\u001b[2m\u001b[36m(launch_and_evaluate pid=5642)\u001b[0m [Client 116] evaluate, config: {}\n",
            "\u001b[2m\u001b[36m(launch_and_evaluate pid=5642)\u001b[0m [Client 911] evaluate, config: {}\n",
            "\u001b[2m\u001b[36m(launch_and_evaluate pid=5642)\u001b[0m [Client 723] evaluate, config: {}\n",
            "\u001b[2m\u001b[36m(launch_and_evaluate pid=5642)\u001b[0m [Client 560] evaluate, config: {}\n"
          ]
        },
        {
          "output_type": "stream",
          "name": "stderr",
          "text": [
            "DEBUG flower 2022-09-20 09:51:40,871 | server.py:184 | evaluate_round 1 received 50 results and 0 failures\n",
            "DEBUG:flower:evaluate_round 1 received 50 results and 0 failures\n",
            "WARNING flower 2022-09-20 09:51:40,879 | fedavg.py:274 | No evaluate_metrics_aggregation_fn provided\n",
            "WARNING:flower:No evaluate_metrics_aggregation_fn provided\n",
            "DEBUG flower 2022-09-20 09:51:40,888 | server.py:220 | fit_round 2: strategy sampled 25 clients (out of 1000)\n",
            "DEBUG:flower:fit_round 2: strategy sampled 25 clients (out of 1000)\n"
          ]
        },
        {
          "output_type": "stream",
          "name": "stdout",
          "text": [
            "\u001b[2m\u001b[36m(launch_and_evaluate pid=5641)\u001b[0m [Client 615] evaluate, config: {}\n",
            "\u001b[2m\u001b[36m(launch_and_evaluate pid=5642)\u001b[0m [Client 538] evaluate, config: {}\n",
            "\u001b[2m\u001b[36m(launch_and_fit pid=5642)\u001b[0m [Client 826, round 2] fit, config: {'server_round': 2, 'local_epochs': 3}\n",
            "\u001b[2m\u001b[36m(launch_and_fit pid=5641)\u001b[0m [Client 52, round 2] fit, config: {'server_round': 2, 'local_epochs': 3}\n",
            "\u001b[2m\u001b[36m(launch_and_fit pid=5641)\u001b[0m Epoch 1: train loss 0.00046037090942263603, accuracy 0.15555555555555556\n",
            "\u001b[2m\u001b[36m(launch_and_fit pid=5642)\u001b[0m Epoch 1: train loss 0.0004610776377376169, accuracy 0.06666666666666667\n",
            "\u001b[2m\u001b[36m(launch_and_fit pid=5641)\u001b[0m Epoch 2: train loss 0.00045582844177260995, accuracy 0.13333333333333333\n",
            "\u001b[2m\u001b[36m(launch_and_fit pid=5642)\u001b[0m Epoch 2: train loss 0.00045773087185807526, accuracy 0.06666666666666667\n",
            "\u001b[2m\u001b[36m(launch_and_fit pid=5641)\u001b[0m Epoch 3: train loss 0.00045395150664262474, accuracy 0.15555555555555556\n",
            "\u001b[2m\u001b[36m(launch_and_fit pid=5642)\u001b[0m Epoch 3: train loss 0.000452973268693313, accuracy 0.1111111111111111\n",
            "\u001b[2m\u001b[36m(launch_and_fit pid=5641)\u001b[0m [Client 133, round 2] fit, config: {'server_round': 2, 'local_epochs': 3}\n",
            "\u001b[2m\u001b[36m(launch_and_fit pid=5641)\u001b[0m Epoch 1: train loss 0.0004614918725565076, accuracy 0.15555555555555556\n",
            "\u001b[2m\u001b[36m(launch_and_fit pid=5641)\u001b[0m Epoch 2: train loss 0.0004574775812216103, accuracy 0.15555555555555556\n",
            "\u001b[2m\u001b[36m(launch_and_fit pid=5642)\u001b[0m [Client 886, round 2] fit, config: {'server_round': 2, 'local_epochs': 3}\n",
            "\u001b[2m\u001b[36m(launch_and_fit pid=5641)\u001b[0m Epoch 3: train loss 0.00045428427984006703, accuracy 0.15555555555555556\n",
            "\u001b[2m\u001b[36m(launch_and_fit pid=5642)\u001b[0m Epoch 1: train loss 0.000463754462543875, accuracy 0.06666666666666667\n",
            "\u001b[2m\u001b[36m(launch_and_fit pid=5642)\u001b[0m Epoch 2: train loss 0.0004575826751533896, accuracy 0.1111111111111111\n",
            "\u001b[2m\u001b[36m(launch_and_fit pid=5642)\u001b[0m Epoch 3: train loss 0.0004530003643594682, accuracy 0.24444444444444444\n",
            "\u001b[2m\u001b[36m(launch_and_fit pid=5642)\u001b[0m [Client 83, round 2] fit, config: {'server_round': 2, 'local_epochs': 3}\n",
            "\u001b[2m\u001b[36m(launch_and_fit pid=5641)\u001b[0m [Client 853, round 2] fit, config: {'server_round': 2, 'local_epochs': 3}\n",
            "\u001b[2m\u001b[36m(launch_and_fit pid=5642)\u001b[0m Epoch 1: train loss 0.00046098805614747107, accuracy 0.0\n",
            "\u001b[2m\u001b[36m(launch_and_fit pid=5641)\u001b[0m Epoch 1: train loss 0.0004566636052913964, accuracy 0.15555555555555556\n",
            "\u001b[2m\u001b[36m(launch_and_fit pid=5642)\u001b[0m Epoch 2: train loss 0.0004539527290035039, accuracy 0.13333333333333333\n",
            "\u001b[2m\u001b[36m(launch_and_fit pid=5642)\u001b[0m Epoch 3: train loss 0.00044711981900036335, accuracy 0.24444444444444444\n",
            "\u001b[2m\u001b[36m(launch_and_fit pid=5641)\u001b[0m Epoch 2: train loss 0.00045168629731051624, accuracy 0.2\n",
            "\u001b[2m\u001b[36m(launch_and_fit pid=5641)\u001b[0m Epoch 3: train loss 0.0004451630520634353, accuracy 0.2\n",
            "\u001b[2m\u001b[36m(launch_and_fit pid=5642)\u001b[0m [Client 654, round 2] fit, config: {'server_round': 2, 'local_epochs': 3}\n",
            "\u001b[2m\u001b[36m(launch_and_fit pid=5642)\u001b[0m Epoch 1: train loss 0.00045890521141700447, accuracy 0.1111111111111111\n",
            "\u001b[2m\u001b[36m(launch_and_fit pid=5642)\u001b[0m Epoch 2: train loss 0.0004539011570159346, accuracy 0.17777777777777778\n",
            "\u001b[2m\u001b[36m(launch_and_fit pid=5642)\u001b[0m Epoch 3: train loss 0.00044913310557603836, accuracy 0.17777777777777778\n",
            "\u001b[2m\u001b[36m(launch_and_fit pid=5641)\u001b[0m [Client 413, round 2] fit, config: {'server_round': 2, 'local_epochs': 3}\n",
            "\u001b[2m\u001b[36m(launch_and_fit pid=5642)\u001b[0m [Client 958, round 2] fit, config: {'server_round': 2, 'local_epochs': 3}\n",
            "\u001b[2m\u001b[36m(launch_and_fit pid=5641)\u001b[0m Epoch 1: train loss 0.0004554026236291975, accuracy 0.3111111111111111\n",
            "\u001b[2m\u001b[36m(launch_and_fit pid=5641)\u001b[0m Epoch 2: train loss 0.0004548737488221377, accuracy 0.26666666666666666\n",
            "\u001b[2m\u001b[36m(launch_and_fit pid=5642)\u001b[0m Epoch 1: train loss 0.0004598381055984646, accuracy 0.08888888888888889\n",
            "\u001b[2m\u001b[36m(launch_and_fit pid=5642)\u001b[0m Epoch 2: train loss 0.0004563380207400769, accuracy 0.13333333333333333\n",
            "\u001b[2m\u001b[36m(launch_and_fit pid=5641)\u001b[0m Epoch 3: train loss 0.00045032863272354007, accuracy 0.2\n",
            "\u001b[2m\u001b[36m(launch_and_fit pid=5642)\u001b[0m Epoch 3: train loss 0.0004542415263131261, accuracy 0.1111111111111111\n",
            "\u001b[2m\u001b[36m(launch_and_fit pid=5642)\u001b[0m [Client 310, round 2] fit, config: {'server_round': 2, 'local_epochs': 3}\n",
            "\u001b[2m\u001b[36m(launch_and_fit pid=5642)\u001b[0m Epoch 1: train loss 0.0004645723383873701, accuracy 0.06666666666666667\n",
            "\u001b[2m\u001b[36m(launch_and_fit pid=5642)\u001b[0m Epoch 2: train loss 0.0004595582140609622, accuracy 0.08888888888888889\n",
            "\u001b[2m\u001b[36m(launch_and_fit pid=5642)\u001b[0m Epoch 3: train loss 0.0004549085278995335, accuracy 0.2\n",
            "\u001b[2m\u001b[36m(launch_and_fit pid=5642)\u001b[0m [Client 702, round 2] fit, config: {'server_round': 2, 'local_epochs': 3}\n",
            "\u001b[2m\u001b[36m(launch_and_fit pid=5642)\u001b[0m Epoch 1: train loss 0.00046121401828713715, accuracy 0.13333333333333333\n",
            "\u001b[2m\u001b[36m(launch_and_fit pid=5642)\u001b[0m Epoch 2: train loss 0.0004581248795147985, accuracy 0.17777777777777778\n",
            "\u001b[2m\u001b[36m(launch_and_fit pid=5642)\u001b[0m Epoch 3: train loss 0.000454597087809816, accuracy 0.15555555555555556\n"
          ]
        },
        {
          "output_type": "stream",
          "name": "stderr",
          "text": [
            "\u001b[2m\u001b[36m(raylet)\u001b[0m Spilled 8486 MiB, 88 objects, write throughput 160 MiB/s.\n"
          ]
        },
        {
          "output_type": "stream",
          "name": "stdout",
          "text": [
            "\u001b[2m\u001b[36m(launch_and_fit pid=5641)\u001b[0m [Client 617, round 2] fit, config: {'server_round': 2, 'local_epochs': 3}\n",
            "\u001b[2m\u001b[36m(launch_and_fit pid=5641)\u001b[0m Epoch 1: train loss 0.0004623794520739466, accuracy 0.1111111111111111\n",
            "\u001b[2m\u001b[36m(launch_and_fit pid=5641)\u001b[0m Epoch 2: train loss 0.00045591717935167253, accuracy 0.1111111111111111\n",
            "\u001b[2m\u001b[36m(launch_and_fit pid=5642)\u001b[0m [Client 461, round 2] fit, config: {'server_round': 2, 'local_epochs': 3}\n",
            "\u001b[2m\u001b[36m(launch_and_fit pid=5641)\u001b[0m Epoch 3: train loss 0.00045352531014941633, accuracy 0.1111111111111111\n",
            "\u001b[2m\u001b[36m(launch_and_fit pid=5642)\u001b[0m Epoch 1: train loss 0.0004594751226250082, accuracy 0.13333333333333333\n",
            "\u001b[2m\u001b[36m(launch_and_fit pid=5642)\u001b[0m Epoch 2: train loss 0.0004560051020234823, accuracy 0.17777777777777778\n",
            "\u001b[2m\u001b[36m(launch_and_fit pid=5642)\u001b[0m Epoch 3: train loss 0.0004499562201090157, accuracy 0.2\n",
            "\u001b[2m\u001b[36m(launch_and_fit pid=5642)\u001b[0m [Client 655, round 2] fit, config: {'server_round': 2, 'local_epochs': 3}\n",
            "\u001b[2m\u001b[36m(launch_and_fit pid=5642)\u001b[0m Epoch 1: train loss 0.00046361799468286335, accuracy 0.0\n",
            "\u001b[2m\u001b[36m(launch_and_fit pid=5641)\u001b[0m [Client 314, round 2] fit, config: {'server_round': 2, 'local_epochs': 3}\n",
            "\u001b[2m\u001b[36m(launch_and_fit pid=5642)\u001b[0m Epoch 2: train loss 0.0004597596125677228, accuracy 0.08888888888888889\n",
            "\u001b[2m\u001b[36m(launch_and_fit pid=5641)\u001b[0m Epoch 1: train loss 0.0004636980884242803, accuracy 0.1111111111111111\n",
            "\u001b[2m\u001b[36m(launch_and_fit pid=5642)\u001b[0m Epoch 3: train loss 0.0004543461836874485, accuracy 0.13333333333333333\n",
            "\u001b[2m\u001b[36m(launch_and_fit pid=5641)\u001b[0m Epoch 2: train loss 0.00045822333777323365, accuracy 0.1111111111111111\n",
            "\u001b[2m\u001b[36m(launch_and_fit pid=5641)\u001b[0m Epoch 3: train loss 0.0004480313800740987, accuracy 0.1111111111111111\n",
            "\u001b[2m\u001b[36m(launch_and_fit pid=5642)\u001b[0m [Client 517, round 2] fit, config: {'server_round': 2, 'local_epochs': 3}\n",
            "\u001b[2m\u001b[36m(launch_and_fit pid=5642)\u001b[0m Epoch 1: train loss 0.00045946642057970166, accuracy 0.15555555555555556\n",
            "\u001b[2m\u001b[36m(launch_and_fit pid=5641)\u001b[0m [Client 718, round 2] fit, config: {'server_round': 2, 'local_epochs': 3}\n",
            "\u001b[2m\u001b[36m(launch_and_fit pid=5642)\u001b[0m Epoch 2: train loss 0.0004579043888952583, accuracy 0.13333333333333333\n",
            "\u001b[2m\u001b[36m(launch_and_fit pid=5641)\u001b[0m Epoch 1: train loss 0.00046267634024843574, accuracy 0.044444444444444446\n",
            "\u001b[2m\u001b[36m(launch_and_fit pid=5641)\u001b[0m Epoch 2: train loss 0.00045663680066354573, accuracy 0.08888888888888889\n",
            "\u001b[2m\u001b[36m(launch_and_fit pid=5641)\u001b[0m Epoch 3: train loss 0.00045423812116496265, accuracy 0.1111111111111111\n",
            "\u001b[2m\u001b[36m(launch_and_fit pid=5642)\u001b[0m Epoch 3: train loss 0.00045085715828463435, accuracy 0.13333333333333333\n",
            "\u001b[2m\u001b[36m(launch_and_fit pid=5641)\u001b[0m [Client 470, round 2] fit, config: {'server_round': 2, 'local_epochs': 3}\n",
            "\u001b[2m\u001b[36m(launch_and_fit pid=5641)\u001b[0m Epoch 1: train loss 0.0004621318948920816, accuracy 0.044444444444444446\n",
            "\u001b[2m\u001b[36m(launch_and_fit pid=5641)\u001b[0m Epoch 2: train loss 0.000457090005511418, accuracy 0.2222222222222222\n",
            "\u001b[2m\u001b[36m(launch_and_fit pid=5642)\u001b[0m [Client 183, round 2] fit, config: {'server_round': 2, 'local_epochs': 3}\n",
            "\u001b[2m\u001b[36m(launch_and_fit pid=5641)\u001b[0m Epoch 3: train loss 0.0004526402335613966, accuracy 0.2222222222222222\n",
            "\u001b[2m\u001b[36m(launch_and_fit pid=5642)\u001b[0m Epoch 1: train loss 0.00046202808152884245, accuracy 0.13333333333333333\n",
            "\u001b[2m\u001b[36m(launch_and_fit pid=5642)\u001b[0m Epoch 2: train loss 0.00045591453090310097, accuracy 0.15555555555555556\n",
            "\u001b[2m\u001b[36m(launch_and_fit pid=5642)\u001b[0m Epoch 3: train loss 0.00045512185897678137, accuracy 0.15555555555555556\n",
            "\u001b[2m\u001b[36m(launch_and_fit pid=5641)\u001b[0m [Client 576, round 2] fit, config: {'server_round': 2, 'local_epochs': 3}\n",
            "\u001b[2m\u001b[36m(launch_and_fit pid=5641)\u001b[0m Epoch 1: train loss 0.00046200607903301716, accuracy 0.1111111111111111\n",
            "\u001b[2m\u001b[36m(launch_and_fit pid=5641)\u001b[0m Epoch 2: train loss 0.0004584858543239534, accuracy 0.17777777777777778\n",
            "\u001b[2m\u001b[36m(launch_and_fit pid=5641)\u001b[0m Epoch 3: train loss 0.000454608874861151, accuracy 0.2\n",
            "\u001b[2m\u001b[36m(launch_and_fit pid=5642)\u001b[0m [Client 246, round 2] fit, config: {'server_round': 2, 'local_epochs': 3}\n",
            "\u001b[2m\u001b[36m(launch_and_fit pid=5642)\u001b[0m Epoch 1: train loss 0.00046274514170363545, accuracy 0.1111111111111111\n",
            "\u001b[2m\u001b[36m(launch_and_fit pid=5642)\u001b[0m Epoch 2: train loss 0.0004590892931446433, accuracy 0.13333333333333333\n",
            "\u001b[2m\u001b[36m(launch_and_fit pid=5641)\u001b[0m [Client 542, round 2] fit, config: {'server_round': 2, 'local_epochs': 3}\n",
            "\u001b[2m\u001b[36m(launch_and_fit pid=5641)\u001b[0m Epoch 1: train loss 0.00045926886377856135, accuracy 0.26666666666666666\n",
            "\u001b[2m\u001b[36m(launch_and_fit pid=5642)\u001b[0m Epoch 3: train loss 0.00045682821655645967, accuracy 0.13333333333333333\n",
            "\u001b[2m\u001b[36m(launch_and_fit pid=5641)\u001b[0m Epoch 2: train loss 0.0004518867935985327, accuracy 0.2222222222222222\n",
            "\u001b[2m\u001b[36m(launch_and_fit pid=5641)\u001b[0m Epoch 3: train loss 0.00044853478902950883, accuracy 0.2222222222222222\n",
            "\u001b[2m\u001b[36m(launch_and_fit pid=5642)\u001b[0m [Client 601, round 2] fit, config: {'server_round': 2, 'local_epochs': 3}\n",
            "\u001b[2m\u001b[36m(launch_and_fit pid=5642)\u001b[0m Epoch 1: train loss 0.0004566966090351343, accuracy 0.2\n",
            "\u001b[2m\u001b[36m(launch_and_fit pid=5642)\u001b[0m Epoch 2: train loss 0.0004519995127338916, accuracy 0.26666666666666666\n",
            "\u001b[2m\u001b[36m(launch_and_fit pid=5641)\u001b[0m [Client 61, round 2] fit, config: {'server_round': 2, 'local_epochs': 3}\n",
            "\u001b[2m\u001b[36m(launch_and_fit pid=5642)\u001b[0m Epoch 3: train loss 0.00044561244430951774, accuracy 0.4444444444444444\n",
            "\u001b[2m\u001b[36m(launch_and_fit pid=5641)\u001b[0m Epoch 1: train loss 0.0004605214053299278, accuracy 0.17777777777777778\n",
            "\u001b[2m\u001b[36m(launch_and_fit pid=5641)\u001b[0m Epoch 2: train loss 0.00045217800652608275, accuracy 0.13333333333333333\n",
            "\u001b[2m\u001b[36m(launch_and_fit pid=5641)\u001b[0m Epoch 3: train loss 0.00044724627514369786, accuracy 0.13333333333333333\n"
          ]
        },
        {
          "output_type": "stream",
          "name": "stderr",
          "text": [
            "DEBUG flower 2022-09-20 09:52:56,118 | server.py:234 | fit_round 2 received 25 results and 0 failures\n",
            "DEBUG:flower:fit_round 2 received 25 results and 0 failures\n"
          ]
        },
        {
          "output_type": "stream",
          "name": "stdout",
          "text": [
            "\u001b[2m\u001b[36m(launch_and_fit pid=5641)\u001b[0m [Client 797, round 2] fit, config: {'server_round': 2, 'local_epochs': 3}\n",
            "\u001b[2m\u001b[36m(launch_and_fit pid=5641)\u001b[0m Epoch 1: train loss 0.0004599164822138846, accuracy 0.08888888888888889\n",
            "\u001b[2m\u001b[36m(launch_and_fit pid=5641)\u001b[0m Epoch 2: train loss 0.00045492101344279945, accuracy 0.24444444444444444\n"
          ]
        },
        {
          "output_type": "stream",
          "name": "stderr",
          "text": [
            "DEBUG flower 2022-09-20 09:52:56,234 | server.py:170 | evaluate_round 2: strategy sampled 50 clients (out of 1000)\n",
            "DEBUG:flower:evaluate_round 2: strategy sampled 50 clients (out of 1000)\n"
          ]
        },
        {
          "output_type": "stream",
          "name": "stdout",
          "text": [
            "\u001b[2m\u001b[36m(launch_and_fit pid=5641)\u001b[0m Epoch 3: train loss 0.00044843798968940973, accuracy 0.2222222222222222\n",
            "\u001b[2m\u001b[36m(launch_and_evaluate pid=5641)\u001b[0m [Client 931] evaluate, config: {}\n",
            "\u001b[2m\u001b[36m(launch_and_evaluate pid=5642)\u001b[0m [Client 41] evaluate, config: {}\n",
            "\u001b[2m\u001b[36m(launch_and_evaluate pid=5641)\u001b[0m [Client 467] evaluate, config: {}\n",
            "\u001b[2m\u001b[36m(launch_and_evaluate pid=5641)\u001b[0m [Client 792] evaluate, config: {}\n",
            "\u001b[2m\u001b[36m(launch_and_evaluate pid=5641)\u001b[0m [Client 856] evaluate, config: {}\n",
            "\u001b[2m\u001b[36m(launch_and_evaluate pid=5642)\u001b[0m [Client 469] evaluate, config: {}\n",
            "\u001b[2m\u001b[36m(launch_and_evaluate pid=5641)\u001b[0m [Client 960] evaluate, config: {}\n",
            "\u001b[2m\u001b[36m(launch_and_evaluate pid=5641)\u001b[0m [Client 620] evaluate, config: {}\n",
            "\u001b[2m\u001b[36m(launch_and_evaluate pid=5641)\u001b[0m [Client 780] evaluate, config: {}\n",
            "\u001b[2m\u001b[36m(launch_and_evaluate pid=5641)\u001b[0m [Client 675] evaluate, config: {}\n",
            "\u001b[2m\u001b[36m(launch_and_evaluate pid=5642)\u001b[0m [Client 390] evaluate, config: {}\n",
            "\u001b[2m\u001b[36m(launch_and_evaluate pid=5642)\u001b[0m [Client 922] evaluate, config: {}\n",
            "\u001b[2m\u001b[36m(launch_and_evaluate pid=5642)\u001b[0m [Client 487] evaluate, config: {}\n",
            "\u001b[2m\u001b[36m(launch_and_evaluate pid=5642)\u001b[0m [Client 822] evaluate, config: {}\n",
            "\u001b[2m\u001b[36m(launch_and_evaluate pid=5641)\u001b[0m [Client 728] evaluate, config: {}\n",
            "\u001b[2m\u001b[36m(launch_and_evaluate pid=5642)\u001b[0m [Client 170] evaluate, config: {}\n",
            "\u001b[2m\u001b[36m(launch_and_evaluate pid=5642)\u001b[0m [Client 3] evaluate, config: {}\n",
            "\u001b[2m\u001b[36m(launch_and_evaluate pid=5642)\u001b[0m [Client 120] evaluate, config: {}\n",
            "\u001b[2m\u001b[36m(launch_and_evaluate pid=5641)\u001b[0m [Client 466] evaluate, config: {}\n",
            "\u001b[2m\u001b[36m(launch_and_evaluate pid=5642)\u001b[0m [Client 422] evaluate, config: {}\n",
            "\u001b[2m\u001b[36m(launch_and_evaluate pid=5642)\u001b[0m [Client 764] evaluate, config: {}\n",
            "\u001b[2m\u001b[36m(launch_and_evaluate pid=5642)\u001b[0m [Client 623] evaluate, config: {}\n",
            "\u001b[2m\u001b[36m(launch_and_evaluate pid=5641)\u001b[0m [Client 610] evaluate, config: {}\n",
            "\u001b[2m\u001b[36m(launch_and_evaluate pid=5642)\u001b[0m [Client 711] evaluate, config: {}\n",
            "\u001b[2m\u001b[36m(launch_and_evaluate pid=5642)\u001b[0m [Client 442] evaluate, config: {}\n",
            "\u001b[2m\u001b[36m(launch_and_evaluate pid=5642)\u001b[0m [Client 987] evaluate, config: {}\n",
            "\u001b[2m\u001b[36m(launch_and_evaluate pid=5641)\u001b[0m [Client 925] evaluate, config: {}\n",
            "\u001b[2m\u001b[36m(launch_and_evaluate pid=5641)\u001b[0m [Client 136] evaluate, config: {}\n",
            "\u001b[2m\u001b[36m(launch_and_evaluate pid=5642)\u001b[0m [Client 680] evaluate, config: {}\n",
            "\u001b[2m\u001b[36m(launch_and_evaluate pid=5642)\u001b[0m [Client 174] evaluate, config: {}\n",
            "\u001b[2m\u001b[36m(launch_and_evaluate pid=5641)\u001b[0m [Client 272] evaluate, config: {}\n",
            "\u001b[2m\u001b[36m(launch_and_evaluate pid=5641)\u001b[0m [Client 643] evaluate, config: {}\n",
            "\u001b[2m\u001b[36m(launch_and_evaluate pid=5641)\u001b[0m [Client 294] evaluate, config: {}\n",
            "\u001b[2m\u001b[36m(launch_and_evaluate pid=5641)\u001b[0m [Client 83] evaluate, config: {}\n",
            "\u001b[2m\u001b[36m(launch_and_evaluate pid=5641)\u001b[0m [Client 262] evaluate, config: {}\n",
            "\u001b[2m\u001b[36m(launch_and_evaluate pid=5641)\u001b[0m [Client 237] evaluate, config: {}\n",
            "\u001b[2m\u001b[36m(launch_and_evaluate pid=5641)\u001b[0m [Client 221] evaluate, config: {}\n",
            "\u001b[2m\u001b[36m(launch_and_evaluate pid=5641)\u001b[0m [Client 244] evaluate, config: {}\n",
            "\u001b[2m\u001b[36m(launch_and_evaluate pid=5642)\u001b[0m [Client 12] evaluate, config: {}\n",
            "\u001b[2m\u001b[36m(launch_and_evaluate pid=5641)\u001b[0m [Client 361] evaluate, config: {}\n",
            "\u001b[2m\u001b[36m(launch_and_evaluate pid=5642)\u001b[0m [Client 736] evaluate, config: {}\n",
            "\u001b[2m\u001b[36m(launch_and_evaluate pid=5641)\u001b[0m [Client 781] evaluate, config: {}\n",
            "\u001b[2m\u001b[36m(launch_and_evaluate pid=5642)\u001b[0m [Client 385] evaluate, config: {}\n",
            "\u001b[2m\u001b[36m(launch_and_evaluate pid=5641)\u001b[0m [Client 731] evaluate, config: {}\n",
            "\u001b[2m\u001b[36m(launch_and_evaluate pid=5642)\u001b[0m [Client 266] evaluate, config: {}\n",
            "\u001b[2m\u001b[36m(launch_and_evaluate pid=5642)\u001b[0m [Client 862] evaluate, config: {}\n",
            "\u001b[2m\u001b[36m(launch_and_evaluate pid=5641)\u001b[0m [Client 161] evaluate, config: {}\n",
            "\u001b[2m\u001b[36m(launch_and_evaluate pid=5642)\u001b[0m [Client 394] evaluate, config: {}\n",
            "\u001b[2m\u001b[36m(launch_and_evaluate pid=5641)\u001b[0m [Client 916] evaluate, config: {}\n"
          ]
        },
        {
          "output_type": "stream",
          "name": "stderr",
          "text": [
            "DEBUG flower 2022-09-20 09:54:51,023 | server.py:184 | evaluate_round 2 received 50 results and 0 failures\n",
            "DEBUG:flower:evaluate_round 2 received 50 results and 0 failures\n",
            "DEBUG flower 2022-09-20 09:54:51,029 | server.py:220 | fit_round 3: strategy sampled 25 clients (out of 1000)\n",
            "DEBUG:flower:fit_round 3: strategy sampled 25 clients (out of 1000)\n"
          ]
        },
        {
          "output_type": "stream",
          "name": "stdout",
          "text": [
            "\u001b[2m\u001b[36m(launch_and_evaluate pid=5642)\u001b[0m [Client 384] evaluate, config: {}\n",
            "\u001b[2m\u001b[36m(launch_and_fit pid=5642)\u001b[0m [Client 143, round 3] fit, config: {'server_round': 3, 'local_epochs': 3}\n",
            "\u001b[2m\u001b[36m(launch_and_fit pid=5642)\u001b[0m Epoch 1: train loss 0.00045727292308583856, accuracy 0.022222222222222223\n",
            "\u001b[2m\u001b[36m(launch_and_fit pid=5642)\u001b[0m Epoch 2: train loss 0.00045261383638717234, accuracy 0.17777777777777778\n",
            "\u001b[2m\u001b[36m(launch_and_fit pid=5642)\u001b[0m Epoch 3: train loss 0.00044517527567222714, accuracy 0.37777777777777777\n",
            "\u001b[2m\u001b[36m(launch_and_fit pid=5642)\u001b[0m [Client 629, round 3] fit, config: {'server_round': 3, 'local_epochs': 3}\n",
            "\u001b[2m\u001b[36m(launch_and_fit pid=5642)\u001b[0m Epoch 1: train loss 0.0004589199088513851, accuracy 0.08888888888888889\n",
            "\u001b[2m\u001b[36m(launch_and_fit pid=5642)\u001b[0m Epoch 2: train loss 0.0004510775615926832, accuracy 0.24444444444444444\n",
            "\u001b[2m\u001b[36m(launch_and_fit pid=5642)\u001b[0m Epoch 3: train loss 0.0004426534578669816, accuracy 0.26666666666666666\n",
            "\u001b[2m\u001b[36m(launch_and_fit pid=5641)\u001b[0m [Client 805, round 3] fit, config: {'server_round': 3, 'local_epochs': 3}\n",
            "\u001b[2m\u001b[36m(launch_and_fit pid=5641)\u001b[0m Epoch 1: train loss 0.00046082306653261185, accuracy 0.06666666666666667\n",
            "\u001b[2m\u001b[36m(launch_and_fit pid=5641)\u001b[0m Epoch 2: train loss 0.0004551926685962826, accuracy 0.13333333333333333\n",
            "\u001b[2m\u001b[36m(launch_and_fit pid=5642)\u001b[0m [Client 380, round 3] fit, config: {'server_round': 3, 'local_epochs': 3}\n",
            "\u001b[2m\u001b[36m(launch_and_fit pid=5641)\u001b[0m Epoch 3: train loss 0.0004504583775997162, accuracy 0.2\n",
            "\u001b[2m\u001b[36m(launch_and_fit pid=5642)\u001b[0m Epoch 1: train loss 0.00045707111712545156, accuracy 0.2222222222222222\n",
            "\u001b[2m\u001b[36m(launch_and_fit pid=5642)\u001b[0m Epoch 2: train loss 0.0004524763207882643, accuracy 0.24444444444444444\n",
            "\u001b[2m\u001b[36m(launch_and_fit pid=5642)\u001b[0m Epoch 3: train loss 0.0004480177885852754, accuracy 0.24444444444444444\n",
            "\u001b[2m\u001b[36m(launch_and_fit pid=5642)\u001b[0m [Client 904, round 3] fit, config: {'server_round': 3, 'local_epochs': 3}\n",
            "\u001b[2m\u001b[36m(launch_and_fit pid=5642)\u001b[0m Epoch 1: train loss 0.000462858472019434, accuracy 0.1111111111111111\n",
            "\u001b[2m\u001b[36m(launch_and_fit pid=5642)\u001b[0m Epoch 2: train loss 0.0004581651301123202, accuracy 0.17777777777777778\n",
            "\u001b[2m\u001b[36m(launch_and_fit pid=5642)\u001b[0m Epoch 3: train loss 0.00045189104275777936, accuracy 0.2\n",
            "\u001b[2m\u001b[36m(launch_and_fit pid=5642)\u001b[0m [Client 204, round 3] fit, config: {'server_round': 3, 'local_epochs': 3}\n",
            "\u001b[2m\u001b[36m(launch_and_fit pid=5642)\u001b[0m Epoch 1: train loss 0.0004616776423063129, accuracy 0.08888888888888889\n",
            "\u001b[2m\u001b[36m(launch_and_fit pid=5642)\u001b[0m Epoch 2: train loss 0.0004520598449744284, accuracy 0.17777777777777778\n",
            "\u001b[2m\u001b[36m(launch_and_fit pid=5642)\u001b[0m Epoch 3: train loss 0.00044693375821225345, accuracy 0.2\n",
            "\u001b[2m\u001b[36m(launch_and_fit pid=5642)\u001b[0m [Client 711, round 3] fit, config: {'server_round': 3, 'local_epochs': 3}\n",
            "\u001b[2m\u001b[36m(launch_and_fit pid=5642)\u001b[0m Epoch 1: train loss 0.00045915108057670295, accuracy 0.08888888888888889\n",
            "\u001b[2m\u001b[36m(launch_and_fit pid=5642)\u001b[0m Epoch 2: train loss 0.0004520437214523554, accuracy 0.28888888888888886\n",
            "\u001b[2m\u001b[36m(launch_and_fit pid=5642)\u001b[0m Epoch 3: train loss 0.00044730695663020015, accuracy 0.26666666666666666\n",
            "\u001b[2m\u001b[36m(launch_and_fit pid=5642)\u001b[0m [Client 239, round 3] fit, config: {'server_round': 3, 'local_epochs': 3}\n",
            "\u001b[2m\u001b[36m(launch_and_fit pid=5642)\u001b[0m Epoch 1: train loss 0.00045580739970318973, accuracy 0.1111111111111111\n",
            "\u001b[2m\u001b[36m(launch_and_fit pid=5642)\u001b[0m Epoch 2: train loss 0.0004482554504647851, accuracy 0.28888888888888886\n",
            "\u001b[2m\u001b[36m(launch_and_fit pid=5642)\u001b[0m Epoch 3: train loss 0.0004444910155143589, accuracy 0.3111111111111111\n"
          ]
        },
        {
          "output_type": "stream",
          "name": "stderr",
          "text": [
            "\u001b[2m\u001b[36m(raylet)\u001b[0m Spilled 16440 MiB, 160 objects, write throughput 168 MiB/s.\n"
          ]
        },
        {
          "output_type": "stream",
          "name": "stdout",
          "text": [
            "\u001b[2m\u001b[36m(launch_and_fit pid=5641)\u001b[0m [Client 179, round 3] fit, config: {'server_round': 3, 'local_epochs': 3}\n",
            "\u001b[2m\u001b[36m(launch_and_fit pid=5641)\u001b[0m Epoch 1: train loss 0.0004571093595586717, accuracy 0.1111111111111111\n",
            "\u001b[2m\u001b[36m(launch_and_fit pid=5641)\u001b[0m Epoch 2: train loss 0.0004520481452345848, accuracy 0.13333333333333333\n",
            "\u001b[2m\u001b[36m(launch_and_fit pid=5641)\u001b[0m Epoch 3: train loss 0.00044376420555636287, accuracy 0.15555555555555556\n",
            "\u001b[2m\u001b[36m(launch_and_fit pid=5642)\u001b[0m [Client 96, round 3] fit, config: {'server_round': 3, 'local_epochs': 3}\n",
            "\u001b[2m\u001b[36m(launch_and_fit pid=5642)\u001b[0m Epoch 1: train loss 0.0004598434315994382, accuracy 0.1111111111111111\n",
            "\u001b[2m\u001b[36m(launch_and_fit pid=5642)\u001b[0m Epoch 2: train loss 0.00045407324796542525, accuracy 0.15555555555555556\n",
            "\u001b[2m\u001b[36m(launch_and_fit pid=5642)\u001b[0m Epoch 3: train loss 0.0004453324363566935, accuracy 0.24444444444444444\n",
            "\u001b[2m\u001b[36m(launch_and_fit pid=5642)\u001b[0m [Client 848, round 3] fit, config: {'server_round': 3, 'local_epochs': 3}\n",
            "\u001b[2m\u001b[36m(launch_and_fit pid=5641)\u001b[0m [Client 865, round 3] fit, config: {'server_round': 3, 'local_epochs': 3}\n",
            "\u001b[2m\u001b[36m(launch_and_fit pid=5642)\u001b[0m Epoch 1: train loss 0.0004612313350662589, accuracy 0.2222222222222222\n",
            "\u001b[2m\u001b[36m(launch_and_fit pid=5641)\u001b[0m Epoch 1: train loss 0.0004615110519807786, accuracy 0.06666666666666667\n",
            "\u001b[2m\u001b[36m(launch_and_fit pid=5641)\u001b[0m Epoch 2: train loss 0.00045389682054519653, accuracy 0.1111111111111111\n",
            "\u001b[2m\u001b[36m(launch_and_fit pid=5642)\u001b[0m Epoch 2: train loss 0.00045373954344540834, accuracy 0.13333333333333333\n",
            "\u001b[2m\u001b[36m(launch_and_fit pid=5642)\u001b[0m Epoch 3: train loss 0.0004473974113352597, accuracy 0.17777777777777778\n",
            "\u001b[2m\u001b[36m(launch_and_fit pid=5641)\u001b[0m Epoch 3: train loss 0.00044839197653345764, accuracy 0.2222222222222222\n",
            "\u001b[2m\u001b[36m(launch_and_fit pid=5641)\u001b[0m [Client 49, round 3] fit, config: {'server_round': 3, 'local_epochs': 3}\n",
            "\u001b[2m\u001b[36m(launch_and_fit pid=5641)\u001b[0m Epoch 1: train loss 0.0004595977661665529, accuracy 0.15555555555555556\n",
            "\u001b[2m\u001b[36m(launch_and_fit pid=5641)\u001b[0m Epoch 2: train loss 0.000455779314506799, accuracy 0.17777777777777778\n",
            "\u001b[2m\u001b[36m(launch_and_fit pid=5641)\u001b[0m Epoch 3: train loss 0.0004515478212852031, accuracy 0.3333333333333333\n",
            "\u001b[2m\u001b[36m(launch_and_fit pid=5642)\u001b[0m [Client 238, round 3] fit, config: {'server_round': 3, 'local_epochs': 3}\n",
            "\u001b[2m\u001b[36m(launch_and_fit pid=5642)\u001b[0m Epoch 1: train loss 0.00045934796798974276, accuracy 0.13333333333333333\n",
            "\u001b[2m\u001b[36m(launch_and_fit pid=5641)\u001b[0m [Client 46, round 3] fit, config: {'server_round': 3, 'local_epochs': 3}\n",
            "\u001b[2m\u001b[36m(launch_and_fit pid=5642)\u001b[0m Epoch 2: train loss 0.0004527736164163798, accuracy 0.2222222222222222\n",
            "\u001b[2m\u001b[36m(launch_and_fit pid=5641)\u001b[0m Epoch 1: train loss 0.0004541505768429488, accuracy 0.17777777777777778\n",
            "\u001b[2m\u001b[36m(launch_and_fit pid=5641)\u001b[0m Epoch 2: train loss 0.0004451391287147999, accuracy 0.2222222222222222\n",
            "\u001b[2m\u001b[36m(launch_and_fit pid=5642)\u001b[0m Epoch 3: train loss 0.0004426889936439693, accuracy 0.15555555555555556\n",
            "\u001b[2m\u001b[36m(launch_and_fit pid=5641)\u001b[0m Epoch 3: train loss 0.0004425084625836462, accuracy 0.15555555555555556\n",
            "\u001b[2m\u001b[36m(launch_and_fit pid=5642)\u001b[0m [Client 796, round 3] fit, config: {'server_round': 3, 'local_epochs': 3}\n",
            "\u001b[2m\u001b[36m(launch_and_fit pid=5642)\u001b[0m Epoch 1: train loss 0.00045728840632364154, accuracy 0.1111111111111111\n",
            "\u001b[2m\u001b[36m(launch_and_fit pid=5642)\u001b[0m Epoch 2: train loss 0.00044471980072557926, accuracy 0.17777777777777778\n",
            "\u001b[2m\u001b[36m(launch_and_fit pid=5642)\u001b[0m Epoch 3: train loss 0.0004415891307871789, accuracy 0.17777777777777778\n",
            "\u001b[2m\u001b[36m(launch_and_fit pid=5642)\u001b[0m [Client 673, round 3] fit, config: {'server_round': 3, 'local_epochs': 3}\n",
            "\u001b[2m\u001b[36m(launch_and_fit pid=5641)\u001b[0m [Client 431, round 3] fit, config: {'server_round': 3, 'local_epochs': 3}\n",
            "\u001b[2m\u001b[36m(launch_and_fit pid=5642)\u001b[0m Epoch 1: train loss 0.0004568572621792555, accuracy 0.2222222222222222\n",
            "\u001b[2m\u001b[36m(launch_and_fit pid=5641)\u001b[0m Epoch 1: train loss 0.00045726183452643454, accuracy 0.13333333333333333\n",
            "\u001b[2m\u001b[36m(launch_and_fit pid=5642)\u001b[0m Epoch 2: train loss 0.00045233286800794303, accuracy 0.13333333333333333\n",
            "\u001b[2m\u001b[36m(launch_and_fit pid=5642)\u001b[0m Epoch 3: train loss 0.00044390655239112675, accuracy 0.15555555555555556\n",
            "\u001b[2m\u001b[36m(launch_and_fit pid=5641)\u001b[0m Epoch 2: train loss 0.00045185204362496734, accuracy 0.15555555555555556\n",
            "\u001b[2m\u001b[36m(launch_and_fit pid=5641)\u001b[0m Epoch 3: train loss 0.0004417036543600261, accuracy 0.26666666666666666\n",
            "\u001b[2m\u001b[36m(launch_and_fit pid=5641)\u001b[0m [Client 794, round 3] fit, config: {'server_round': 3, 'local_epochs': 3}\n",
            "\u001b[2m\u001b[36m(launch_and_fit pid=5641)\u001b[0m Epoch 1: train loss 0.000459747709101066, accuracy 0.08888888888888889\n",
            "\u001b[2m\u001b[36m(launch_and_fit pid=5641)\u001b[0m Epoch 2: train loss 0.0004518840869423002, accuracy 0.15555555555555556\n",
            "\u001b[2m\u001b[36m(launch_and_fit pid=5641)\u001b[0m Epoch 3: train loss 0.00045181141467764974, accuracy 0.24444444444444444\n",
            "\u001b[2m\u001b[36m(launch_and_fit pid=5641)\u001b[0m [Client 857, round 3] fit, config: {'server_round': 3, 'local_epochs': 3}\n",
            "\u001b[2m\u001b[36m(launch_and_fit pid=5641)\u001b[0m Epoch 1: train loss 0.0004600567917805165, accuracy 0.08888888888888889\n",
            "\u001b[2m\u001b[36m(launch_and_fit pid=5641)\u001b[0m Epoch 2: train loss 0.0004528542631305754, accuracy 0.17777777777777778\n",
            "\u001b[2m\u001b[36m(launch_and_fit pid=5641)\u001b[0m Epoch 3: train loss 0.00045190166565589607, accuracy 0.24444444444444444\n",
            "\u001b[2m\u001b[36m(launch_and_fit pid=5641)\u001b[0m [Client 775, round 3] fit, config: {'server_round': 3, 'local_epochs': 3}\n",
            "\u001b[2m\u001b[36m(launch_and_fit pid=5641)\u001b[0m Epoch 1: train loss 0.00046298743109218776, accuracy 0.1111111111111111\n",
            "\u001b[2m\u001b[36m(launch_and_fit pid=5641)\u001b[0m Epoch 2: train loss 0.000457437097793445, accuracy 0.13333333333333333\n",
            "\u001b[2m\u001b[36m(launch_and_fit pid=5641)\u001b[0m Epoch 3: train loss 0.00045075913658365607, accuracy 0.15555555555555556\n",
            "\u001b[2m\u001b[36m(launch_and_fit pid=5641)\u001b[0m [Client 408, round 3] fit, config: {'server_round': 3, 'local_epochs': 3}\n",
            "\u001b[2m\u001b[36m(launch_and_fit pid=5641)\u001b[0m Epoch 1: train loss 0.00045286864042282104, accuracy 0.15555555555555556\n",
            "\u001b[2m\u001b[36m(launch_and_fit pid=5641)\u001b[0m Epoch 2: train loss 0.00044088621507398784, accuracy 0.3333333333333333\n",
            "\u001b[2m\u001b[36m(launch_and_fit pid=5641)\u001b[0m Epoch 3: train loss 0.00042877206578850746, accuracy 0.2222222222222222\n",
            "\u001b[2m\u001b[36m(launch_and_fit pid=5641)\u001b[0m [Client 532, round 3] fit, config: {'server_round': 3, 'local_epochs': 3}\n",
            "\u001b[2m\u001b[36m(launch_and_fit pid=5641)\u001b[0m Epoch 1: train loss 0.0004592589393723756, accuracy 0.17777777777777778\n",
            "\u001b[2m\u001b[36m(launch_and_fit pid=5641)\u001b[0m Epoch 2: train loss 0.0004524062969721854, accuracy 0.28888888888888886\n",
            "\u001b[2m\u001b[36m(launch_and_fit pid=5642)\u001b[0m [Client 188, round 3] fit, config: {'server_round': 3, 'local_epochs': 3}\n",
            "\u001b[2m\u001b[36m(launch_and_fit pid=5641)\u001b[0m Epoch 3: train loss 0.0004444476217031479, accuracy 0.4\n",
            "\u001b[2m\u001b[36m(launch_and_fit pid=5642)\u001b[0m Epoch 1: train loss 0.00045858940575271845, accuracy 0.08888888888888889\n",
            "\u001b[2m\u001b[36m(launch_and_fit pid=5642)\u001b[0m Epoch 2: train loss 0.0004536300548352301, accuracy 0.2222222222222222\n",
            "\u001b[2m\u001b[36m(launch_and_fit pid=5642)\u001b[0m Epoch 3: train loss 0.0004432802088558674, accuracy 0.17777777777777778\n",
            "\u001b[2m\u001b[36m(launch_and_fit pid=5642)\u001b[0m [Client 309, round 3] fit, config: {'server_round': 3, 'local_epochs': 3}\n"
          ]
        },
        {
          "output_type": "stream",
          "name": "stderr",
          "text": [
            "DEBUG flower 2022-09-20 09:56:17,339 | server.py:234 | fit_round 3 received 25 results and 0 failures\n",
            "DEBUG:flower:fit_round 3 received 25 results and 0 failures\n"
          ]
        },
        {
          "output_type": "stream",
          "name": "stdout",
          "text": [
            "\u001b[2m\u001b[36m(launch_and_fit pid=5642)\u001b[0m Epoch 1: train loss 0.0004605723370332271, accuracy 0.1111111111111111\n",
            "\u001b[2m\u001b[36m(launch_and_fit pid=5642)\u001b[0m Epoch 2: train loss 0.00045473049976862967, accuracy 0.15555555555555556\n",
            "\u001b[2m\u001b[36m(launch_and_fit pid=5642)\u001b[0m Epoch 3: train loss 0.00045159473665989935, accuracy 0.24444444444444444\n"
          ]
        },
        {
          "output_type": "stream",
          "name": "stderr",
          "text": [
            "DEBUG flower 2022-09-20 09:56:17,519 | server.py:170 | evaluate_round 3: strategy sampled 50 clients (out of 1000)\n",
            "DEBUG:flower:evaluate_round 3: strategy sampled 50 clients (out of 1000)\n"
          ]
        },
        {
          "output_type": "stream",
          "name": "stdout",
          "text": [
            "\u001b[2m\u001b[36m(launch_and_evaluate pid=5642)\u001b[0m [Client 846] evaluate, config: {}\n",
            "\u001b[2m\u001b[36m(launch_and_evaluate pid=5642)\u001b[0m [Client 836] evaluate, config: {}\n",
            "\u001b[2m\u001b[36m(launch_and_evaluate pid=5641)\u001b[0m [Client 452] evaluate, config: {}\n",
            "\u001b[2m\u001b[36m(launch_and_evaluate pid=5641)\u001b[0m [Client 750] evaluate, config: {}\n",
            "\u001b[2m\u001b[36m(launch_and_evaluate pid=5641)\u001b[0m [Client 910] evaluate, config: {}\n",
            "\u001b[2m\u001b[36m(launch_and_evaluate pid=5641)\u001b[0m [Client 574] evaluate, config: {}\n",
            "\u001b[2m\u001b[36m(launch_and_evaluate pid=5642)\u001b[0m [Client 434] evaluate, config: {}\n",
            "\u001b[2m\u001b[36m(launch_and_evaluate pid=5641)\u001b[0m [Client 536] evaluate, config: {}\n",
            "\u001b[2m\u001b[36m(launch_and_evaluate pid=5641)\u001b[0m [Client 691] evaluate, config: {}\n",
            "\u001b[2m\u001b[36m(launch_and_evaluate pid=5642)\u001b[0m [Client 727] evaluate, config: {}\n",
            "\u001b[2m\u001b[36m(launch_and_evaluate pid=5641)\u001b[0m [Client 573] evaluate, config: {}\n",
            "\u001b[2m\u001b[36m(launch_and_evaluate pid=5642)\u001b[0m [Client 161] evaluate, config: {}\n",
            "\u001b[2m\u001b[36m(launch_and_evaluate pid=5642)\u001b[0m [Client 145] evaluate, config: {}\n",
            "\u001b[2m\u001b[36m(launch_and_evaluate pid=5641)\u001b[0m [Client 371] evaluate, config: {}\n",
            "\u001b[2m\u001b[36m(launch_and_evaluate pid=5641)\u001b[0m [Client 85] evaluate, config: {}\n",
            "\u001b[2m\u001b[36m(launch_and_evaluate pid=5641)\u001b[0m [Client 52] evaluate, config: {}\n",
            "\u001b[2m\u001b[36m(launch_and_evaluate pid=5642)\u001b[0m [Client 980] evaluate, config: {}\n",
            "\u001b[2m\u001b[36m(launch_and_evaluate pid=5641)\u001b[0m [Client 31] evaluate, config: {}\n",
            "\u001b[2m\u001b[36m(launch_and_evaluate pid=5642)\u001b[0m [Client 419] evaluate, config: {}\n",
            "\u001b[2m\u001b[36m(launch_and_evaluate pid=5641)\u001b[0m [Client 306] evaluate, config: {}\n",
            "\u001b[2m\u001b[36m(launch_and_evaluate pid=5641)\u001b[0m [Client 599] evaluate, config: {}\n",
            "\u001b[2m\u001b[36m(launch_and_evaluate pid=5641)\u001b[0m [Client 616] evaluate, config: {}\n",
            "\u001b[2m\u001b[36m(launch_and_evaluate pid=5642)\u001b[0m [Client 183] evaluate, config: {}\n",
            "\u001b[2m\u001b[36m(launch_and_evaluate pid=5642)\u001b[0m [Client 132] evaluate, config: {}\n",
            "\u001b[2m\u001b[36m(launch_and_evaluate pid=5642)\u001b[0m [Client 353] evaluate, config: {}\n",
            "\u001b[2m\u001b[36m(launch_and_evaluate pid=5641)\u001b[0m [Client 55] evaluate, config: {}\n",
            "\u001b[2m\u001b[36m(launch_and_evaluate pid=5641)\u001b[0m [Client 327] evaluate, config: {}\n",
            "\u001b[2m\u001b[36m(launch_and_evaluate pid=5642)\u001b[0m [Client 177] evaluate, config: {}\n",
            "\u001b[2m\u001b[36m(launch_and_evaluate pid=5642)\u001b[0m [Client 647] evaluate, config: {}\n",
            "\u001b[2m\u001b[36m(launch_and_evaluate pid=5642)\u001b[0m [Client 437] evaluate, config: {}\n",
            "\u001b[2m\u001b[36m(launch_and_evaluate pid=5641)\u001b[0m [Client 883] evaluate, config: {}\n",
            "\u001b[2m\u001b[36m(launch_and_evaluate pid=5642)\u001b[0m [Client 214] evaluate, config: {}\n",
            "\u001b[2m\u001b[36m(launch_and_evaluate pid=5642)\u001b[0m [Client 45] evaluate, config: {}\n",
            "\u001b[2m\u001b[36m(launch_and_evaluate pid=5641)\u001b[0m [Client 792] evaluate, config: {}\n",
            "\u001b[2m\u001b[36m(launch_and_evaluate pid=5641)\u001b[0m [Client 164] evaluate, config: {}\n",
            "\u001b[2m\u001b[36m(launch_and_evaluate pid=5642)\u001b[0m [Client 622] evaluate, config: {}\n",
            "\u001b[2m\u001b[36m(launch_and_evaluate pid=5641)\u001b[0m [Client 377] evaluate, config: {}\n",
            "\u001b[2m\u001b[36m(launch_and_evaluate pid=5642)\u001b[0m [Client 449] evaluate, config: {}\n",
            "\u001b[2m\u001b[36m(launch_and_evaluate pid=5641)\u001b[0m [Client 456] evaluate, config: {}\n",
            "\u001b[2m\u001b[36m(launch_and_evaluate pid=5642)\u001b[0m [Client 22] evaluate, config: {}\n",
            "\u001b[2m\u001b[36m(launch_and_evaluate pid=5642)\u001b[0m [Client 185] evaluate, config: {}\n",
            "\u001b[2m\u001b[36m(launch_and_evaluate pid=5642)\u001b[0m [Client 591] evaluate, config: {}\n",
            "\u001b[2m\u001b[36m(launch_and_evaluate pid=5642)\u001b[0m \n",
            "\u001b[2m\u001b[36m(launch_and_evaluate pid=5642)\u001b[0m [Client 554] evaluate, config: {}\n",
            "\u001b[2m\u001b[36m(launch_and_evaluate pid=5641)\u001b[0m [Client 931] evaluate, config: {}\n",
            "\u001b[2m\u001b[36m(launch_and_evaluate pid=5641)\u001b[0m \n",
            "\u001b[2m\u001b[36m(launch_and_evaluate pid=5641)\u001b[0m [Client 916] evaluate, config: {}\n",
            "\u001b[2m\u001b[36m(launch_and_evaluate pid=5641)\u001b[0m [Client 466] evaluate, config: {}\n",
            "\u001b[2m\u001b[36m(launch_and_evaluate pid=5641)\u001b[0m [Client 700] evaluate, config: {}\n",
            "\u001b[2m\u001b[36m(launch_and_evaluate pid=5641)\u001b[0m [Client 522] evaluate, config: {}\n"
          ]
        },
        {
          "output_type": "stream",
          "name": "stderr",
          "text": [
            "DEBUG flower 2022-09-20 09:58:27,394 | server.py:184 | evaluate_round 3 received 50 results and 0 failures\n",
            "DEBUG:flower:evaluate_round 3 received 50 results and 0 failures\n",
            "INFO flower 2022-09-20 09:58:27,399 | server.py:144 | FL finished in 578.2782158930004\n",
            "INFO:flower:FL finished in 578.2782158930004\n",
            "INFO flower 2022-09-20 09:58:27,403 | app.py:180 | app_fit: losses_distributed [(1, 0.46103102016448977), (2, 0.46044590759277354), (3, 0.4565942201614379)]\n",
            "INFO:flower:app_fit: losses_distributed [(1, 0.46103102016448977), (2, 0.46044590759277354), (3, 0.4565942201614379)]\n",
            "INFO flower 2022-09-20 09:58:27,410 | app.py:181 | app_fit: metrics_distributed {}\n",
            "INFO:flower:app_fit: metrics_distributed {}\n",
            "INFO flower 2022-09-20 09:58:27,419 | app.py:182 | app_fit: losses_centralized []\n",
            "INFO:flower:app_fit: losses_centralized []\n",
            "INFO flower 2022-09-20 09:58:27,422 | app.py:183 | app_fit: metrics_centralized {}\n",
            "INFO:flower:app_fit: metrics_centralized {}\n"
          ]
        },
        {
          "output_type": "stream",
          "name": "stdout",
          "text": [
            "\u001b[2m\u001b[36m(launch_and_evaluate pid=5641)\u001b[0m [Client 756] evaluate, config: {}\n",
            "\u001b[2m\u001b[36m(launch_and_evaluate pid=5642)\u001b[0m [Client 837] evaluate, config: {}\n"
          ]
        },
        {
          "output_type": "execute_result",
          "data": {
            "text/plain": [
              "History (loss, distributed):\n",
              "\tround 1: 0.46103102016448977\n",
              "\tround 2: 0.46044590759277354\n",
              "\tround 3: 0.4565942201614379"
            ]
          },
          "metadata": {},
          "execution_count": 47
        }
      ]
    }
  ]
}